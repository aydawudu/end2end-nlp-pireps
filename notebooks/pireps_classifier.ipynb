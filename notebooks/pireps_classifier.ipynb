{
  "nbformat": 4,
  "nbformat_minor": 0,
  "metadata": {
    "colab": {
      "provenance": []
    },
    "kernelspec": {
      "name": "python3",
      "display_name": "Python 3"
    },
    "language_info": {
      "name": "python"
    },
    "accelerator": "GPU",
    "gpuClass": "standard"
  },
  "cells": [
    {
      "cell_type": "markdown",
      "source": [
        "#Get Helper Functions"
      ],
      "metadata": {
        "id": "6Unc1eSUHwdL"
      }
    },
    {
      "cell_type": "code",
      "source": [
        "!wget https://raw.githubusercontent.com/mrdbourke/tensorflow-deep-learning/main/extras/helper_functions.py\n",
        "\n",
        "#import series of helper functions for the notebook\n",
        "from helper_functions import unzip_data, create_tensorboard_callback, plot_loss_curves, compare_historys"
      ],
      "metadata": {
        "colab": {
          "base_uri": "https://localhost:8080/"
        },
        "id": "_9uIKDjXJKdT",
        "outputId": "199cbd62-048d-4222-f6bd-06608864bdfa"
      },
      "execution_count": 1,
      "outputs": [
        {
          "output_type": "stream",
          "name": "stdout",
          "text": [
            "--2022-09-20 12:45:14--  https://raw.githubusercontent.com/mrdbourke/tensorflow-deep-learning/main/extras/helper_functions.py\n",
            "Resolving raw.githubusercontent.com (raw.githubusercontent.com)... 185.199.108.133, 185.199.110.133, 185.199.111.133, ...\n",
            "Connecting to raw.githubusercontent.com (raw.githubusercontent.com)|185.199.108.133|:443... connected.\n",
            "HTTP request sent, awaiting response... 200 OK\n",
            "Length: 10246 (10K) [text/plain]\n",
            "Saving to: ‘helper_functions.py’\n",
            "\n",
            "\rhelper_functions.py   0%[                    ]       0  --.-KB/s               \rhelper_functions.py 100%[===================>]  10.01K  --.-KB/s    in 0s      \n",
            "\n",
            "2022-09-20 12:45:14 (97.8 MB/s) - ‘helper_functions.py’ saved [10246/10246]\n",
            "\n"
          ]
        }
      ]
    },
    {
      "cell_type": "markdown",
      "source": [
        "#Get Data"
      ],
      "metadata": {
        "id": "QGzlPui5JNfj"
      }
    },
    {
      "cell_type": "code",
      "source": [
        "import pandas as pd\n",
        "import numpy as np\n",
        "import seaborn as sns\n",
        "import matplotlib.pyplot as plt\n",
        "%matplotlib inline\n",
        "\n",
        "\n",
        "train_df=pd.read_csv(\"/content/Train.csv\")\n",
        "val_df=pd.read_csv(\"/content/Val.csv\")\n",
        "test_df=pd.read_csv(\"/content/Test.csv\")\n",
        "train_df.tail()"
      ],
      "metadata": {
        "colab": {
          "base_uri": "https://localhost:8080/",
          "height": 206
        },
        "id": "-j2_PA6OJP-F",
        "outputId": "32b8c2b3-ac66-4fb8-f681-ca93ed83527e"
      },
      "execution_count": 2,
      "outputs": [
        {
          "output_type": "execute_result",
          "data": {
            "text/plain": [
              "                                              Work Steps  \\\n",
              "13173  ANNUNCIATOR BLEED 1 AND 2 ANNUNCIATORBAR LIGHT...   \n",
              "13174                    #1 ENG LOW OIL / LOTO INSTALLED   \n",
              "13175  SCREW MISSING FROM PANEL ABOVE F/O CLOCK / LOT...   \n",
              "13176  MISSING ONE SEAT BELT EXTENDER / LOTO DEVICE I...   \n",
              "13177                 LOUD NOISE IN LAV / LOTO INSTALLED   \n",
              "\n",
              "                                                 Actions  \\\n",
              "13173  . \\n\\nANNUNCIATOR RELAMPED BLEED 1 & 2 ANNUNCI...   \n",
              "13174  . \\n\\nADDED 3 QUARTS TO E1 IAW EMB 145 AMM 12-...   \n",
              "13175  . \\n\\nFOUND AND REINSTALLED SCREW ON MAIN PANE...   \n",
              "13176  . \\n\\nREPLACED SEAT BELT EXTENSION AS REQUIRED...   \n",
              "13177  . \\n\\nRESECURED LOOSE TOILET GASPER LINE FILTE...   \n",
              "\n",
              "                      CATEGORY   \n",
              "13173  COCKPIT LIGHT/PUSHBUTTON  \n",
              "13174               OIL SERVICE  \n",
              "13175       MISSING/LOOSE SCREW  \n",
              "13176    PAX-SEAT BELT EXTENDER  \n",
              "13177         AIR DISTRIBUTION   "
            ],
            "text/html": [
              "\n",
              "  <div id=\"df-4bec0163-cfa2-48c0-bdd2-f7af31c6c5d6\">\n",
              "    <div class=\"colab-df-container\">\n",
              "      <div>\n",
              "<style scoped>\n",
              "    .dataframe tbody tr th:only-of-type {\n",
              "        vertical-align: middle;\n",
              "    }\n",
              "\n",
              "    .dataframe tbody tr th {\n",
              "        vertical-align: top;\n",
              "    }\n",
              "\n",
              "    .dataframe thead th {\n",
              "        text-align: right;\n",
              "    }\n",
              "</style>\n",
              "<table border=\"1\" class=\"dataframe\">\n",
              "  <thead>\n",
              "    <tr style=\"text-align: right;\">\n",
              "      <th></th>\n",
              "      <th>Work Steps</th>\n",
              "      <th>Actions</th>\n",
              "      <th>CATEGORY</th>\n",
              "    </tr>\n",
              "  </thead>\n",
              "  <tbody>\n",
              "    <tr>\n",
              "      <th>13173</th>\n",
              "      <td>ANNUNCIATOR BLEED 1 AND 2 ANNUNCIATORBAR LIGHT...</td>\n",
              "      <td>. \\n\\nANNUNCIATOR RELAMPED BLEED 1 &amp; 2 ANNUNCI...</td>\n",
              "      <td>COCKPIT LIGHT/PUSHBUTTON</td>\n",
              "    </tr>\n",
              "    <tr>\n",
              "      <th>13174</th>\n",
              "      <td>#1 ENG LOW OIL / LOTO INSTALLED</td>\n",
              "      <td>. \\n\\nADDED 3 QUARTS TO E1 IAW EMB 145 AMM 12-...</td>\n",
              "      <td>OIL SERVICE</td>\n",
              "    </tr>\n",
              "    <tr>\n",
              "      <th>13175</th>\n",
              "      <td>SCREW MISSING FROM PANEL ABOVE F/O CLOCK / LOT...</td>\n",
              "      <td>. \\n\\nFOUND AND REINSTALLED SCREW ON MAIN PANE...</td>\n",
              "      <td>MISSING/LOOSE SCREW</td>\n",
              "    </tr>\n",
              "    <tr>\n",
              "      <th>13176</th>\n",
              "      <td>MISSING ONE SEAT BELT EXTENDER / LOTO DEVICE I...</td>\n",
              "      <td>. \\n\\nREPLACED SEAT BELT EXTENSION AS REQUIRED...</td>\n",
              "      <td>PAX-SEAT BELT EXTENDER</td>\n",
              "    </tr>\n",
              "    <tr>\n",
              "      <th>13177</th>\n",
              "      <td>LOUD NOISE IN LAV / LOTO INSTALLED</td>\n",
              "      <td>. \\n\\nRESECURED LOOSE TOILET GASPER LINE FILTE...</td>\n",
              "      <td>AIR DISTRIBUTION</td>\n",
              "    </tr>\n",
              "  </tbody>\n",
              "</table>\n",
              "</div>\n",
              "      <button class=\"colab-df-convert\" onclick=\"convertToInteractive('df-4bec0163-cfa2-48c0-bdd2-f7af31c6c5d6')\"\n",
              "              title=\"Convert this dataframe to an interactive table.\"\n",
              "              style=\"display:none;\">\n",
              "        \n",
              "  <svg xmlns=\"http://www.w3.org/2000/svg\" height=\"24px\"viewBox=\"0 0 24 24\"\n",
              "       width=\"24px\">\n",
              "    <path d=\"M0 0h24v24H0V0z\" fill=\"none\"/>\n",
              "    <path d=\"M18.56 5.44l.94 2.06.94-2.06 2.06-.94-2.06-.94-.94-2.06-.94 2.06-2.06.94zm-11 1L8.5 8.5l.94-2.06 2.06-.94-2.06-.94L8.5 2.5l-.94 2.06-2.06.94zm10 10l.94 2.06.94-2.06 2.06-.94-2.06-.94-.94-2.06-.94 2.06-2.06.94z\"/><path d=\"M17.41 7.96l-1.37-1.37c-.4-.4-.92-.59-1.43-.59-.52 0-1.04.2-1.43.59L10.3 9.45l-7.72 7.72c-.78.78-.78 2.05 0 2.83L4 21.41c.39.39.9.59 1.41.59.51 0 1.02-.2 1.41-.59l7.78-7.78 2.81-2.81c.8-.78.8-2.07 0-2.86zM5.41 20L4 18.59l7.72-7.72 1.47 1.35L5.41 20z\"/>\n",
              "  </svg>\n",
              "      </button>\n",
              "      \n",
              "  <style>\n",
              "    .colab-df-container {\n",
              "      display:flex;\n",
              "      flex-wrap:wrap;\n",
              "      gap: 12px;\n",
              "    }\n",
              "\n",
              "    .colab-df-convert {\n",
              "      background-color: #E8F0FE;\n",
              "      border: none;\n",
              "      border-radius: 50%;\n",
              "      cursor: pointer;\n",
              "      display: none;\n",
              "      fill: #1967D2;\n",
              "      height: 32px;\n",
              "      padding: 0 0 0 0;\n",
              "      width: 32px;\n",
              "    }\n",
              "\n",
              "    .colab-df-convert:hover {\n",
              "      background-color: #E2EBFA;\n",
              "      box-shadow: 0px 1px 2px rgba(60, 64, 67, 0.3), 0px 1px 3px 1px rgba(60, 64, 67, 0.15);\n",
              "      fill: #174EA6;\n",
              "    }\n",
              "\n",
              "    [theme=dark] .colab-df-convert {\n",
              "      background-color: #3B4455;\n",
              "      fill: #D2E3FC;\n",
              "    }\n",
              "\n",
              "    [theme=dark] .colab-df-convert:hover {\n",
              "      background-color: #434B5C;\n",
              "      box-shadow: 0px 1px 3px 1px rgba(0, 0, 0, 0.15);\n",
              "      filter: drop-shadow(0px 1px 2px rgba(0, 0, 0, 0.3));\n",
              "      fill: #FFFFFF;\n",
              "    }\n",
              "  </style>\n",
              "\n",
              "      <script>\n",
              "        const buttonEl =\n",
              "          document.querySelector('#df-4bec0163-cfa2-48c0-bdd2-f7af31c6c5d6 button.colab-df-convert');\n",
              "        buttonEl.style.display =\n",
              "          google.colab.kernel.accessAllowed ? 'block' : 'none';\n",
              "\n",
              "        async function convertToInteractive(key) {\n",
              "          const element = document.querySelector('#df-4bec0163-cfa2-48c0-bdd2-f7af31c6c5d6');\n",
              "          const dataTable =\n",
              "            await google.colab.kernel.invokeFunction('convertToInteractive',\n",
              "                                                     [key], {});\n",
              "          if (!dataTable) return;\n",
              "\n",
              "          const docLinkHtml = 'Like what you see? Visit the ' +\n",
              "            '<a target=\"_blank\" href=https://colab.research.google.com/notebooks/data_table.ipynb>data table notebook</a>'\n",
              "            + ' to learn more about interactive tables.';\n",
              "          element.innerHTML = '';\n",
              "          dataTable['output_type'] = 'display_data';\n",
              "          await google.colab.output.renderOutput(dataTable, element);\n",
              "          const docLink = document.createElement('div');\n",
              "          docLink.innerHTML = docLinkHtml;\n",
              "          element.appendChild(docLink);\n",
              "        }\n",
              "      </script>\n",
              "    </div>\n",
              "  </div>\n",
              "  "
            ]
          },
          "metadata": {},
          "execution_count": 2
        }
      ]
    },
    {
      "cell_type": "code",
      "source": [
        "#Shuffle Training Dataframe\n",
        "train_df_shuffled=train_df.sample(frac=1, random_state=42)\n",
        "train_df_shuffled"
      ],
      "metadata": {
        "colab": {
          "base_uri": "https://localhost:8080/",
          "height": 424
        },
        "id": "6LCYxFt7Ji6N",
        "outputId": "209bb45c-1a36-459a-d7fd-374f53166f79"
      },
      "execution_count": 3,
      "outputs": [
        {
          "output_type": "execute_result",
          "data": {
            "text/plain": [
              "                                              Work Steps  \\\n",
              "11121  BOTH PORTABLE O2 BOTTLES IN CABIN DEPLETED / L...   \n",
              "10507                                ENGINE 2 HUNG START   \n",
              "3013      FO`S MFD KNOB IS UNABLE OR DIFFICULT TO SELECT   \n",
              "4091      FO PTT BUTTON PLACARD MISSING / LOTO INSTALLED   \n",
              "2348        SEAT 18C READING LIGHT INOP / LOTO INSTALLED   \n",
              "...                                                  ...   \n",
              "11964                 18C ARMREST BROKE / LOTO INSTALLED   \n",
              "5191   GPWS ON APPROACH DURING VMC CONDTIONS AT 2700 ...   \n",
              "5390     SEAT BELT SIGN INOP 21 C AND D / LOTO INSTALLED   \n",
              "860                 E1 FUEL IMP BYPASS ON TAXI INTO GATE   \n",
              "7270                         F/A CALL BUTTON IN LAV INOP   \n",
              "\n",
              "                                                 Actions             CATEGORY   \n",
              "11121  . \\n\\nSERVICED BOTH PORTABLES O2 BOTTLES IAW E...           PORTABLE O2  \n",
              "10507  . \\n\\nPREFORMED ENG START IRW EMB 145 AMM 20-4...       ENGINE STARTING  \n",
              "3013   . \\n\\nR/R FO MFD BEZEL IAW EMB 145 AMM 34-22-0...            DU/PFD/MFD  \n",
              "4091   . \\n\\nINSTALLED FOS PTT PLACARD IRT EMB 145 AM...               PLACARD  \n",
              "2348   . \\n\\nLIGHT RELAMP 18C READING LITE IAW EMB 14...        INTERIOR LIGHT  \n",
              "...                                                  ...                   ...  \n",
              "11964  . \\n\\n18 C REMOVED AND REPLACED 18 C ARMREST I...              PAX SEAT  \n",
              "5191   . \\n\\nDEFERRED PER MEL 34-31-00-3. INOP AND CA...  EGPWS/WINDSHEAR/TERR  \n",
              "5390   . \\n\\n21 C AND D SEAT BELT R/R SET BELT SIGN A...        INTERIOR LIGHT  \n",
              "860    . \\n\\nCLEANED CANNON PLUG ON FPMU FILTRATION I...   ENG FUEL IMP BYPASS  \n",
              "7270   . \\n\\nCALL BUTTON RESET LAV F/A CALL BUTTON IA...           FA CALL SYS  \n",
              "\n",
              "[13178 rows x 3 columns]"
            ],
            "text/html": [
              "\n",
              "  <div id=\"df-8715be0d-3a08-4b8f-a2e2-746f0ee7e05a\">\n",
              "    <div class=\"colab-df-container\">\n",
              "      <div>\n",
              "<style scoped>\n",
              "    .dataframe tbody tr th:only-of-type {\n",
              "        vertical-align: middle;\n",
              "    }\n",
              "\n",
              "    .dataframe tbody tr th {\n",
              "        vertical-align: top;\n",
              "    }\n",
              "\n",
              "    .dataframe thead th {\n",
              "        text-align: right;\n",
              "    }\n",
              "</style>\n",
              "<table border=\"1\" class=\"dataframe\">\n",
              "  <thead>\n",
              "    <tr style=\"text-align: right;\">\n",
              "      <th></th>\n",
              "      <th>Work Steps</th>\n",
              "      <th>Actions</th>\n",
              "      <th>CATEGORY</th>\n",
              "    </tr>\n",
              "  </thead>\n",
              "  <tbody>\n",
              "    <tr>\n",
              "      <th>11121</th>\n",
              "      <td>BOTH PORTABLE O2 BOTTLES IN CABIN DEPLETED / L...</td>\n",
              "      <td>. \\n\\nSERVICED BOTH PORTABLES O2 BOTTLES IAW E...</td>\n",
              "      <td>PORTABLE O2</td>\n",
              "    </tr>\n",
              "    <tr>\n",
              "      <th>10507</th>\n",
              "      <td>ENGINE 2 HUNG START</td>\n",
              "      <td>. \\n\\nPREFORMED ENG START IRW EMB 145 AMM 20-4...</td>\n",
              "      <td>ENGINE STARTING</td>\n",
              "    </tr>\n",
              "    <tr>\n",
              "      <th>3013</th>\n",
              "      <td>FO`S MFD KNOB IS UNABLE OR DIFFICULT TO SELECT</td>\n",
              "      <td>. \\n\\nR/R FO MFD BEZEL IAW EMB 145 AMM 34-22-0...</td>\n",
              "      <td>DU/PFD/MFD</td>\n",
              "    </tr>\n",
              "    <tr>\n",
              "      <th>4091</th>\n",
              "      <td>FO PTT BUTTON PLACARD MISSING / LOTO INSTALLED</td>\n",
              "      <td>. \\n\\nINSTALLED FOS PTT PLACARD IRT EMB 145 AM...</td>\n",
              "      <td>PLACARD</td>\n",
              "    </tr>\n",
              "    <tr>\n",
              "      <th>2348</th>\n",
              "      <td>SEAT 18C READING LIGHT INOP / LOTO INSTALLED</td>\n",
              "      <td>. \\n\\nLIGHT RELAMP 18C READING LITE IAW EMB 14...</td>\n",
              "      <td>INTERIOR LIGHT</td>\n",
              "    </tr>\n",
              "    <tr>\n",
              "      <th>...</th>\n",
              "      <td>...</td>\n",
              "      <td>...</td>\n",
              "      <td>...</td>\n",
              "    </tr>\n",
              "    <tr>\n",
              "      <th>11964</th>\n",
              "      <td>18C ARMREST BROKE / LOTO INSTALLED</td>\n",
              "      <td>. \\n\\n18 C REMOVED AND REPLACED 18 C ARMREST I...</td>\n",
              "      <td>PAX SEAT</td>\n",
              "    </tr>\n",
              "    <tr>\n",
              "      <th>5191</th>\n",
              "      <td>GPWS ON APPROACH DURING VMC CONDTIONS AT 2700 ...</td>\n",
              "      <td>. \\n\\nDEFERRED PER MEL 34-31-00-3. INOP AND CA...</td>\n",
              "      <td>EGPWS/WINDSHEAR/TERR</td>\n",
              "    </tr>\n",
              "    <tr>\n",
              "      <th>5390</th>\n",
              "      <td>SEAT BELT SIGN INOP 21 C AND D / LOTO INSTALLED</td>\n",
              "      <td>. \\n\\n21 C AND D SEAT BELT R/R SET BELT SIGN A...</td>\n",
              "      <td>INTERIOR LIGHT</td>\n",
              "    </tr>\n",
              "    <tr>\n",
              "      <th>860</th>\n",
              "      <td>E1 FUEL IMP BYPASS ON TAXI INTO GATE</td>\n",
              "      <td>. \\n\\nCLEANED CANNON PLUG ON FPMU FILTRATION I...</td>\n",
              "      <td>ENG FUEL IMP BYPASS</td>\n",
              "    </tr>\n",
              "    <tr>\n",
              "      <th>7270</th>\n",
              "      <td>F/A CALL BUTTON IN LAV INOP</td>\n",
              "      <td>. \\n\\nCALL BUTTON RESET LAV F/A CALL BUTTON IA...</td>\n",
              "      <td>FA CALL SYS</td>\n",
              "    </tr>\n",
              "  </tbody>\n",
              "</table>\n",
              "<p>13178 rows × 3 columns</p>\n",
              "</div>\n",
              "      <button class=\"colab-df-convert\" onclick=\"convertToInteractive('df-8715be0d-3a08-4b8f-a2e2-746f0ee7e05a')\"\n",
              "              title=\"Convert this dataframe to an interactive table.\"\n",
              "              style=\"display:none;\">\n",
              "        \n",
              "  <svg xmlns=\"http://www.w3.org/2000/svg\" height=\"24px\"viewBox=\"0 0 24 24\"\n",
              "       width=\"24px\">\n",
              "    <path d=\"M0 0h24v24H0V0z\" fill=\"none\"/>\n",
              "    <path d=\"M18.56 5.44l.94 2.06.94-2.06 2.06-.94-2.06-.94-.94-2.06-.94 2.06-2.06.94zm-11 1L8.5 8.5l.94-2.06 2.06-.94-2.06-.94L8.5 2.5l-.94 2.06-2.06.94zm10 10l.94 2.06.94-2.06 2.06-.94-2.06-.94-.94-2.06-.94 2.06-2.06.94z\"/><path d=\"M17.41 7.96l-1.37-1.37c-.4-.4-.92-.59-1.43-.59-.52 0-1.04.2-1.43.59L10.3 9.45l-7.72 7.72c-.78.78-.78 2.05 0 2.83L4 21.41c.39.39.9.59 1.41.59.51 0 1.02-.2 1.41-.59l7.78-7.78 2.81-2.81c.8-.78.8-2.07 0-2.86zM5.41 20L4 18.59l7.72-7.72 1.47 1.35L5.41 20z\"/>\n",
              "  </svg>\n",
              "      </button>\n",
              "      \n",
              "  <style>\n",
              "    .colab-df-container {\n",
              "      display:flex;\n",
              "      flex-wrap:wrap;\n",
              "      gap: 12px;\n",
              "    }\n",
              "\n",
              "    .colab-df-convert {\n",
              "      background-color: #E8F0FE;\n",
              "      border: none;\n",
              "      border-radius: 50%;\n",
              "      cursor: pointer;\n",
              "      display: none;\n",
              "      fill: #1967D2;\n",
              "      height: 32px;\n",
              "      padding: 0 0 0 0;\n",
              "      width: 32px;\n",
              "    }\n",
              "\n",
              "    .colab-df-convert:hover {\n",
              "      background-color: #E2EBFA;\n",
              "      box-shadow: 0px 1px 2px rgba(60, 64, 67, 0.3), 0px 1px 3px 1px rgba(60, 64, 67, 0.15);\n",
              "      fill: #174EA6;\n",
              "    }\n",
              "\n",
              "    [theme=dark] .colab-df-convert {\n",
              "      background-color: #3B4455;\n",
              "      fill: #D2E3FC;\n",
              "    }\n",
              "\n",
              "    [theme=dark] .colab-df-convert:hover {\n",
              "      background-color: #434B5C;\n",
              "      box-shadow: 0px 1px 3px 1px rgba(0, 0, 0, 0.15);\n",
              "      filter: drop-shadow(0px 1px 2px rgba(0, 0, 0, 0.3));\n",
              "      fill: #FFFFFF;\n",
              "    }\n",
              "  </style>\n",
              "\n",
              "      <script>\n",
              "        const buttonEl =\n",
              "          document.querySelector('#df-8715be0d-3a08-4b8f-a2e2-746f0ee7e05a button.colab-df-convert');\n",
              "        buttonEl.style.display =\n",
              "          google.colab.kernel.accessAllowed ? 'block' : 'none';\n",
              "\n",
              "        async function convertToInteractive(key) {\n",
              "          const element = document.querySelector('#df-8715be0d-3a08-4b8f-a2e2-746f0ee7e05a');\n",
              "          const dataTable =\n",
              "            await google.colab.kernel.invokeFunction('convertToInteractive',\n",
              "                                                     [key], {});\n",
              "          if (!dataTable) return;\n",
              "\n",
              "          const docLinkHtml = 'Like what you see? Visit the ' +\n",
              "            '<a target=\"_blank\" href=https://colab.research.google.com/notebooks/data_table.ipynb>data table notebook</a>'\n",
              "            + ' to learn more about interactive tables.';\n",
              "          element.innerHTML = '';\n",
              "          dataTable['output_type'] = 'display_data';\n",
              "          await google.colab.output.renderOutput(dataTable, element);\n",
              "          const docLink = document.createElement('div');\n",
              "          docLink.innerHTML = docLinkHtml;\n",
              "          element.appendChild(docLink);\n",
              "        }\n",
              "      </script>\n",
              "    </div>\n",
              "  </div>\n",
              "  "
            ]
          },
          "metadata": {},
          "execution_count": 3
        }
      ]
    },
    {
      "cell_type": "code",
      "source": [
        "#get shape\n",
        "train_df.shape, val_df.shape, test_df.shape"
      ],
      "metadata": {
        "colab": {
          "base_uri": "https://localhost:8080/"
        },
        "id": "RyLpYUtNJ3_E",
        "outputId": "5da1e931-aa9e-483d-cf3d-4069a8bd1e7d"
      },
      "execution_count": 4,
      "outputs": [
        {
          "output_type": "execute_result",
          "data": {
            "text/plain": [
              "((13178, 3), (355, 3), (670, 3))"
            ]
          },
          "metadata": {},
          "execution_count": 4
        }
      ]
    },
    {
      "cell_type": "code",
      "source": [
        "#remove nans\n",
        "train_df= train_df.fillna(' ')"
      ],
      "metadata": {
        "id": "hnEGm5juvKa4"
      },
      "execution_count": 5,
      "outputs": []
    },
    {
      "cell_type": "code",
      "source": [
        "train_df.head()"
      ],
      "metadata": {
        "colab": {
          "base_uri": "https://localhost:8080/",
          "height": 206
        },
        "id": "81W02wfBvXIu",
        "outputId": "b3f046b7-c009-4db2-c942-9e65eec63102"
      },
      "execution_count": 6,
      "outputs": [
        {
          "output_type": "execute_result",
          "data": {
            "text/plain": [
              "                                          Work Steps  \\\n",
              "0  LARGE QTY OF FOD IN THE WHEEL WELLS, FLAP TRAC...   \n",
              "1  PARKING BREAK LIGHT BURNT OUT / LOTO DEVICE IN...   \n",
              "2  BUG WASH REQUIRED FOR WIND SCREEN / LOTO INSTA...   \n",
              "3  MISSING F/O GND SPD BUTTON ON THE GFRC / LOTO ...   \n",
              "4  REQUIRED GALLEY CART PLACARD MISSING / LOTO DE...   \n",
              "\n",
              "                                             Actions                 CATEGORY   \n",
              "0  . \\n\\nREMOVED FOD AND INSPECTED AREA FOR DAMAG...         TIRE CUT/PUNCTURE  \n",
              "1  . \\n\\nPARKING BRAKE LIGHT RELAMPED BRAKE ON LI...  COCKPIT LIGHT/PUSHBUTTON  \n",
              "2  . \\n\\nWIND SHEILD CLEANED BY OPS AS REQUIRED. ...                 PAPERWORK  \n",
              "3  . \\n\\nR/R FO RA CONTROLLER IAW E145AMM 34-61-0...    COCKPIT EQUIP/INTERIOR  \n",
              "4  . \\n\\nINSPECTED AND FOUND TO E145-2530-2021-00...                   PLACARD  "
            ],
            "text/html": [
              "\n",
              "  <div id=\"df-18749758-aca8-446a-a779-32ec6c83ad90\">\n",
              "    <div class=\"colab-df-container\">\n",
              "      <div>\n",
              "<style scoped>\n",
              "    .dataframe tbody tr th:only-of-type {\n",
              "        vertical-align: middle;\n",
              "    }\n",
              "\n",
              "    .dataframe tbody tr th {\n",
              "        vertical-align: top;\n",
              "    }\n",
              "\n",
              "    .dataframe thead th {\n",
              "        text-align: right;\n",
              "    }\n",
              "</style>\n",
              "<table border=\"1\" class=\"dataframe\">\n",
              "  <thead>\n",
              "    <tr style=\"text-align: right;\">\n",
              "      <th></th>\n",
              "      <th>Work Steps</th>\n",
              "      <th>Actions</th>\n",
              "      <th>CATEGORY</th>\n",
              "    </tr>\n",
              "  </thead>\n",
              "  <tbody>\n",
              "    <tr>\n",
              "      <th>0</th>\n",
              "      <td>LARGE QTY OF FOD IN THE WHEEL WELLS, FLAP TRAC...</td>\n",
              "      <td>. \\n\\nREMOVED FOD AND INSPECTED AREA FOR DAMAG...</td>\n",
              "      <td>TIRE CUT/PUNCTURE</td>\n",
              "    </tr>\n",
              "    <tr>\n",
              "      <th>1</th>\n",
              "      <td>PARKING BREAK LIGHT BURNT OUT / LOTO DEVICE IN...</td>\n",
              "      <td>. \\n\\nPARKING BRAKE LIGHT RELAMPED BRAKE ON LI...</td>\n",
              "      <td>COCKPIT LIGHT/PUSHBUTTON</td>\n",
              "    </tr>\n",
              "    <tr>\n",
              "      <th>2</th>\n",
              "      <td>BUG WASH REQUIRED FOR WIND SCREEN / LOTO INSTA...</td>\n",
              "      <td>. \\n\\nWIND SHEILD CLEANED BY OPS AS REQUIRED. ...</td>\n",
              "      <td>PAPERWORK</td>\n",
              "    </tr>\n",
              "    <tr>\n",
              "      <th>3</th>\n",
              "      <td>MISSING F/O GND SPD BUTTON ON THE GFRC / LOTO ...</td>\n",
              "      <td>. \\n\\nR/R FO RA CONTROLLER IAW E145AMM 34-61-0...</td>\n",
              "      <td>COCKPIT EQUIP/INTERIOR</td>\n",
              "    </tr>\n",
              "    <tr>\n",
              "      <th>4</th>\n",
              "      <td>REQUIRED GALLEY CART PLACARD MISSING / LOTO DE...</td>\n",
              "      <td>. \\n\\nINSPECTED AND FOUND TO E145-2530-2021-00...</td>\n",
              "      <td>PLACARD</td>\n",
              "    </tr>\n",
              "  </tbody>\n",
              "</table>\n",
              "</div>\n",
              "      <button class=\"colab-df-convert\" onclick=\"convertToInteractive('df-18749758-aca8-446a-a779-32ec6c83ad90')\"\n",
              "              title=\"Convert this dataframe to an interactive table.\"\n",
              "              style=\"display:none;\">\n",
              "        \n",
              "  <svg xmlns=\"http://www.w3.org/2000/svg\" height=\"24px\"viewBox=\"0 0 24 24\"\n",
              "       width=\"24px\">\n",
              "    <path d=\"M0 0h24v24H0V0z\" fill=\"none\"/>\n",
              "    <path d=\"M18.56 5.44l.94 2.06.94-2.06 2.06-.94-2.06-.94-.94-2.06-.94 2.06-2.06.94zm-11 1L8.5 8.5l.94-2.06 2.06-.94-2.06-.94L8.5 2.5l-.94 2.06-2.06.94zm10 10l.94 2.06.94-2.06 2.06-.94-2.06-.94-.94-2.06-.94 2.06-2.06.94z\"/><path d=\"M17.41 7.96l-1.37-1.37c-.4-.4-.92-.59-1.43-.59-.52 0-1.04.2-1.43.59L10.3 9.45l-7.72 7.72c-.78.78-.78 2.05 0 2.83L4 21.41c.39.39.9.59 1.41.59.51 0 1.02-.2 1.41-.59l7.78-7.78 2.81-2.81c.8-.78.8-2.07 0-2.86zM5.41 20L4 18.59l7.72-7.72 1.47 1.35L5.41 20z\"/>\n",
              "  </svg>\n",
              "      </button>\n",
              "      \n",
              "  <style>\n",
              "    .colab-df-container {\n",
              "      display:flex;\n",
              "      flex-wrap:wrap;\n",
              "      gap: 12px;\n",
              "    }\n",
              "\n",
              "    .colab-df-convert {\n",
              "      background-color: #E8F0FE;\n",
              "      border: none;\n",
              "      border-radius: 50%;\n",
              "      cursor: pointer;\n",
              "      display: none;\n",
              "      fill: #1967D2;\n",
              "      height: 32px;\n",
              "      padding: 0 0 0 0;\n",
              "      width: 32px;\n",
              "    }\n",
              "\n",
              "    .colab-df-convert:hover {\n",
              "      background-color: #E2EBFA;\n",
              "      box-shadow: 0px 1px 2px rgba(60, 64, 67, 0.3), 0px 1px 3px 1px rgba(60, 64, 67, 0.15);\n",
              "      fill: #174EA6;\n",
              "    }\n",
              "\n",
              "    [theme=dark] .colab-df-convert {\n",
              "      background-color: #3B4455;\n",
              "      fill: #D2E3FC;\n",
              "    }\n",
              "\n",
              "    [theme=dark] .colab-df-convert:hover {\n",
              "      background-color: #434B5C;\n",
              "      box-shadow: 0px 1px 3px 1px rgba(0, 0, 0, 0.15);\n",
              "      filter: drop-shadow(0px 1px 2px rgba(0, 0, 0, 0.3));\n",
              "      fill: #FFFFFF;\n",
              "    }\n",
              "  </style>\n",
              "\n",
              "      <script>\n",
              "        const buttonEl =\n",
              "          document.querySelector('#df-18749758-aca8-446a-a779-32ec6c83ad90 button.colab-df-convert');\n",
              "        buttonEl.style.display =\n",
              "          google.colab.kernel.accessAllowed ? 'block' : 'none';\n",
              "\n",
              "        async function convertToInteractive(key) {\n",
              "          const element = document.querySelector('#df-18749758-aca8-446a-a779-32ec6c83ad90');\n",
              "          const dataTable =\n",
              "            await google.colab.kernel.invokeFunction('convertToInteractive',\n",
              "                                                     [key], {});\n",
              "          if (!dataTable) return;\n",
              "\n",
              "          const docLinkHtml = 'Like what you see? Visit the ' +\n",
              "            '<a target=\"_blank\" href=https://colab.research.google.com/notebooks/data_table.ipynb>data table notebook</a>'\n",
              "            + ' to learn more about interactive tables.';\n",
              "          element.innerHTML = '';\n",
              "          dataTable['output_type'] = 'display_data';\n",
              "          await google.colab.output.renderOutput(dataTable, element);\n",
              "          const docLink = document.createElement('div');\n",
              "          docLink.innerHTML = docLinkHtml;\n",
              "          element.appendChild(docLink);\n",
              "        }\n",
              "      </script>\n",
              "    </div>\n",
              "  </div>\n",
              "  "
            ]
          },
          "metadata": {},
          "execution_count": 6
        }
      ]
    },
    {
      "cell_type": "code",
      "source": [
        "train_df.columns=train_df.columns.str.lower().str.replace(' ', '_')\n",
        "test_df.columns=test_df.columns.str.lower().str.replace(' ', '_')\n",
        "val_df.columns=val_df.columns.str.lower().str.replace(' ', '_')\n",
        "train_df.columns"
      ],
      "metadata": {
        "colab": {
          "base_uri": "https://localhost:8080/"
        },
        "id": "KmrZdnZ7N1D-",
        "outputId": "eee0a8e8-9def-47b9-b4ff-3c13792763f6"
      },
      "execution_count": 7,
      "outputs": [
        {
          "output_type": "execute_result",
          "data": {
            "text/plain": [
              "Index(['work_steps', 'actions', 'category_'], dtype='object')"
            ]
          },
          "metadata": {},
          "execution_count": 7
        }
      ]
    },
    {
      "cell_type": "code",
      "source": [
        "train_df=train_df.rename(columns={\"work_steps\":\"worksteps\", \"actions\":\"actions\",\"category_\":\"category\"})\n",
        "val_df=val_df.rename(columns={\"work_steps\":\"worksteps\", \"actions\":\"actions\",\"category_\":\"category\"})\n",
        "test_df=test_df.rename(columns={\"work_steps\":\"worksteps\", \"actions\":\"actions\",\"category_\":\"category\"})\n",
        "val_df.head()"
      ],
      "metadata": {
        "colab": {
          "base_uri": "https://localhost:8080/",
          "height": 206
        },
        "id": "Ih45Yd5UOCL1",
        "outputId": "29f65a4a-29b9-460a-b9b4-3371889487bb"
      },
      "execution_count": 8,
      "outputs": [
        {
          "output_type": "execute_result",
          "data": {
            "text/plain": [
              "                                           worksteps  \\\n",
              "0  WINDOW SHADE 18D STUCK THREE QUARTERS OF THE W...   \n",
              "1  PANEL ABOVE SEAT 3C AND D HAS FALLEN OFF. / LO...   \n",
              "2     LIGHT COVER ON 10A UNSECURED / LOTTO INSTALLED   \n",
              "3              WINDOW SHADE AT SEAT 1A WILL NOT OPEN   \n",
              "4  MULTIPLE OVERHEAD PANEL BACKLIGHTING INOP / LO...   \n",
              "\n",
              "                                             actions                  category  \n",
              "0  . \\n\\nDEFERED PER NEF 25-90-17-1 PLACARD INSTA...            CABIN INTERIOR  \n",
              "1  . \\n\\nDEFERED PER MEL 25-22-00-3 LOWER PANEL S...                       PSU  \n",
              "2  . \\n\\nRE-INSTALLED READING LIGHT COVER AT 10A ...            INTERIOR LIGHT  \n",
              "3  . \\n\\nR/R WINDOW REVEAL ASSY IAW EMB 145 AMM 2...            CABIN INTERIOR  \n",
              "4  . \\n\\nLP 1019302 PERFORMED OPERATIONAL CHECK O...  COCKPIT LIGHT/PUSHBUTTON  "
            ],
            "text/html": [
              "\n",
              "  <div id=\"df-3c5e9df5-cb2f-476c-8ed7-1442dcc63cc6\">\n",
              "    <div class=\"colab-df-container\">\n",
              "      <div>\n",
              "<style scoped>\n",
              "    .dataframe tbody tr th:only-of-type {\n",
              "        vertical-align: middle;\n",
              "    }\n",
              "\n",
              "    .dataframe tbody tr th {\n",
              "        vertical-align: top;\n",
              "    }\n",
              "\n",
              "    .dataframe thead th {\n",
              "        text-align: right;\n",
              "    }\n",
              "</style>\n",
              "<table border=\"1\" class=\"dataframe\">\n",
              "  <thead>\n",
              "    <tr style=\"text-align: right;\">\n",
              "      <th></th>\n",
              "      <th>worksteps</th>\n",
              "      <th>actions</th>\n",
              "      <th>category</th>\n",
              "    </tr>\n",
              "  </thead>\n",
              "  <tbody>\n",
              "    <tr>\n",
              "      <th>0</th>\n",
              "      <td>WINDOW SHADE 18D STUCK THREE QUARTERS OF THE W...</td>\n",
              "      <td>. \\n\\nDEFERED PER NEF 25-90-17-1 PLACARD INSTA...</td>\n",
              "      <td>CABIN INTERIOR</td>\n",
              "    </tr>\n",
              "    <tr>\n",
              "      <th>1</th>\n",
              "      <td>PANEL ABOVE SEAT 3C AND D HAS FALLEN OFF. / LO...</td>\n",
              "      <td>. \\n\\nDEFERED PER MEL 25-22-00-3 LOWER PANEL S...</td>\n",
              "      <td>PSU</td>\n",
              "    </tr>\n",
              "    <tr>\n",
              "      <th>2</th>\n",
              "      <td>LIGHT COVER ON 10A UNSECURED / LOTTO INSTALLED</td>\n",
              "      <td>. \\n\\nRE-INSTALLED READING LIGHT COVER AT 10A ...</td>\n",
              "      <td>INTERIOR LIGHT</td>\n",
              "    </tr>\n",
              "    <tr>\n",
              "      <th>3</th>\n",
              "      <td>WINDOW SHADE AT SEAT 1A WILL NOT OPEN</td>\n",
              "      <td>. \\n\\nR/R WINDOW REVEAL ASSY IAW EMB 145 AMM 2...</td>\n",
              "      <td>CABIN INTERIOR</td>\n",
              "    </tr>\n",
              "    <tr>\n",
              "      <th>4</th>\n",
              "      <td>MULTIPLE OVERHEAD PANEL BACKLIGHTING INOP / LO...</td>\n",
              "      <td>. \\n\\nLP 1019302 PERFORMED OPERATIONAL CHECK O...</td>\n",
              "      <td>COCKPIT LIGHT/PUSHBUTTON</td>\n",
              "    </tr>\n",
              "  </tbody>\n",
              "</table>\n",
              "</div>\n",
              "      <button class=\"colab-df-convert\" onclick=\"convertToInteractive('df-3c5e9df5-cb2f-476c-8ed7-1442dcc63cc6')\"\n",
              "              title=\"Convert this dataframe to an interactive table.\"\n",
              "              style=\"display:none;\">\n",
              "        \n",
              "  <svg xmlns=\"http://www.w3.org/2000/svg\" height=\"24px\"viewBox=\"0 0 24 24\"\n",
              "       width=\"24px\">\n",
              "    <path d=\"M0 0h24v24H0V0z\" fill=\"none\"/>\n",
              "    <path d=\"M18.56 5.44l.94 2.06.94-2.06 2.06-.94-2.06-.94-.94-2.06-.94 2.06-2.06.94zm-11 1L8.5 8.5l.94-2.06 2.06-.94-2.06-.94L8.5 2.5l-.94 2.06-2.06.94zm10 10l.94 2.06.94-2.06 2.06-.94-2.06-.94-.94-2.06-.94 2.06-2.06.94z\"/><path d=\"M17.41 7.96l-1.37-1.37c-.4-.4-.92-.59-1.43-.59-.52 0-1.04.2-1.43.59L10.3 9.45l-7.72 7.72c-.78.78-.78 2.05 0 2.83L4 21.41c.39.39.9.59 1.41.59.51 0 1.02-.2 1.41-.59l7.78-7.78 2.81-2.81c.8-.78.8-2.07 0-2.86zM5.41 20L4 18.59l7.72-7.72 1.47 1.35L5.41 20z\"/>\n",
              "  </svg>\n",
              "      </button>\n",
              "      \n",
              "  <style>\n",
              "    .colab-df-container {\n",
              "      display:flex;\n",
              "      flex-wrap:wrap;\n",
              "      gap: 12px;\n",
              "    }\n",
              "\n",
              "    .colab-df-convert {\n",
              "      background-color: #E8F0FE;\n",
              "      border: none;\n",
              "      border-radius: 50%;\n",
              "      cursor: pointer;\n",
              "      display: none;\n",
              "      fill: #1967D2;\n",
              "      height: 32px;\n",
              "      padding: 0 0 0 0;\n",
              "      width: 32px;\n",
              "    }\n",
              "\n",
              "    .colab-df-convert:hover {\n",
              "      background-color: #E2EBFA;\n",
              "      box-shadow: 0px 1px 2px rgba(60, 64, 67, 0.3), 0px 1px 3px 1px rgba(60, 64, 67, 0.15);\n",
              "      fill: #174EA6;\n",
              "    }\n",
              "\n",
              "    [theme=dark] .colab-df-convert {\n",
              "      background-color: #3B4455;\n",
              "      fill: #D2E3FC;\n",
              "    }\n",
              "\n",
              "    [theme=dark] .colab-df-convert:hover {\n",
              "      background-color: #434B5C;\n",
              "      box-shadow: 0px 1px 3px 1px rgba(0, 0, 0, 0.15);\n",
              "      filter: drop-shadow(0px 1px 2px rgba(0, 0, 0, 0.3));\n",
              "      fill: #FFFFFF;\n",
              "    }\n",
              "  </style>\n",
              "\n",
              "      <script>\n",
              "        const buttonEl =\n",
              "          document.querySelector('#df-3c5e9df5-cb2f-476c-8ed7-1442dcc63cc6 button.colab-df-convert');\n",
              "        buttonEl.style.display =\n",
              "          google.colab.kernel.accessAllowed ? 'block' : 'none';\n",
              "\n",
              "        async function convertToInteractive(key) {\n",
              "          const element = document.querySelector('#df-3c5e9df5-cb2f-476c-8ed7-1442dcc63cc6');\n",
              "          const dataTable =\n",
              "            await google.colab.kernel.invokeFunction('convertToInteractive',\n",
              "                                                     [key], {});\n",
              "          if (!dataTable) return;\n",
              "\n",
              "          const docLinkHtml = 'Like what you see? Visit the ' +\n",
              "            '<a target=\"_blank\" href=https://colab.research.google.com/notebooks/data_table.ipynb>data table notebook</a>'\n",
              "            + ' to learn more about interactive tables.';\n",
              "          element.innerHTML = '';\n",
              "          dataTable['output_type'] = 'display_data';\n",
              "          await google.colab.output.renderOutput(dataTable, element);\n",
              "          const docLink = document.createElement('div');\n",
              "          docLink.innerHTML = docLinkHtml;\n",
              "          element.appendChild(docLink);\n",
              "        }\n",
              "      </script>\n",
              "    </div>\n",
              "  </div>\n",
              "  "
            ]
          },
          "metadata": {},
          "execution_count": 8
        }
      ]
    },
    {
      "cell_type": "code",
      "source": [
        "#How many values of each category?\n",
        "train_df.category.value_counts()"
      ],
      "metadata": {
        "colab": {
          "base_uri": "https://localhost:8080/"
        },
        "id": "i14ZlggpRSBQ",
        "outputId": "27b4bac9-4438-4d03-e42a-ecd1e78f8a9c"
      },
      "execution_count": 9,
      "outputs": [
        {
          "output_type": "execute_result",
          "data": {
            "text/plain": [
              "PAX SEAT                    557\n",
              "COCKPIT LIGHT/PUSHBUTTON    537\n",
              "COCKPIT EQUIP/INTERIOR      428\n",
              "EXTERIOR LIGHT              408\n",
              "CREW SEAT                   366\n",
              "                           ... \n",
              "FLIGHT CONTROLS               1\n",
              "RVSM                          1\n",
              "MX INDUCED                    1\n",
              "PAX INDUCED                   1\n",
              "AIR DISTRIBUTION              1\n",
              "Name: category, Length: 244, dtype: int64"
            ]
          },
          "metadata": {},
          "execution_count": 9
        }
      ]
    },
    {
      "cell_type": "code",
      "source": [
        "#Lets check the distribution\n",
        "train_df.category.value_counts().plot.hist(bins=50, color=\"pink\");"
      ],
      "metadata": {
        "colab": {
          "base_uri": "https://localhost:8080/",
          "height": 268
        },
        "id": "9q7m__MxSxPq",
        "outputId": "da3e6123-27c1-4011-c695-5b9a41dd8a74"
      },
      "execution_count": 10,
      "outputs": [
        {
          "output_type": "display_data",
          "data": {
            "text/plain": [
              "<Figure size 432x288 with 1 Axes>"
            ],
            "image/png": "[encoded data removed]"
          },
          "metadata": {
            "needs_background": "light"
          }
        }
      ]
    },
    {
      "cell_type": "markdown",
      "source": [
        "##Get the list of worksteps sentences"
      ],
      "metadata": {
        "id": "M02qRUdmS_pc"
      }
    },
    {
      "cell_type": "code",
      "source": [
        "#drop a category not found in the training dataset for label encoder\n",
        "i=val_df[(val_df[\"category\"]=='AIR DISTRIBUTION ')].index\n",
        "val_df=val_df.drop(i)"
      ],
      "metadata": {
        "id": "ZBXNq_j5k6CP"
      },
      "execution_count": 11,
      "outputs": []
    },
    {
      "cell_type": "code",
      "source": [
        "#convert worksteps text lines into lists\n",
        "train_worksteps=train_df.worksteps.tolist()\n",
        "val_worksteps=val_df.worksteps.tolist()\n",
        "test_worksteps=test_df.worksteps.tolist()\n",
        "len(train_worksteps), len(val_worksteps),len(test_worksteps) \n"
      ],
      "metadata": {
        "colab": {
          "base_uri": "https://localhost:8080/"
        },
        "id": "lBF409ITUGWT",
        "outputId": "f306ac3f-5991-4698-d930-cfb24526b769"
      },
      "execution_count": 12,
      "outputs": [
        {
          "output_type": "execute_result",
          "data": {
            "text/plain": [
              "(13178, 355, 670)"
            ]
          },
          "metadata": {},
          "execution_count": 12
        }
      ]
    },
    {
      "cell_type": "code",
      "source": [
        "#view 5 lines of training worksteps\n",
        "train_worksteps[:5]"
      ],
      "metadata": {
        "colab": {
          "base_uri": "https://localhost:8080/"
        },
        "id": "HwdPMN7nWv5G",
        "outputId": "d2aa94e3-3ce6-4ac6-f05e-bd91e0ad8f2c"
      },
      "execution_count": 13,
      "outputs": [
        {
          "output_type": "execute_result",
          "data": {
            "text/plain": [
              "['LARGE QTY OF FOD IN THE WHEEL WELLS, FLAP TRACKS, AILERONS, AND LANDING GEAR / LOTO INSTALLED',\n",
              " 'PARKING BREAK LIGHT BURNT OUT / LOTO DEVICE INSTALLED',\n",
              " 'BUG WASH REQUIRED FOR WIND SCREEN / LOTO INSTALLED',\n",
              " 'MISSING F/O GND SPD BUTTON ON THE GFRC / LOTO DEVICE INSTALLED',\n",
              " 'REQUIRED GALLEY CART PLACARD MISSING / LOTO DEVICE INSTALLED']"
            ]
          },
          "metadata": {},
          "execution_count": 13
        }
      ]
    },
    {
      "cell_type": "markdown",
      "source": [
        "#Make Numeric Labels "
      ],
      "metadata": {
        "id": "_9ti8qQpW0T1"
      }
    },
    {
      "cell_type": "code",
      "source": [
        "from sklearn.preprocessing import OneHotEncoder\n",
        "one_hot_encoder=OneHotEncoder(sparse=False, handle_unknown=\"ignore\")#we want non-sparse matrix because tensorflow is not compatible with sparse datatype\n",
        "train_labels_one_hot=one_hot_encoder.fit_transform(train_df[\"category\"].to_numpy().reshape(-1,1))#fit encode structure to our dataframe so we dont need it again in the val's table\n",
        "val_labels_one_hot=one_hot_encoder.transform(val_df[\"category\"].to_numpy().reshape(-1,1))"
      ],
      "metadata": {
        "id": "Ttxrh54SYtR-"
      },
      "execution_count": 14,
      "outputs": []
    },
    {
      "cell_type": "code",
      "source": [
        "#check what the one hot encoded looks like\n",
        "val_labels_one_hot"
      ],
      "metadata": {
        "colab": {
          "base_uri": "https://localhost:8080/"
        },
        "id": "jsfOsd_GaU_g",
        "outputId": "68146404-6b9c-493e-f1da-c9e786aa27c3"
      },
      "execution_count": 15,
      "outputs": [
        {
          "output_type": "execute_result",
          "data": {
            "text/plain": [
              "array([[0., 0., 0., ..., 0., 0., 0.],\n",
              "       [0., 0., 0., ..., 0., 0., 0.],\n",
              "       [0., 0., 0., ..., 0., 0., 0.],\n",
              "       ...,\n",
              "       [0., 0., 0., ..., 0., 0., 0.],\n",
              "       [0., 0., 0., ..., 0., 0., 0.],\n",
              "       [0., 0., 0., ..., 0., 0., 0.]])"
            ]
          },
          "metadata": {},
          "execution_count": 15
        }
      ]
    },
    {
      "cell_type": "markdown",
      "source": [
        "#Label Encode Labels"
      ],
      "metadata": {
        "id": "x_Oms46GdMYY"
      }
    },
    {
      "cell_type": "code",
      "source": [
        "#Extract labels (\"category\" clumns) and encode them into integers\n",
        "from sklearn.preprocessing import LabelEncoder\n",
        "label_encoder=LabelEncoder()\n",
        "train_labels_encoded=label_encoder.fit_transform(train_df[\"category\"].to_numpy())\n",
        "val_labels_encoded=label_encoder.transform(val_df[\"category\"].to_numpy())\n",
        "#view trhe train label encoded\n",
        "val_labels_encoded.shape"
      ],
      "metadata": {
        "colab": {
          "base_uri": "https://localhost:8080/"
        },
        "id": "mkFircXGdWF4",
        "outputId": "0939688e-e19f-4698-e95d-d0d785ded88c"
      },
      "execution_count": 16,
      "outputs": [
        {
          "output_type": "execute_result",
          "data": {
            "text/plain": [
              "(355,)"
            ]
          },
          "metadata": {},
          "execution_count": 16
        }
      ]
    },
    {
      "cell_type": "code",
      "source": [
        "val_labels_one_hot.shape"
      ],
      "metadata": {
        "colab": {
          "base_uri": "https://localhost:8080/"
        },
        "id": "MbJ0fHITjZ9K",
        "outputId": "94bd793c-72ee-447a-ab3a-819047135e09"
      },
      "execution_count": 17,
      "outputs": [
        {
          "output_type": "execute_result",
          "data": {
            "text/plain": [
              "(355, 244)"
            ]
          },
          "metadata": {},
          "execution_count": 17
        }
      ]
    },
    {
      "cell_type": "markdown",
      "source": [
        "#Modeling"
      ],
      "metadata": {
        "id": "Avbt3u73eOCC"
      }
    },
    {
      "cell_type": "markdown",
      "source": [
        "### Model 0: Naive Bayes on worksteps"
      ],
      "metadata": {
        "id": "UogCOheGrUvn"
      }
    },
    {
      "cell_type": "code",
      "source": [
        "from sklearn.feature_extraction.text import TfidfVectorizer\n",
        "from sklearn.naive_bayes import MultinomialNB\n",
        "from sklearn.pipeline import Pipeline\n",
        "\n",
        "#create a pipeline\n",
        "model_0=Pipeline([\n",
        "    (\"tf-idf\", TfidfVectorizer()),\n",
        "    (\"clf\", MultinomialNB())\n",
        "    ])\n",
        "#Fit the pipeline to the training data\n",
        "model_0.fit(X=train_worksteps,\n",
        "            y=train_labels_encoded)"
      ],
      "metadata": {
        "colab": {
          "base_uri": "https://localhost:8080/"
        },
        "id": "TKvO4GOVwFrZ",
        "outputId": "ddf4e3b9-ffcf-4230-b1f8-071eddc1cfa1"
      },
      "execution_count": 18,
      "outputs": [
        {
          "output_type": "execute_result",
          "data": {
            "text/plain": [
              "Pipeline(steps=[('tf-idf', TfidfVectorizer()), ('clf', MultinomialNB())])"
            ]
          },
          "metadata": {},
          "execution_count": 18
        }
      ]
    },
    {
      "cell_type": "code",
      "source": [
        "#evaluate baseline model on validation dataset\n",
        "model_0.score(X=val_worksteps,\n",
        "              y=val_labels_encoded)"
      ],
      "metadata": {
        "colab": {
          "base_uri": "https://localhost:8080/"
        },
        "id": "gRiZ44G-jkp1",
        "outputId": "2976a105-4d65-420e-e5ae-d222f79ea589"
      },
      "execution_count": 19,
      "outputs": [
        {
          "output_type": "execute_result",
          "data": {
            "text/plain": [
              "0.7774647887323943"
            ]
          },
          "metadata": {},
          "execution_count": 19
        }
      ]
    },
    {
      "cell_type": "code",
      "source": [
        "#Make prediction using our baseline model\n",
        "baseline_preds=model_0.predict(val_worksteps)\n",
        "baseline_preds[:10]"
      ],
      "metadata": {
        "colab": {
          "base_uri": "https://localhost:8080/"
        },
        "id": "CxKDOerFj4iU",
        "outputId": "da835177-8154-469e-e2f6-e59a30f4f56b"
      },
      "execution_count": 20,
      "outputs": [
        {
          "output_type": "execute_result",
          "data": {
            "text/plain": [
              "array([ 41, 188, 188,  41,  53,  52,  41,  62, 102, 142])"
            ]
          },
          "metadata": {},
          "execution_count": 20
        }
      ]
    },
    {
      "cell_type": "code",
      "source": [
        "from helper_functions import calculate_results"
      ],
      "metadata": {
        "id": "CGLClMJjk53l"
      },
      "execution_count": 21,
      "outputs": []
    },
    {
      "cell_type": "code",
      "source": [
        "#calculate baseline results\n",
        "baseline_results=calculate_results(y_true=val_labels_encoded,\n",
        "                                   y_pred=baseline_preds)\n",
        "baseline_results"
      ],
      "metadata": {
        "colab": {
          "base_uri": "https://localhost:8080/"
        },
        "id": "1OsYD8uFlqPT",
        "outputId": "2ddcd06a-9df6-41ce-89aa-6d460d4e8d9d"
      },
      "execution_count": 22,
      "outputs": [
        {
          "output_type": "stream",
          "name": "stderr",
          "text": [
            "/usr/local/lib/python3.7/dist-packages/sklearn/metrics/_classification.py:1318: UndefinedMetricWarning: Precision and F-score are ill-defined and being set to 0.0 in labels with no predicted samples. Use `zero_division` parameter to control this behavior.\n",
            "  _warn_prf(average, modifier, msg_start, len(result))\n"
          ]
        },
        {
          "output_type": "execute_result",
          "data": {
            "text/plain": [
              "{'accuracy': 77.74647887323944,\n",
              " 'precision': 0.730848807829422,\n",
              " 'recall': 0.7774647887323943,\n",
              " 'f1': 0.7362519936471653}"
            ]
          },
          "metadata": {},
          "execution_count": 22
        }
      ]
    },
    {
      "cell_type": "markdown",
      "source": [
        "##Get the list of action sentences"
      ],
      "metadata": {
        "id": "-wdfKTzFpPO7"
      }
    },
    {
      "cell_type": "code",
      "source": [
        "train_df.head()"
      ],
      "metadata": {
        "colab": {
          "base_uri": "https://localhost:8080/",
          "height": 206
        },
        "id": "29wlUwqru997",
        "outputId": "87e039de-2994-4221-cfdb-da3040b1d9c9"
      },
      "execution_count": 23,
      "outputs": [
        {
          "output_type": "execute_result",
          "data": {
            "text/plain": [
              "                                           worksteps  \\\n",
              "0  LARGE QTY OF FOD IN THE WHEEL WELLS, FLAP TRAC...   \n",
              "1  PARKING BREAK LIGHT BURNT OUT / LOTO DEVICE IN...   \n",
              "2  BUG WASH REQUIRED FOR WIND SCREEN / LOTO INSTA...   \n",
              "3  MISSING F/O GND SPD BUTTON ON THE GFRC / LOTO ...   \n",
              "4  REQUIRED GALLEY CART PLACARD MISSING / LOTO DE...   \n",
              "\n",
              "                                             actions                  category  \n",
              "0  . \\n\\nREMOVED FOD AND INSPECTED AREA FOR DAMAG...         TIRE CUT/PUNCTURE  \n",
              "1  . \\n\\nPARKING BRAKE LIGHT RELAMPED BRAKE ON LI...  COCKPIT LIGHT/PUSHBUTTON  \n",
              "2  . \\n\\nWIND SHEILD CLEANED BY OPS AS REQUIRED. ...                 PAPERWORK  \n",
              "3  . \\n\\nR/R FO RA CONTROLLER IAW E145AMM 34-61-0...    COCKPIT EQUIP/INTERIOR  \n",
              "4  . \\n\\nINSPECTED AND FOUND TO E145-2530-2021-00...                   PLACARD  "
            ],
            "text/html": [
              "\n",
              "  <div id=\"df-15948bc2-2c34-4653-92a9-1511be950c6d\">\n",
              "    <div class=\"colab-df-container\">\n",
              "      <div>\n",
              "<style scoped>\n",
              "    .dataframe tbody tr th:only-of-type {\n",
              "        vertical-align: middle;\n",
              "    }\n",
              "\n",
              "    .dataframe tbody tr th {\n",
              "        vertical-align: top;\n",
              "    }\n",
              "\n",
              "    .dataframe thead th {\n",
              "        text-align: right;\n",
              "    }\n",
              "</style>\n",
              "<table border=\"1\" class=\"dataframe\">\n",
              "  <thead>\n",
              "    <tr style=\"text-align: right;\">\n",
              "      <th></th>\n",
              "      <th>worksteps</th>\n",
              "      <th>actions</th>\n",
              "      <th>category</th>\n",
              "    </tr>\n",
              "  </thead>\n",
              "  <tbody>\n",
              "    <tr>\n",
              "      <th>0</th>\n",
              "      <td>LARGE QTY OF FOD IN THE WHEEL WELLS, FLAP TRAC...</td>\n",
              "      <td>. \\n\\nREMOVED FOD AND INSPECTED AREA FOR DAMAG...</td>\n",
              "      <td>TIRE CUT/PUNCTURE</td>\n",
              "    </tr>\n",
              "    <tr>\n",
              "      <th>1</th>\n",
              "      <td>PARKING BREAK LIGHT BURNT OUT / LOTO DEVICE IN...</td>\n",
              "      <td>. \\n\\nPARKING BRAKE LIGHT RELAMPED BRAKE ON LI...</td>\n",
              "      <td>COCKPIT LIGHT/PUSHBUTTON</td>\n",
              "    </tr>\n",
              "    <tr>\n",
              "      <th>2</th>\n",
              "      <td>BUG WASH REQUIRED FOR WIND SCREEN / LOTO INSTA...</td>\n",
              "      <td>. \\n\\nWIND SHEILD CLEANED BY OPS AS REQUIRED. ...</td>\n",
              "      <td>PAPERWORK</td>\n",
              "    </tr>\n",
              "    <tr>\n",
              "      <th>3</th>\n",
              "      <td>MISSING F/O GND SPD BUTTON ON THE GFRC / LOTO ...</td>\n",
              "      <td>. \\n\\nR/R FO RA CONTROLLER IAW E145AMM 34-61-0...</td>\n",
              "      <td>COCKPIT EQUIP/INTERIOR</td>\n",
              "    </tr>\n",
              "    <tr>\n",
              "      <th>4</th>\n",
              "      <td>REQUIRED GALLEY CART PLACARD MISSING / LOTO DE...</td>\n",
              "      <td>. \\n\\nINSPECTED AND FOUND TO E145-2530-2021-00...</td>\n",
              "      <td>PLACARD</td>\n",
              "    </tr>\n",
              "  </tbody>\n",
              "</table>\n",
              "</div>\n",
              "      <button class=\"colab-df-convert\" onclick=\"convertToInteractive('df-15948bc2-2c34-4653-92a9-1511be950c6d')\"\n",
              "              title=\"Convert this dataframe to an interactive table.\"\n",
              "              style=\"display:none;\">\n",
              "        \n",
              "  <svg xmlns=\"http://www.w3.org/2000/svg\" height=\"24px\"viewBox=\"0 0 24 24\"\n",
              "       width=\"24px\">\n",
              "    <path d=\"M0 0h24v24H0V0z\" fill=\"none\"/>\n",
              "    <path d=\"M18.56 5.44l.94 2.06.94-2.06 2.06-.94-2.06-.94-.94-2.06-.94 2.06-2.06.94zm-11 1L8.5 8.5l.94-2.06 2.06-.94-2.06-.94L8.5 2.5l-.94 2.06-2.06.94zm10 10l.94 2.06.94-2.06 2.06-.94-2.06-.94-.94-2.06-.94 2.06-2.06.94z\"/><path d=\"M17.41 7.96l-1.37-1.37c-.4-.4-.92-.59-1.43-.59-.52 0-1.04.2-1.43.59L10.3 9.45l-7.72 7.72c-.78.78-.78 2.05 0 2.83L4 21.41c.39.39.9.59 1.41.59.51 0 1.02-.2 1.41-.59l7.78-7.78 2.81-2.81c.8-.78.8-2.07 0-2.86zM5.41 20L4 18.59l7.72-7.72 1.47 1.35L5.41 20z\"/>\n",
              "  </svg>\n",
              "      </button>\n",
              "      \n",
              "  <style>\n",
              "    .colab-df-container {\n",
              "      display:flex;\n",
              "      flex-wrap:wrap;\n",
              "      gap: 12px;\n",
              "    }\n",
              "\n",
              "    .colab-df-convert {\n",
              "      background-color: #E8F0FE;\n",
              "      border: none;\n",
              "      border-radius: 50%;\n",
              "      cursor: pointer;\n",
              "      display: none;\n",
              "      fill: #1967D2;\n",
              "      height: 32px;\n",
              "      padding: 0 0 0 0;\n",
              "      width: 32px;\n",
              "    }\n",
              "\n",
              "    .colab-df-convert:hover {\n",
              "      background-color: #E2EBFA;\n",
              "      box-shadow: 0px 1px 2px rgba(60, 64, 67, 0.3), 0px 1px 3px 1px rgba(60, 64, 67, 0.15);\n",
              "      fill: #174EA6;\n",
              "    }\n",
              "\n",
              "    [theme=dark] .colab-df-convert {\n",
              "      background-color: #3B4455;\n",
              "      fill: #D2E3FC;\n",
              "    }\n",
              "\n",
              "    [theme=dark] .colab-df-convert:hover {\n",
              "      background-color: #434B5C;\n",
              "      box-shadow: 0px 1px 3px 1px rgba(0, 0, 0, 0.15);\n",
              "      filter: drop-shadow(0px 1px 2px rgba(0, 0, 0, 0.3));\n",
              "      fill: #FFFFFF;\n",
              "    }\n",
              "  </style>\n",
              "\n",
              "      <script>\n",
              "        const buttonEl =\n",
              "          document.querySelector('#df-15948bc2-2c34-4653-92a9-1511be950c6d button.colab-df-convert');\n",
              "        buttonEl.style.display =\n",
              "          google.colab.kernel.accessAllowed ? 'block' : 'none';\n",
              "\n",
              "        async function convertToInteractive(key) {\n",
              "          const element = document.querySelector('#df-15948bc2-2c34-4653-92a9-1511be950c6d');\n",
              "          const dataTable =\n",
              "            await google.colab.kernel.invokeFunction('convertToInteractive',\n",
              "                                                     [key], {});\n",
              "          if (!dataTable) return;\n",
              "\n",
              "          const docLinkHtml = 'Like what you see? Visit the ' +\n",
              "            '<a target=\"_blank\" href=https://colab.research.google.com/notebooks/data_table.ipynb>data table notebook</a>'\n",
              "            + ' to learn more about interactive tables.';\n",
              "          element.innerHTML = '';\n",
              "          dataTable['output_type'] = 'display_data';\n",
              "          await google.colab.output.renderOutput(dataTable, element);\n",
              "          const docLink = document.createElement('div');\n",
              "          docLink.innerHTML = docLinkHtml;\n",
              "          element.appendChild(docLink);\n",
              "        }\n",
              "      </script>\n",
              "    </div>\n",
              "  </div>\n",
              "  "
            ]
          },
          "metadata": {},
          "execution_count": 23
        }
      ]
    },
    {
      "cell_type": "code",
      "source": [
        "\n",
        "\n",
        "#convert actions text lines into lists\n",
        "train_actions=train_df.actions.tolist()\n",
        "val_actions=val_df.actions.tolist()\n",
        "test_actions=test_df.actions.tolist()\n",
        "len(train_actions), len(val_actions),len(test_actions) \n"
      ],
      "metadata": {
        "colab": {
          "base_uri": "https://localhost:8080/"
        },
        "id": "TngzXiJGpb5g",
        "outputId": "c834a1b6-d299-4f69-f571-f315126098db"
      },
      "execution_count": 24,
      "outputs": [
        {
          "output_type": "execute_result",
          "data": {
            "text/plain": [
              "(13178, 355, 670)"
            ]
          },
          "metadata": {},
          "execution_count": 24
        }
      ]
    },
    {
      "cell_type": "code",
      "source": [
        "#view 5 lines of training actions\n",
        "train_actions[:5]"
      ],
      "metadata": {
        "colab": {
          "base_uri": "https://localhost:8080/"
        },
        "id": "g2VP_plWpbtS",
        "outputId": "fa2af508-0a83-40d6-c68f-81b92c76289b"
      },
      "execution_count": 25,
      "outputs": [
        {
          "output_type": "execute_result",
          "data": {
            "text/plain": [
              "['. \\n\\nREMOVED FOD AND INSPECTED AREA FOR DAMAGE, NO FAULTS NOTED AT THIS TIME, AIRCRAFT RETURNED TO SERVICE / LOTO DEVICE REMOVED AND STOWED AS REQ',\n",
              " '. \\n\\nPARKING BRAKE LIGHT RELAMPED BRAKE ON LIGHT IAW EMB 145XR MM 20-13-04 / LOTO REM',\n",
              " '. \\n\\nWIND SHEILD CLEANED BY OPS AS REQUIRED. / LOTO REMOVED AND STOWED',\n",
              " '. \\n\\nR/R FO RA CONTROLLER IAW E145AMM 34-61-02 OPS CK SAT / REMOVED AND STOWED LOTO AS REQUIRED',\n",
              " '. \\n\\nINSPECTED AND FOUND TO E145-2530-2021-001 HAS NOT BEEN COMPLIED WITH. NO PLACARD REQUIRED. / LOTO REMOVED AND STOWED LOTO AS REQ`D.']"
            ]
          },
          "metadata": {},
          "execution_count": 25
        }
      ]
    },
    {
      "cell_type": "markdown",
      "source": [
        " ### Model 1: Using actions"
      ],
      "metadata": {
        "id": "j82XT6cipbh3"
      }
    },
    {
      "cell_type": "code",
      "source": [
        "from sklearn.feature_extraction.text import TfidfVectorizer\n",
        "from sklearn.naive_bayes import MultinomialNB\n",
        "from sklearn.pipeline import Pipeline\n",
        "\n",
        "#create a pipeline\n",
        "model_1=Pipeline([\n",
        "    (\"tf-idf\", TfidfVectorizer()),\n",
        "    (\"clf\", MultinomialNB())\n",
        "    ])\n",
        "#Fit the pipeline to the training data\n",
        "model_1.fit(X=train_actions,\n",
        "            y=train_labels_encoded)"
      ],
      "metadata": {
        "colab": {
          "base_uri": "https://localhost:8080/"
        },
        "id": "_Vtj9MGctKDM",
        "outputId": "577e1f87-4b57-469c-8400-e74032f5f08c"
      },
      "execution_count": 26,
      "outputs": [
        {
          "output_type": "execute_result",
          "data": {
            "text/plain": [
              "Pipeline(steps=[('tf-idf', TfidfVectorizer()), ('clf', MultinomialNB())])"
            ]
          },
          "metadata": {},
          "execution_count": 26
        }
      ]
    },
    {
      "cell_type": "code",
      "source": [
        "#evaluate baseline model on validation dataset\n",
        "model_1.score(X=val_worksteps,\n",
        "              y=val_labels_encoded)"
      ],
      "metadata": {
        "colab": {
          "base_uri": "https://localhost:8080/"
        },
        "id": "6-A8cz9uvkOX",
        "outputId": "4327230c-f8d5-4a05-b07e-c2ede78a2dcb"
      },
      "execution_count": 27,
      "outputs": [
        {
          "output_type": "execute_result",
          "data": {
            "text/plain": [
              "0.7436619718309859"
            ]
          },
          "metadata": {},
          "execution_count": 27
        }
      ]
    },
    {
      "cell_type": "code",
      "source": [
        "#Make prediction using our baseline model\n",
        "model_1_preds=model_1.predict(val_worksteps)\n",
        "model_1_preds[:10]"
      ],
      "metadata": {
        "colab": {
          "base_uri": "https://localhost:8080/"
        },
        "id": "9ujScRpGwdwS",
        "outputId": "5568b680-a1e2-4ce1-d938-51d57c2e6fc5"
      },
      "execution_count": 28,
      "outputs": [
        {
          "output_type": "execute_result",
          "data": {
            "text/plain": [
              "array([ 41, 188, 188,  41,  53,  52, 142,  62, 102, 142])"
            ]
          },
          "metadata": {},
          "execution_count": 28
        }
      ]
    },
    {
      "cell_type": "code",
      "source": [
        "model_1_results=calculate_results(y_true=val_labels_encoded,\n",
        "                                   y_pred=model_1_preds)\n",
        "model_1_results"
      ],
      "metadata": {
        "colab": {
          "base_uri": "https://localhost:8080/"
        },
        "id": "mjw6VIGHwnDv",
        "outputId": "d744655f-5d69-4414-eef6-93e3248ebd7c"
      },
      "execution_count": 29,
      "outputs": [
        {
          "output_type": "stream",
          "name": "stderr",
          "text": [
            "/usr/local/lib/python3.7/dist-packages/sklearn/metrics/_classification.py:1318: UndefinedMetricWarning: Precision and F-score are ill-defined and being set to 0.0 in labels with no predicted samples. Use `zero_division` parameter to control this behavior.\n",
            "  _warn_prf(average, modifier, msg_start, len(result))\n"
          ]
        },
        {
          "output_type": "execute_result",
          "data": {
            "text/plain": [
              "{'accuracy': 74.36619718309859,\n",
              " 'precision': 0.72395171861574,\n",
              " 'recall': 0.7436619718309859,\n",
              " 'f1': 0.7056063618418784}"
            ]
          },
          "metadata": {},
          "execution_count": 29
        }
      ]
    },
    {
      "cell_type": "markdown",
      "source": [
        "## Prepare our data for deep modelling\n",
        "We will\n",
        "1. Create Vectorization layer\n",
        "2. Create embedding layer"
      ],
      "metadata": {
        "id": "5iBg0DCBl6Hi"
      }
    },
    {
      "cell_type": "code",
      "source": [
        "import numpy as np\n",
        "import tensorflow as tf\n",
        "from tensorflow.keras import layers"
      ],
      "metadata": {
        "id": "bSv5S10fnIBa"
      },
      "execution_count": 30,
      "outputs": []
    },
    {
      "cell_type": "code",
      "source": [
        " #How long is each worksteps sentences on average\n",
        " sent_lens=[len(sentence.split()) for sentence in train_worksteps]\n",
        " avg_sent_len=np.mean(sent_lens)\n",
        " avg_sent_len"
      ],
      "metadata": {
        "colab": {
          "base_uri": "https://localhost:8080/"
        },
        "id": "vHuzXHIfnNwB",
        "outputId": "e12db3cd-95d8-4940-efea-8b50aab2fdb4"
      },
      "execution_count": 31,
      "outputs": [
        {
          "output_type": "execute_result",
          "data": {
            "text/plain": [
              "11.703445135832448"
            ]
          },
          "metadata": {},
          "execution_count": 31
        }
      ]
    },
    {
      "cell_type": "code",
      "source": [
        "#Let's view the distribution\n",
        "import matplotlib.pyplot as plt\n",
        "plt.hist(sent_lens, bins=25);"
      ],
      "metadata": {
        "colab": {
          "base_uri": "https://localhost:8080/",
          "height": 265
        },
        "id": "xuB0rYUKnu8M",
        "outputId": "0aadd893-0d9b-4d57-f0ed-7fe2c083a37f"
      },
      "execution_count": 32,
      "outputs": [
        {
          "output_type": "display_data",
          "data": {
            "text/plain": [
              "<Figure size 432x288 with 1 Axes>"
            ],
            "image/png": "[encoded data removed]"
          },
          "metadata": {
            "needs_background": "light"
          }
        }
      ]
    },
    {
      "cell_type": "code",
      "source": [
        "# How long of a sentence length convers 95% of examples?\n",
        "output_seq_len=int(np.percentile(sent_lens, 99))\n",
        "output_seq_len"
      ],
      "metadata": {
        "colab": {
          "base_uri": "https://localhost:8080/"
        },
        "id": "RGtgbbe8oFoR",
        "outputId": "d27e929f-5521-4362-b130-1f87d4ccc799"
      },
      "execution_count": 33,
      "outputs": [
        {
          "output_type": "execute_result",
          "data": {
            "text/plain": [
              "73"
            ]
          },
          "metadata": {},
          "execution_count": 33
        }
      ]
    },
    {
      "cell_type": "code",
      "source": [
        "#maximum sequence length in the training set\n",
        "max(sent_lens)"
      ],
      "metadata": {
        "colab": {
          "base_uri": "https://localhost:8080/"
        },
        "id": "XKcLQP2QxCis",
        "outputId": "cecedb3b-3f29-4604-c4bd-61df2e7e77ef"
      },
      "execution_count": 34,
      "outputs": [
        {
          "output_type": "execute_result",
          "data": {
            "text/plain": [
              "329"
            ]
          },
          "metadata": {},
          "execution_count": 34
        }
      ]
    },
    {
      "cell_type": "markdown",
      "source": [
        "### Create Text Vectorizer Layer\n",
        "\n",
        "We want to make a layer that maps our text to numbers"
      ],
      "metadata": {
        "id": "qkHOTjgmxHcu"
      }
    },
    {
      "cell_type": "code",
      "source": [
        "#create text vectorizer\n",
        "from tensorflow.keras.layers.experimental.preprocessing import TextVectorization\n",
        "\n",
        "text_vectorizer=TextVectorization(max_tokens=30000, #number of words in vocab\n",
        "                                  output_sequence_length=output_seq_len, #desired output length of vectorized sequences\n",
        "                                  )"
      ],
      "metadata": {
        "id": "PY5MZOSizWDb"
      },
      "execution_count": 35,
      "outputs": []
    },
    {
      "cell_type": "code",
      "source": [
        "#fit (adapt) textvectorizer to training sentences\n",
        "\n",
        "text_vectorizer.adapt(train_worksteps)"
      ],
      "metadata": {
        "id": "wm96eFxZz4Rl"
      },
      "execution_count": 36,
      "outputs": []
    },
    {
      "cell_type": "code",
      "source": [
        "# Test out text vectorizer on random sentences\n",
        "import random\n",
        "target_sentence=random.choice(train_worksteps)\n",
        "print(f\"Text:\\n{target_sentence}\")\n",
        "print(f\"\\nLength of text:{len(target_sentence.split())}\")\n",
        "print(f\"\\nVectorized text: {text_vectorizer([target_sentence])}\")"
      ],
      "metadata": {
        "colab": {
          "base_uri": "https://localhost:8080/"
        },
        "id": "w8yyVmLWz-Td",
        "outputId": "de430e59-9447-43c7-ad16-6a5a2890326b"
      },
      "execution_count": 37,
      "outputs": [
        {
          "output_type": "stream",
          "name": "stdout",
          "text": [
            "Text:\n",
            "SPS ADVANCE EICAS MESSAGE ON START UP\n",
            "\n",
            "Length of text:7\n",
            "\n",
            "Vectorized text: [[254 738  15  27   4  55  53   0   0   0   0   0   0   0   0   0   0   0\n",
            "    0   0   0   0   0   0   0   0   0   0   0   0   0   0   0   0   0   0\n",
            "    0   0   0   0   0   0   0   0   0   0   0   0   0   0   0   0   0   0\n",
            "    0   0   0   0   0   0   0   0   0   0   0   0   0   0   0   0   0   0\n",
            "    0]]\n"
          ]
        }
      ]
    },
    {
      "cell_type": "code",
      "source": [
        "#how many words in our training vocabulary\n",
        "vocab =text_vectorizer.get_vocabulary()\n",
        "print(f\"Number of words in our vocab: {len(vocab)} \")\n",
        "print(f\"5 Most common words in the vocab:{vocab[:5]} \")\n",
        "print(f\"5 least common words in the vocab: {vocab[-5:]}\")"
      ],
      "metadata": {
        "colab": {
          "base_uri": "https://localhost:8080/"
        },
        "id": "cQARaGeb0Tiu",
        "outputId": "72256bbc-af8c-48fc-ecca-b088d0da3e08"
      },
      "execution_count": 38,
      "outputs": [
        {
          "output_type": "stream",
          "name": "stdout",
          "text": [
            "Number of words in our vocab: 6666 \n",
            "5 Most common words in the vocab:['', '[UNK]', 'loto', 'installed', 'on'] \n",
            "5 least common words in the vocab: ['0046422', '0044673', '0041', '002', '000']\n"
          ]
        }
      ]
    },
    {
      "cell_type": "code",
      "source": [
        "#Det the config of our text vectorizer\n",
        "text_vectorizer.get_config()"
      ],
      "metadata": {
        "colab": {
          "base_uri": "https://localhost:8080/"
        },
        "id": "i0k6Ky580lT-",
        "outputId": "28005c1f-aac4-4aef-cc4a-fa06224afb1d"
      },
      "execution_count": 39,
      "outputs": [
        {
          "output_type": "execute_result",
          "data": {
            "text/plain": [
              "{'name': 'text_vectorization',\n",
              " 'trainable': True,\n",
              " 'batch_input_shape': (None,),\n",
              " 'dtype': 'string',\n",
              " 'max_tokens': 30000,\n",
              " 'standardize': 'lower_and_strip_punctuation',\n",
              " 'split': 'whitespace',\n",
              " 'ngrams': None,\n",
              " 'output_mode': 'int',\n",
              " 'output_sequence_length': 73,\n",
              " 'pad_to_max_tokens': False,\n",
              " 'sparse': False,\n",
              " 'ragged': False,\n",
              " 'vocabulary': None,\n",
              " 'idf_weights': None}"
            ]
          },
          "metadata": {},
          "execution_count": 39
        }
      ]
    },
    {
      "cell_type": "markdown",
      "source": [
        "### Create custom text embedding\n",
        "\n",
        "So the text vectorizer (tokenizer) maps the words into numbers but the embedding maps the relationships between tokens and can be learned. "
      ],
      "metadata": {
        "id": "Qip3SlSP0rKW"
      }
    },
    {
      "cell_type": "code",
      "source": [
        "#Create token embedding layer\n",
        "token_embed=layers.Embedding(input_dim=len(vocab),\n",
        "                             output_dim=128, #Note: different embedding sizes result in drastically different number of parameters to train\n",
        "                             mask_zero=True, #use masking to handle variable sequence lengths (save space)\n",
        "                             name=\"Token_Embedding\"\n",
        ")\n"
      ],
      "metadata": {
        "id": "8hZh0Z1Z1GmZ"
      },
      "execution_count": 40,
      "outputs": []
    },
    {
      "cell_type": "code",
      "source": [
        "from matplotlib import text\n",
        "#show example embedding\n",
        "print(f\"sentence before vectorization:\\n {target_sentence}\\n\")\n",
        "vectorized_sentence=text_vectorizer([target_sentence])\n",
        "print(f\"sentence after vectorization(before embedding:\\n {vectorized_sentence}\\n\")\n",
        "embedded_sentence=token_embed(vectorized_sentence)\n",
        "print(f\"sentence after embedding:\\n {embedded_sentence}\\n\")\n",
        "print(f\"Embedded sentence shape:\\n{embedded_sentence.shape}\")"
      ],
      "metadata": {
        "colab": {
          "base_uri": "https://localhost:8080/"
        },
        "id": "uaoJq__712yQ",
        "outputId": "19753843-263b-42a0-80d7-698d0d103844"
      },
      "execution_count": 41,
      "outputs": [
        {
          "output_type": "stream",
          "name": "stdout",
          "text": [
            "sentence before vectorization:\n",
            " SPS ADVANCE EICAS MESSAGE ON START UP\n",
            "\n",
            "sentence after vectorization(before embedding:\n",
            " [[254 738  15  27   4  55  53   0   0   0   0   0   0   0   0   0   0   0\n",
            "    0   0   0   0   0   0   0   0   0   0   0   0   0   0   0   0   0   0\n",
            "    0   0   0   0   0   0   0   0   0   0   0   0   0   0   0   0   0   0\n",
            "    0   0   0   0   0   0   0   0   0   0   0   0   0   0   0   0   0   0\n",
            "    0]]\n",
            "\n",
            "sentence after embedding:\n",
            " [[[-0.02504611  0.02465155 -0.04571403 ... -0.04571367 -0.04190396\n",
            "    0.03140989]\n",
            "  [ 0.03715446 -0.02981641  0.03070721 ... -0.04821895  0.02660756\n",
            "   -0.02868505]\n",
            "  [ 0.00741644 -0.01362655  0.04278649 ... -0.00432213 -0.02387438\n",
            "    0.01232495]\n",
            "  ...\n",
            "  [ 0.00677463 -0.04140496 -0.03627934 ...  0.02065923  0.03214185\n",
            "   -0.01057565]\n",
            "  [ 0.00677463 -0.04140496 -0.03627934 ...  0.02065923  0.03214185\n",
            "   -0.01057565]\n",
            "  [ 0.00677463 -0.04140496 -0.03627934 ...  0.02065923  0.03214185\n",
            "   -0.01057565]]]\n",
            "\n",
            "Embedded sentence shape:\n",
            "(1, 73, 128)\n"
          ]
        }
      ]
    },
    {
      "cell_type": "markdown",
      "source": [
        "### Creating Datasets for Worksteps sentences\n",
        "We are going to setup our data to run as fast as possible with the Tensorflow tf.data API, many of the steps here are discussed at length in these two resources:\n",
        "- https://www.tensorflow.org/guide/data_performance\n",
        "- https://www.tensorflow.org/guide/data_performance\n"
      ],
      "metadata": {
        "id": "MBTLhzwW2Chh"
      }
    },
    {
      "cell_type": "code",
      "source": [
        "#Turn our data into Tensorflow Datasets for Worksteps\n",
        "train_dataset_worksteps=tf.data.Dataset.from_tensor_slices((train_worksteps, train_labels_one_hot))\n",
        "valid_dataset_worksteps=tf.data.Dataset.from_tensor_slices((val_worksteps, val_labels_one_hot))\n",
        "\n",
        "train_dataset_worksteps"
      ],
      "metadata": {
        "colab": {
          "base_uri": "https://localhost:8080/"
        },
        "id": "beu1ei972abk",
        "outputId": "d16e939e-1089-44e5-e9e9-df2e9844165b"
      },
      "execution_count": 42,
      "outputs": [
        {
          "output_type": "execute_result",
          "data": {
            "text/plain": [
              "<TensorSliceDataset element_spec=(TensorSpec(shape=(), dtype=tf.string, name=None), TensorSpec(shape=(244,), dtype=tf.float64, name=None))>"
            ]
          },
          "metadata": {},
          "execution_count": 42
        }
      ]
    },
    {
      "cell_type": "code",
      "source": [
        "#Take the TensorSliceDatasets and turn them inot prefetched datasets\n",
        "train_dataset_worksteps=train_dataset_worksteps.batch(32).prefetch(tf.data.AUTOTUNE)\n",
        "valid_dataset_worksteps=valid_dataset_worksteps.batch(32).prefetch(tf.data.AUTOTUNE)\n",
        "\n",
        "train_dataset_worksteps"
      ],
      "metadata": {
        "colab": {
          "base_uri": "https://localhost:8080/"
        },
        "id": "V-rh7l3I4Poa",
        "outputId": "7c096510-820b-4692-9279-c8d207363dfb"
      },
      "execution_count": 43,
      "outputs": [
        {
          "output_type": "execute_result",
          "data": {
            "text/plain": [
              "<PrefetchDataset element_spec=(TensorSpec(shape=(None,), dtype=tf.string, name=None), TensorSpec(shape=(None, 244), dtype=tf.float64, name=None))>"
            ]
          },
          "metadata": {},
          "execution_count": 43
        }
      ]
    },
    {
      "cell_type": "markdown",
      "source": [
        "### Model 2:  Conv1D for Worsteps with token embeddings"
      ],
      "metadata": {
        "id": "CE-4fyHr4XiU"
      }
    },
    {
      "cell_type": "code",
      "source": [
        "num_classes=244"
      ],
      "metadata": {
        "id": "zi76TUXH4ema"
      },
      "execution_count": 44,
      "outputs": []
    },
    {
      "cell_type": "code",
      "source": [
        "#create 1D conv model to process sequebces\n",
        "inputs=layers.Input(shape=(1,), dtype=tf.string)\n",
        "text_vectors=text_vectorizer(inputs)#vectorize text inputs\n",
        "token_embeddings=token_embed(text_vectors)#embedded the tokens\n",
        "x=layers.Conv1D(filters=64,\n",
        "                kernel_size=5,\n",
        "                strides=1,\n",
        "                padding=\"same\",\n",
        "                activation=\"relu\")(token_embeddings)\n",
        "x=layers.GlobalAveragePooling1D()(x) #condensed the out put of our feature vector from our conv layer\n",
        "outputs=layers.Dense(num_classes, activation=\"softmax\")(x)\n",
        "model_2=tf.keras.Model(inputs, outputs)\n",
        "\n",
        "#Compile \n",
        "model_2.compile(loss=\"categorical_crossentropy\",\n",
        "                optimizer=tf.keras.optimizers.Adam(),\n",
        "                metrics=[\"accuracy\"])"
      ],
      "metadata": {
        "id": "as5Sc5XV4jyT"
      },
      "execution_count": 45,
      "outputs": []
    },
    {
      "cell_type": "code",
      "source": [
        "model_2.summary()"
      ],
      "metadata": {
        "colab": {
          "base_uri": "https://localhost:8080/"
        },
        "id": "vOhqzpJD5TOX",
        "outputId": "726936af-c386-4cd5-83d5-35dd34b7dd01"
      },
      "execution_count": 46,
      "outputs": [
        {
          "output_type": "stream",
          "name": "stdout",
          "text": [
            "Model: \"model\"\n",
            "_________________________________________________________________\n",
            " Layer (type)                Output Shape              Param #   \n",
            "=================================================================\n",
            " input_1 (InputLayer)        [(None, 1)]               0         \n",
            "                                                                 \n",
            " text_vectorization (TextVec  (None, 73)               0         \n",
            " torization)                                                     \n",
            "                                                                 \n",
            " Token_Embedding (Embedding)  (None, 73, 128)          853248    \n",
            "                                                                 \n",
            " conv1d (Conv1D)             (None, 73, 64)            41024     \n",
            "                                                                 \n",
            " global_average_pooling1d (G  (None, 64)               0         \n",
            " lobalAveragePooling1D)                                          \n",
            "                                                                 \n",
            " dense (Dense)               (None, 244)               15860     \n",
            "                                                                 \n",
            "=================================================================\n",
            "Total params: 910,132\n",
            "Trainable params: 910,132\n",
            "Non-trainable params: 0\n",
            "_________________________________________________________________\n"
          ]
        }
      ]
    },
    {
      "cell_type": "code",
      "source": [
        "#Fit the model\n",
        "history_model_2=model_2.fit(train_dataset_worksteps,\n",
        "                            epochs=10,\n",
        "                            validation_data=valid_dataset_worksteps) #only validate on 10% of batches"
      ],
      "metadata": {
        "colab": {
          "base_uri": "https://localhost:8080/"
        },
        "id": "9CwuZr-55a6P",
        "outputId": "9f60e9d4-2f6a-4143-dc21-c3edd5f97232"
      },
      "execution_count": 47,
      "outputs": [
        {
          "output_type": "stream",
          "name": "stdout",
          "text": [
            "Epoch 1/10\n",
            "412/412 [==============================] - 15s 6ms/step - loss: 4.6240 - accuracy: 0.0581 - val_loss: 3.3884 - val_accuracy: 0.1915\n",
            "Epoch 2/10\n",
            "412/412 [==============================] - 2s 5ms/step - loss: 3.8194 - accuracy: 0.1606 - val_loss: 2.3502 - val_accuracy: 0.4085\n",
            "Epoch 3/10\n",
            "412/412 [==============================] - 2s 5ms/step - loss: 3.0263 - accuracy: 0.3380 - val_loss: 1.6800 - val_accuracy: 0.5887\n",
            "Epoch 4/10\n",
            "412/412 [==============================] - 2s 5ms/step - loss: 2.4011 - accuracy: 0.4791 - val_loss: 1.2905 - val_accuracy: 0.7070\n",
            "Epoch 5/10\n",
            "412/412 [==============================] - 2s 5ms/step - loss: 1.9627 - accuracy: 0.5749 - val_loss: 1.0638 - val_accuracy: 0.7577\n",
            "Epoch 6/10\n",
            "412/412 [==============================] - 2s 5ms/step - loss: 1.6406 - accuracy: 0.6426 - val_loss: 0.9165 - val_accuracy: 0.7859\n",
            "Epoch 7/10\n",
            "412/412 [==============================] - 2s 5ms/step - loss: 1.3899 - accuracy: 0.6927 - val_loss: 0.8214 - val_accuracy: 0.8141\n",
            "Epoch 8/10\n",
            "412/412 [==============================] - 2s 5ms/step - loss: 1.1937 - accuracy: 0.7336 - val_loss: 0.7585 - val_accuracy: 0.8254\n",
            "Epoch 9/10\n",
            "412/412 [==============================] - 2s 5ms/step - loss: 1.0391 - accuracy: 0.7676 - val_loss: 0.7178 - val_accuracy: 0.8282\n",
            "Epoch 10/10\n",
            "412/412 [==============================] - 2s 5ms/step - loss: 0.9144 - accuracy: 0.7934 - val_loss: 0.6940 - val_accuracy: 0.8479\n"
          ]
        }
      ]
    },
    {
      "cell_type": "code",
      "source": [
        "#evaluate our model 1 on whole validation dataset\n",
        "model_2.evaluate(valid_dataset_worksteps)"
      ],
      "metadata": {
        "colab": {
          "base_uri": "https://localhost:8080/"
        },
        "id": "jjyJJyBzEIRT",
        "outputId": "59d966d4-7ffe-462e-a647-16362d159e63"
      },
      "execution_count": 48,
      "outputs": [
        {
          "output_type": "stream",
          "name": "stdout",
          "text": [
            "12/12 [==============================] - 0s 3ms/step - loss: 0.6940 - accuracy: 0.8479\n"
          ]
        },
        {
          "output_type": "execute_result",
          "data": {
            "text/plain": [
              "[0.6939684152603149, 0.8478873372077942]"
            ]
          },
          "metadata": {},
          "execution_count": 48
        }
      ]
    },
    {
      "cell_type": "code",
      "source": [
        "#make prediciton (our model provides prediciton probabilities for each class)\n",
        "model_2_pred_probs=model_2.predict(valid_dataset_worksteps)\n",
        "model_2_pred_probs, model_2_pred_probs.shape"
      ],
      "metadata": {
        "colab": {
          "base_uri": "https://localhost:8080/"
        },
        "id": "o4kl_IulEaK3",
        "outputId": "bdbbe0b8-f904-45b2-8c99-3cf816eade00"
      },
      "execution_count": 49,
      "outputs": [
        {
          "output_type": "execute_result",
          "data": {
            "text/plain": [
              "(array([[4.1087419e-06, 4.1868375e-07, 3.7094687e-06, ..., 2.2440276e-05,\n",
              "         1.0437591e-03, 1.2485323e-03],\n",
              "        [8.0281528e-12, 1.8702641e-12, 1.1950055e-11, ..., 3.7073463e-08,\n",
              "         1.3904757e-05, 1.3363054e-04],\n",
              "        [9.7188579e-10, 1.0095687e-09, 1.7749296e-09, ..., 2.4037092e-07,\n",
              "         3.4988010e-05, 4.4119899e-04],\n",
              "        ...,\n",
              "        [1.0185963e-11, 6.9364028e-11, 7.6899563e-12, ..., 9.2307585e-13,\n",
              "         3.5127503e-08, 5.8249029e-08],\n",
              "        [9.7788355e-09, 1.7719247e-08, 4.5120732e-08, ..., 3.7883699e-10,\n",
              "         1.8867329e-06, 3.1805981e-04],\n",
              "        [3.3612637e-12, 6.5228257e-12, 1.5165964e-11, ..., 2.0502551e-09,\n",
              "         2.1717707e-10, 7.3745021e-08]], dtype=float32), (355, 244))"
            ]
          },
          "metadata": {},
          "execution_count": 49
        }
      ]
    },
    {
      "cell_type": "code",
      "source": [
        "#convert pred probs to classes\n",
        "model_2_preds=tf.argmax(model_2_pred_probs, axis=1) #returns the index where the maximum value occurs\n",
        "model_2_preds[:10]"
      ],
      "metadata": {
        "colab": {
          "base_uri": "https://localhost:8080/"
        },
        "id": "HL_jM4R9EoPg",
        "outputId": "cfd20b92-1307-43e7-c92e-9b270c6bf9e6"
      },
      "execution_count": 50,
      "outputs": [
        {
          "output_type": "execute_result",
          "data": {
            "text/plain": [
              "<tf.Tensor: shape=(10,), dtype=int64, numpy=array([ 41, 188, 142,  41,  53,  41, 203,  62, 102, 142])>"
            ]
          },
          "metadata": {},
          "execution_count": 50
        }
      ]
    },
    {
      "cell_type": "code",
      "source": [
        "#Get Category names\n",
        "num_classes=len(label_encoder.classes_)\n",
        "class_names=label_encoder.classes_\n",
        "num_classes, class_names[:10]"
      ],
      "metadata": {
        "colab": {
          "base_uri": "https://localhost:8080/"
        },
        "id": "t9T5Z-R5FtoX",
        "outputId": "2075a86d-a422-49ad-8cba-ba67830a8159"
      },
      "execution_count": 51,
      "outputs": [
        {
          "output_type": "execute_result",
          "data": {
            "text/plain": [
              "(244, array(['A/I PROBLEM-ENG', 'A/I PROBLEM-SYS', 'A/I PROBLEM-WING', 'ACARS',\n",
              "        'ACCESS DOOR/PANEL', 'ACCESS PANEL', 'ADC PROBLEM', 'ADF', 'ADS-B',\n",
              "        'AHRS'], dtype=object))"
            ]
          },
          "metadata": {},
          "execution_count": 51
        }
      ]
    },
    {
      "cell_type": "code",
      "source": [
        "#calculate model_1 results\n",
        "model_2_results=calculate_results(y_true=val_labels_encoded,\n",
        "                                  y_pred=model_2_preds)\n",
        "model_2_results"
      ],
      "metadata": {
        "colab": {
          "base_uri": "https://localhost:8080/"
        },
        "id": "Ri0Pzm6TGu3s",
        "outputId": "45df5331-8e51-476b-bc2d-65fb1f7e1db4"
      },
      "execution_count": 52,
      "outputs": [
        {
          "output_type": "stream",
          "name": "stderr",
          "text": [
            "/usr/local/lib/python3.7/dist-packages/sklearn/metrics/_classification.py:1318: UndefinedMetricWarning: Precision and F-score are ill-defined and being set to 0.0 in labels with no predicted samples. Use `zero_division` parameter to control this behavior.\n",
            "  _warn_prf(average, modifier, msg_start, len(result))\n",
            "/usr/local/lib/python3.7/dist-packages/sklearn/metrics/_classification.py:1318: UndefinedMetricWarning: Recall and F-score are ill-defined and being set to 0.0 in labels with no true samples. Use `zero_division` parameter to control this behavior.\n",
            "  _warn_prf(average, modifier, msg_start, len(result))\n"
          ]
        },
        {
          "output_type": "execute_result",
          "data": {
            "text/plain": [
              "{'accuracy': 84.78873239436619,\n",
              " 'precision': 0.8612997122520067,\n",
              " 'recall': 0.847887323943662,\n",
              " 'f1': 0.8489770313724762}"
            ]
          },
          "metadata": {},
          "execution_count": 52
        }
      ]
    },
    {
      "cell_type": "markdown",
      "source": [
        "### Prepare Data for Actions Modeling"
      ],
      "metadata": {
        "id": "U0yLRYHCSXvp"
      }
    },
    {
      "cell_type": "code",
      "source": [
        "#Turn our data into Tensorflow Datasets for actions\n",
        "train_dataset_actions=tf.data.Dataset.from_tensor_slices((train_actions, train_labels_one_hot))\n",
        "valid_dataset_actions=tf.data.Dataset.from_tensor_slices((val_actions, val_labels_one_hot))\n",
        "\n",
        "#Take the TensorSliceDatasets and turn them inot prefetched datasets\n",
        "train_dataset_actions=train_dataset_actions.batch(32).prefetch(tf.data.AUTOTUNE)\n",
        "valid_dataset_actions=valid_dataset_actions.batch(32).prefetch(tf.data.AUTOTUNE)\n",
        "\n",
        "train_dataset_actions\n"
      ],
      "metadata": {
        "colab": {
          "base_uri": "https://localhost:8080/"
        },
        "id": "GpGp2bbuG8hE",
        "outputId": "63e24d61-0332-45ac-d608-89c8cc43d11b"
      },
      "execution_count": 53,
      "outputs": [
        {
          "output_type": "execute_result",
          "data": {
            "text/plain": [
              "<PrefetchDataset element_spec=(TensorSpec(shape=(None,), dtype=tf.string, name=None), TensorSpec(shape=(None, 244), dtype=tf.float64, name=None))>"
            ]
          },
          "metadata": {},
          "execution_count": 53
        }
      ]
    },
    {
      "cell_type": "markdown",
      "source": [
        "### Model 3: Conv1D for Actions with token embeddings"
      ],
      "metadata": {
        "id": "Xc9MubGYScsQ"
      }
    },
    {
      "cell_type": "code",
      "source": [
        "#create 1D conv model to process sequebces\n",
        "inputs=layers.Input(shape=(1,), dtype=tf.string)\n",
        "text_vectors=text_vectorizer(inputs)#vectorize text inputs\n",
        "token_embeddings=token_embed(text_vectors)#embedded the tokens\n",
        "x=layers.Conv1D(filters=64,\n",
        "                kernel_size=5,\n",
        "                strides=1,\n",
        "                padding=\"same\",\n",
        "                activation=\"relu\")(token_embeddings)\n",
        "x=layers.GlobalAveragePooling1D()(x) #condensed the out put of our feature vector from our conv layer\n",
        "outputs=layers.Dense(num_classes, activation=\"softmax\")(x)\n",
        "model_3=tf.keras.Model(inputs, outputs)\n",
        "\n",
        "#Compile \n",
        "model_3.compile(loss=\"categorical_crossentropy\",\n",
        "                optimizer=tf.keras.optimizers.Adam(),\n",
        "                metrics=[\"accuracy\"])\n",
        "\n",
        "#Fit the model\n",
        "history_model_3=model_3.fit(train_dataset_actions,\n",
        "                            epochs=10,\n",
        "                            validation_data=valid_dataset_actions) "
      ],
      "metadata": {
        "colab": {
          "base_uri": "https://localhost:8080/"
        },
        "id": "yoS_wBQtSfQS",
        "outputId": "99382876-63a8-481f-a2f7-6b430514e7d5"
      },
      "execution_count": 54,
      "outputs": [
        {
          "output_type": "stream",
          "name": "stdout",
          "text": [
            "Epoch 1/10\n",
            "412/412 [==============================] - 3s 6ms/step - loss: 4.2033 - accuracy: 0.1671 - val_loss: 2.2822 - val_accuracy: 0.5296\n",
            "Epoch 2/10\n",
            "412/412 [==============================] - 2s 5ms/step - loss: 2.8996 - accuracy: 0.4105 - val_loss: 1.4596 - val_accuracy: 0.6817\n",
            "Epoch 3/10\n",
            "412/412 [==============================] - 2s 5ms/step - loss: 2.3105 - accuracy: 0.5155 - val_loss: 1.2025 - val_accuracy: 0.7296\n",
            "Epoch 4/10\n",
            "412/412 [==============================] - 2s 5ms/step - loss: 1.9948 - accuracy: 0.5713 - val_loss: 1.0898 - val_accuracy: 0.7634\n",
            "Epoch 5/10\n",
            "412/412 [==============================] - 2s 5ms/step - loss: 1.7835 - accuracy: 0.6106 - val_loss: 1.0270 - val_accuracy: 0.7718\n",
            "Epoch 6/10\n",
            "412/412 [==============================] - 2s 5ms/step - loss: 1.6248 - accuracy: 0.6419 - val_loss: 0.9906 - val_accuracy: 0.7746\n",
            "Epoch 7/10\n",
            "412/412 [==============================] - 2s 5ms/step - loss: 1.4976 - accuracy: 0.6676 - val_loss: 0.9701 - val_accuracy: 0.7831\n",
            "Epoch 8/10\n",
            "412/412 [==============================] - 2s 5ms/step - loss: 1.3921 - accuracy: 0.6889 - val_loss: 0.9570 - val_accuracy: 0.7775\n",
            "Epoch 9/10\n",
            "412/412 [==============================] - 2s 5ms/step - loss: 1.3026 - accuracy: 0.7055 - val_loss: 0.9486 - val_accuracy: 0.7803\n",
            "Epoch 10/10\n",
            "412/412 [==============================] - 2s 5ms/step - loss: 1.2242 - accuracy: 0.7201 - val_loss: 0.9444 - val_accuracy: 0.7831\n"
          ]
        }
      ]
    },
    {
      "cell_type": "code",
      "source": [
        "#evaluate our model 1 on whole validation dataset\n",
        "model_3.evaluate(valid_dataset_actions)"
      ],
      "metadata": {
        "colab": {
          "base_uri": "https://localhost:8080/"
        },
        "id": "SYCgKh-bShM2",
        "outputId": "cfc9dad8-a1ae-42b9-9be7-6b2515a4c138"
      },
      "execution_count": 55,
      "outputs": [
        {
          "output_type": "stream",
          "name": "stdout",
          "text": [
            "12/12 [==============================] - 0s 4ms/step - loss: 0.9444 - accuracy: 0.7831\n"
          ]
        },
        {
          "output_type": "execute_result",
          "data": {
            "text/plain": [
              "[0.9443871974945068, 0.783098578453064]"
            ]
          },
          "metadata": {},
          "execution_count": 55
        }
      ]
    },
    {
      "cell_type": "code",
      "source": [
        "#make prediciton (our model provides prediciton probabilities for each class)\n",
        "model_3_pred_probs=model_3.predict(valid_dataset_actions)\n",
        "model_3_pred_probs, model_3_pred_probs.shape\n",
        "#convert pred probs to classes\n",
        "model_3_preds=tf.argmax(model_3_pred_probs, axis=1) #returns the index where the maximum value occurs\n",
        "model_3_preds[:10]"
      ],
      "metadata": {
        "colab": {
          "base_uri": "https://localhost:8080/"
        },
        "id": "n9bhXq1sTUfq",
        "outputId": "c102ffbe-9bb3-40ba-bd04-2b02e4dfd2ac"
      },
      "execution_count": 56,
      "outputs": [
        {
          "output_type": "execute_result",
          "data": {
            "text/plain": [
              "<tf.Tensor: shape=(10,), dtype=int64, numpy=array([ 41, 174, 142,  41,  53,  41, 203,  62, 102,  53])>"
            ]
          },
          "metadata": {},
          "execution_count": 56
        }
      ]
    },
    {
      "cell_type": "code",
      "source": [
        "#calculate model_3 results\n",
        "model_3_results=calculate_results(y_true=val_labels_encoded,\n",
        "                                  y_pred=model_3_preds)\n",
        "model_3_results"
      ],
      "metadata": {
        "colab": {
          "base_uri": "https://localhost:8080/"
        },
        "id": "_n5GWHz7TxKq",
        "outputId": "bd55af29-92b9-4e45-b7df-a07b98fed360"
      },
      "execution_count": 57,
      "outputs": [
        {
          "output_type": "stream",
          "name": "stderr",
          "text": [
            "/usr/local/lib/python3.7/dist-packages/sklearn/metrics/_classification.py:1318: UndefinedMetricWarning: Precision and F-score are ill-defined and being set to 0.0 in labels with no predicted samples. Use `zero_division` parameter to control this behavior.\n",
            "  _warn_prf(average, modifier, msg_start, len(result))\n",
            "/usr/local/lib/python3.7/dist-packages/sklearn/metrics/_classification.py:1318: UndefinedMetricWarning: Recall and F-score are ill-defined and being set to 0.0 in labels with no true samples. Use `zero_division` parameter to control this behavior.\n",
            "  _warn_prf(average, modifier, msg_start, len(result))\n"
          ]
        },
        {
          "output_type": "execute_result",
          "data": {
            "text/plain": [
              "{'accuracy': 78.30985915492957,\n",
              " 'precision': 0.8178868097985319,\n",
              " 'recall': 0.7830985915492957,\n",
              " 'f1': 0.7935519134894184}"
            ]
          },
          "metadata": {},
          "execution_count": 57
        }
      ]
    },
    {
      "cell_type": "markdown",
      "source": [
        "### Model 4: Combining Worksteps and Actions "
      ],
      "metadata": {
        "id": "98OQanqiT41C"
      }
    },
    {
      "cell_type": "code",
      "source": [
        "#1. Setup tokem inputs/model\n",
        "inputs=layers.Input(shape=(1,), dtype=tf.string)\n",
        "text_vectors=text_vectorizer(inputs)#vectorize text inputs\n",
        "token_embeddings=token_embed(text_vectors)#embedded the tokens\n",
        "x=layers.Conv1D(filters=64,\n",
        "                kernel_size=5,\n",
        "                strides=1,\n",
        "                padding=\"same\",\n",
        "                activation=\"relu\")(token_embeddings)\n",
        "x=layers.GlobalAveragePooling1D()(x) #condensed the out put of our feature vector from our conv layer\n",
        "outputs=layers.Dense(num_classes, activation=\"softmax\")(x)\n",
        "token_model_worksteps=tf.keras.Model(inputs, outputs)\n",
        "\n",
        "\n",
        "#2. Setup char inputs/model\n",
        "inputs=layers.Input(shape=(1,), dtype=tf.string)\n",
        "text_vectors=text_vectorizer(inputs)#vectorize text inputs\n",
        "token_embeddings=token_embed(text_vectors)#embedded the tokens\n",
        "x=layers.Conv1D(filters=64,\n",
        "                kernel_size=5,\n",
        "                strides=1,\n",
        "                padding=\"same\",\n",
        "                activation=\"relu\")(token_embeddings)\n",
        "x=layers.GlobalAveragePooling1D()(x) #condensed the out put of our feature vector from our conv layer\n",
        "outputs=layers.Dense(num_classes, activation=\"softmax\")(x)\n",
        "token_model_actions=tf.keras.Model(inputs, outputs)\n",
        "\n",
        "#3.Combine 1 and 2 with concatenate (Create hybird token embedding)\n",
        "token_concat=layers.Concatenate(name=\"token_hybrid\")([token_model_actions.output,\n",
        "                                                                token_model_worksteps.output])\n",
        "\n",
        "#4.Create output layers-adding in Dropout, discussed in section 4.2 of the paper\n",
        "combined_dropout=layers.Dropout(0.5)(token_concat)\n",
        "combined_dense=layers.Dense(128, activation=\"relu\")(combined_dropout)\n",
        "final_dropout=layers.Dropout(0.5)(combined_dense)\n",
        "output_layer=layers.Dense(num_classes, activation=\"softmax\")(final_dropout)\n",
        "\n",
        "#5.Construct model with char and token inputs\n",
        "model_4=tf.keras.Model(inputs=[token_model_actions.input, token_model_worksteps.input],\n",
        "                       outputs=output_layer,\n",
        "                       name=\"model_4_token\")\n"
      ],
      "metadata": {
        "id": "Hfay_f6vU0TX"
      },
      "execution_count": 58,
      "outputs": []
    },
    {
      "cell_type": "code",
      "source": [
        "model_4.summary()"
      ],
      "metadata": {
        "colab": {
          "base_uri": "https://localhost:8080/"
        },
        "id": "t_OxbbmDWBYX",
        "outputId": "d741f978-28c6-42b5-9ac3-84d255e46384"
      },
      "execution_count": 59,
      "outputs": [
        {
          "output_type": "stream",
          "name": "stdout",
          "text": [
            "Model: \"model_4_token\"\n",
            "__________________________________________________________________________________________________\n",
            " Layer (type)                   Output Shape         Param #     Connected to                     \n",
            "==================================================================================================\n",
            " input_4 (InputLayer)           [(None, 1)]          0           []                               \n",
            "                                                                                                  \n",
            " input_3 (InputLayer)           [(None, 1)]          0           []                               \n",
            "                                                                                                  \n",
            " text_vectorization (TextVector  (None, 73)          0           ['input_3[0][0]',                \n",
            " ization)                                                         'input_4[0][0]']                \n",
            "                                                                                                  \n",
            " Token_Embedding (Embedding)    (None, 73, 128)      853248      ['text_vectorization[2][0]',     \n",
            "                                                                  'text_vectorization[3][0]']     \n",
            "                                                                                                  \n",
            " conv1d_3 (Conv1D)              (None, 73, 64)       41024       ['Token_Embedding[3][0]']        \n",
            "                                                                                                  \n",
            " conv1d_2 (Conv1D)              (None, 73, 64)       41024       ['Token_Embedding[2][0]']        \n",
            "                                                                                                  \n",
            " global_average_pooling1d_3 (Gl  (None, 64)          0           ['conv1d_3[0][0]']               \n",
            " obalAveragePooling1D)                                                                            \n",
            "                                                                                                  \n",
            " global_average_pooling1d_2 (Gl  (None, 64)          0           ['conv1d_2[0][0]']               \n",
            " obalAveragePooling1D)                                                                            \n",
            "                                                                                                  \n",
            " dense_3 (Dense)                (None, 244)          15860       ['global_average_pooling1d_3[0][0\n",
            "                                                                 ]']                              \n",
            "                                                                                                  \n",
            " dense_2 (Dense)                (None, 244)          15860       ['global_average_pooling1d_2[0][0\n",
            "                                                                 ]']                              \n",
            "                                                                                                  \n",
            " token_hybrid (Concatenate)     (None, 488)          0           ['dense_3[0][0]',                \n",
            "                                                                  'dense_2[0][0]']                \n",
            "                                                                                                  \n",
            " dropout (Dropout)              (None, 488)          0           ['token_hybrid[0][0]']           \n",
            "                                                                                                  \n",
            " dense_4 (Dense)                (None, 128)          62592       ['dropout[0][0]']                \n",
            "                                                                                                  \n",
            " dropout_1 (Dropout)            (None, 128)          0           ['dense_4[0][0]']                \n",
            "                                                                                                  \n",
            " dense_5 (Dense)                (None, 244)          31476       ['dropout_1[0][0]']              \n",
            "                                                                                                  \n",
            "==================================================================================================\n",
            "Total params: 1,061,084\n",
            "Trainable params: 1,061,084\n",
            "Non-trainable params: 0\n",
            "__________________________________________________________________________________________________\n"
          ]
        }
      ]
    },
    {
      "cell_type": "code",
      "source": [
        "#plot hybrid token and character model\n",
        "from keras.utils.vis_utils import plot_model\n",
        "plot_model(model_4, show_shapes=True)"
      ],
      "metadata": {
        "colab": {
          "base_uri": "https://localhost:8080/",
          "height": 1000
        },
        "id": "PKcNemdIWvH8",
        "outputId": "3d72df8c-057d-4a35-e6e4-26f9eb505ed3"
      },
      "execution_count": 60,
      "outputs": [
        {
          "output_type": "execute_result",
          "data": {
            "image/png": "[encoded data removed]",
            "text/plain": [
              "<IPython.core.display.Image object>"
            ]
          },
          "metadata": {},
          "execution_count": 60
        }
      ]
    },
    {
      "cell_type": "code",
      "source": [
        "#compile model\n",
        "model_4.compile(loss=\"categorical_crossentropy\",\n",
        "                optimizer=tf.keras.optimizers.Adam(),\n",
        "                metrics=[\"accuracy\"])"
      ],
      "metadata": {
        "id": "UxQ3eJHgXYRv"
      },
      "execution_count": 61,
      "outputs": []
    },
    {
      "cell_type": "markdown",
      "source": [
        "### Create dataset for our model"
      ],
      "metadata": {
        "id": "7yqcGEicXrg2"
      }
    },
    {
      "cell_type": "code",
      "source": [
        "#combine chards and tokens into a dataset\n",
        "train_worksteps_actions_data=tf.data.Dataset.from_tensor_slices((train_worksteps, train_actions)) #make data\n",
        "train_labels=tf.data.Dataset.from_tensor_slices(train_labels_one_hot) #make labels\n",
        "train_dataset=tf.data.Dataset.zip((train_worksteps_actions_data, train_labels)) #combine them\n",
        "\n",
        "#prefetch and batch train data\n",
        "train_dataset=train_dataset.batch(32).prefetch(tf.data.AUTOTUNE)\n"
      ],
      "metadata": {
        "id": "wJF65n_UXw9o"
      },
      "execution_count": 62,
      "outputs": []
    },
    {
      "cell_type": "code",
      "source": [
        "#combine chards and tokens into a dataset\n",
        "val_worksteps_actions_data=tf.data.Dataset.from_tensor_slices((val_worksteps, val_actions)) #make data\n",
        "val_labels=tf.data.Dataset.from_tensor_slices(val_labels_one_hot) #make labels\n",
        "val_dataset=tf.data.Dataset.zip((val_worksteps_actions_data, val_labels)) #combine them\n",
        "\n",
        "#prefetch and batch train data\n",
        "val_dataset=val_dataset.batch(32).prefetch(tf.data.AUTOTUNE)"
      ],
      "metadata": {
        "id": "qOcEtL_kZyKM"
      },
      "execution_count": 63,
      "outputs": []
    },
    {
      "cell_type": "markdown",
      "source": [
        "### Fitting the combined model\n"
      ],
      "metadata": {
        "id": "bqMPmFiAaQ-L"
      }
    },
    {
      "cell_type": "code",
      "source": [
        "#Fit the model\n",
        "history_model_4=model_4.fit(train_dataset,\n",
        "                            epochs=30,\n",
        "                            validation_data=val_dataset,\n",
        "                            verbose=0) "
      ],
      "metadata": {
        "id": "wdTgUR4uaepp"
      },
      "execution_count": 64,
      "outputs": []
    },
    {
      "cell_type": "code",
      "source": [
        "from helper_functions import plot_loss_curves"
      ],
      "metadata": {
        "id": "X7j9IiDQalO6"
      },
      "execution_count": 65,
      "outputs": []
    },
    {
      "cell_type": "code",
      "source": [
        "plot_loss_curves(history_model_4)"
      ],
      "metadata": {
        "colab": {
          "base_uri": "https://localhost:8080/",
          "height": 573
        },
        "id": "nOJxekcycVKt",
        "outputId": "71b6fc3d-e323-48b0-d942-0dcebd7c7990"
      },
      "execution_count": 66,
      "outputs": [
        {
          "output_type": "display_data",
          "data": {
            "text/plain": [
              "<Figure size 432x288 with 1 Axes>"
            ],
            "image/png": "[encoded data removed]"
          },
          "metadata": {
            "needs_background": "light"
          }
        },
        {
          "output_type": "display_data",
          "data": {
            "text/plain": [
              "<Figure size 432x288 with 1 Axes>"
            ],
            "image/png": "[encoded data removed]"
          },
          "metadata": {
            "needs_background": "light"
          }
        }
      ]
    },
    {
      "cell_type": "code",
      "source": [
        "#Make predictions with the char token pos model\n",
        "model_4_pred_probs=model_4.predict(val_dataset, verbose=1)\n",
        "model_4_pred_probs\n",
        "#convert pred probs to pred labels\n",
        "model_4_preds=tf.argmax(model_4_pred_probs, axis=1)\n",
        "model_4_preds[:10]\n"
      ],
      "metadata": {
        "colab": {
          "base_uri": "https://localhost:8080/"
        },
        "id": "QLFkehB_fR-o",
        "outputId": "9641c243-1997-4c2d-98ce-5e9d7b4eec0f"
      },
      "execution_count": 67,
      "outputs": [
        {
          "output_type": "stream",
          "name": "stdout",
          "text": [
            "12/12 [==============================] - 0s 3ms/step\n"
          ]
        },
        {
          "output_type": "execute_result",
          "data": {
            "text/plain": [
              "<tf.Tensor: shape=(10,), dtype=int64, numpy=array([ 41,  41, 142,  41,  53,  41, 203,  62, 102, 142])>"
            ]
          },
          "metadata": {},
          "execution_count": 67
        }
      ]
    },
    {
      "cell_type": "code",
      "source": [
        "#calcualte results of char token pos model\n",
        "model_4_results=calculate_results(y_true=val_labels_encoded,\n",
        "                                  y_pred=model_4_preds)\n",
        "model_4_results"
      ],
      "metadata": {
        "colab": {
          "base_uri": "https://localhost:8080/"
        },
        "id": "WMD8l1iLceK_",
        "outputId": "bd7d36b9-4866-47b0-c20d-f8a17bd2156a"
      },
      "execution_count": 68,
      "outputs": [
        {
          "output_type": "stream",
          "name": "stderr",
          "text": [
            "/usr/local/lib/python3.7/dist-packages/sklearn/metrics/_classification.py:1318: UndefinedMetricWarning: Precision and F-score are ill-defined and being set to 0.0 in labels with no predicted samples. Use `zero_division` parameter to control this behavior.\n",
            "  _warn_prf(average, modifier, msg_start, len(result))\n",
            "/usr/local/lib/python3.7/dist-packages/sklearn/metrics/_classification.py:1318: UndefinedMetricWarning: Recall and F-score are ill-defined and being set to 0.0 in labels with no true samples. Use `zero_division` parameter to control this behavior.\n",
            "  _warn_prf(average, modifier, msg_start, len(result))\n"
          ]
        },
        {
          "output_type": "execute_result",
          "data": {
            "text/plain": [
              "{'accuracy': 86.47887323943661,\n",
              " 'precision': 0.8926049998348894,\n",
              " 'recall': 0.8647887323943662,\n",
              " 'f1': 0.8698850936677899}"
            ]
          },
          "metadata": {},
          "execution_count": 68
        }
      ]
    },
    {
      "cell_type": "markdown",
      "source": [
        "## Compare Model Results"
      ],
      "metadata": {
        "id": "HorqsPgsf0kj"
      }
    },
    {
      "cell_type": "code",
      "source": [
        "all_model_results=pd.DataFrame({\"model_0_worksteps_naivebayes\": baseline_results,\n",
        "                                \"model_1_actions_naivebayes\": model_1_results,\n",
        "                                \"model_2_conv1_worksteps\": model_2_results,\n",
        "                                \"model_3_conv_actions\": model_4_results,\n",
        "                                \"model_4_hybrid\": model_4_results})\n",
        "all_model_results=all_model_results.transpose()\n",
        "all_model_results"
      ],
      "metadata": {
        "colab": {
          "base_uri": "https://localhost:8080/",
          "height": 206
        },
        "id": "tcN8eYpFf5_g",
        "outputId": "22d7e9cb-a0d2-42db-dd4b-1fc340d85045"
      },
      "execution_count": 69,
      "outputs": [
        {
          "output_type": "execute_result",
          "data": {
            "text/plain": [
              "                               accuracy  precision    recall        f1\n",
              "model_0_worksteps_naivebayes  77.746479   0.730849  0.777465  0.736252\n",
              "model_1_actions_naivebayes    74.366197   0.723952  0.743662  0.705606\n",
              "model_2_conv1_worksteps       84.788732   0.861300  0.847887  0.848977\n",
              "model_3_conv_actions          86.478873   0.892605  0.864789  0.869885\n",
              "model_4_hybrid                86.478873   0.892605  0.864789  0.869885"
            ],
            "text/html": [
              "\n",
              "  <div id=\"df-e23986a0-cd9a-4f76-831a-736c15e42614\">\n",
              "    <div class=\"colab-df-container\">\n",
              "      <div>\n",
              "<style scoped>\n",
              "    .dataframe tbody tr th:only-of-type {\n",
              "        vertical-align: middle;\n",
              "    }\n",
              "\n",
              "    .dataframe tbody tr th {\n",
              "        vertical-align: top;\n",
              "    }\n",
              "\n",
              "    .dataframe thead th {\n",
              "        text-align: right;\n",
              "    }\n",
              "</style>\n",
              "<table border=\"1\" class=\"dataframe\">\n",
              "  <thead>\n",
              "    <tr style=\"text-align: right;\">\n",
              "      <th></th>\n",
              "      <th>accuracy</th>\n",
              "      <th>precision</th>\n",
              "      <th>recall</th>\n",
              "      <th>f1</th>\n",
              "    </tr>\n",
              "  </thead>\n",
              "  <tbody>\n",
              "    <tr>\n",
              "      <th>model_0_worksteps_naivebayes</th>\n",
              "      <td>77.746479</td>\n",
              "      <td>0.730849</td>\n",
              "      <td>0.777465</td>\n",
              "      <td>0.736252</td>\n",
              "    </tr>\n",
              "    <tr>\n",
              "      <th>model_1_actions_naivebayes</th>\n",
              "      <td>74.366197</td>\n",
              "      <td>0.723952</td>\n",
              "      <td>0.743662</td>\n",
              "      <td>0.705606</td>\n",
              "    </tr>\n",
              "    <tr>\n",
              "      <th>model_2_conv1_worksteps</th>\n",
              "      <td>84.788732</td>\n",
              "      <td>0.861300</td>\n",
              "      <td>0.847887</td>\n",
              "      <td>0.848977</td>\n",
              "    </tr>\n",
              "    <tr>\n",
              "      <th>model_3_conv_actions</th>\n",
              "      <td>86.478873</td>\n",
              "      <td>0.892605</td>\n",
              "      <td>0.864789</td>\n",
              "      <td>0.869885</td>\n",
              "    </tr>\n",
              "    <tr>\n",
              "      <th>model_4_hybrid</th>\n",
              "      <td>86.478873</td>\n",
              "      <td>0.892605</td>\n",
              "      <td>0.864789</td>\n",
              "      <td>0.869885</td>\n",
              "    </tr>\n",
              "  </tbody>\n",
              "</table>\n",
              "</div>\n",
              "      <button class=\"colab-df-convert\" onclick=\"convertToInteractive('df-e23986a0-cd9a-4f76-831a-736c15e42614')\"\n",
              "              title=\"Convert this dataframe to an interactive table.\"\n",
              "              style=\"display:none;\">\n",
              "        \n",
              "  <svg xmlns=\"http://www.w3.org/2000/svg\" height=\"24px\"viewBox=\"0 0 24 24\"\n",
              "       width=\"24px\">\n",
              "    <path d=\"M0 0h24v24H0V0z\" fill=\"none\"/>\n",
              "    <path d=\"M18.56 5.44l.94 2.06.94-2.06 2.06-.94-2.06-.94-.94-2.06-.94 2.06-2.06.94zm-11 1L8.5 8.5l.94-2.06 2.06-.94-2.06-.94L8.5 2.5l-.94 2.06-2.06.94zm10 10l.94 2.06.94-2.06 2.06-.94-2.06-.94-.94-2.06-.94 2.06-2.06.94z\"/><path d=\"M17.41 7.96l-1.37-1.37c-.4-.4-.92-.59-1.43-.59-.52 0-1.04.2-1.43.59L10.3 9.45l-7.72 7.72c-.78.78-.78 2.05 0 2.83L4 21.41c.39.39.9.59 1.41.59.51 0 1.02-.2 1.41-.59l7.78-7.78 2.81-2.81c.8-.78.8-2.07 0-2.86zM5.41 20L4 18.59l7.72-7.72 1.47 1.35L5.41 20z\"/>\n",
              "  </svg>\n",
              "      </button>\n",
              "      \n",
              "  <style>\n",
              "    .colab-df-container {\n",
              "      display:flex;\n",
              "      flex-wrap:wrap;\n",
              "      gap: 12px;\n",
              "    }\n",
              "\n",
              "    .colab-df-convert {\n",
              "      background-color: #E8F0FE;\n",
              "      border: none;\n",
              "      border-radius: 50%;\n",
              "      cursor: pointer;\n",
              "      display: none;\n",
              "      fill: #1967D2;\n",
              "      height: 32px;\n",
              "      padding: 0 0 0 0;\n",
              "      width: 32px;\n",
              "    }\n",
              "\n",
              "    .colab-df-convert:hover {\n",
              "      background-color: #E2EBFA;\n",
              "      box-shadow: 0px 1px 2px rgba(60, 64, 67, 0.3), 0px 1px 3px 1px rgba(60, 64, 67, 0.15);\n",
              "      fill: #174EA6;\n",
              "    }\n",
              "\n",
              "    [theme=dark] .colab-df-convert {\n",
              "      background-color: #3B4455;\n",
              "      fill: #D2E3FC;\n",
              "    }\n",
              "\n",
              "    [theme=dark] .colab-df-convert:hover {\n",
              "      background-color: #434B5C;\n",
              "      box-shadow: 0px 1px 3px 1px rgba(0, 0, 0, 0.15);\n",
              "      filter: drop-shadow(0px 1px 2px rgba(0, 0, 0, 0.3));\n",
              "      fill: #FFFFFF;\n",
              "    }\n",
              "  </style>\n",
              "\n",
              "      <script>\n",
              "        const buttonEl =\n",
              "          document.querySelector('#df-e23986a0-cd9a-4f76-831a-736c15e42614 button.colab-df-convert');\n",
              "        buttonEl.style.display =\n",
              "          google.colab.kernel.accessAllowed ? 'block' : 'none';\n",
              "\n",
              "        async function convertToInteractive(key) {\n",
              "          const element = document.querySelector('#df-e23986a0-cd9a-4f76-831a-736c15e42614');\n",
              "          const dataTable =\n",
              "            await google.colab.kernel.invokeFunction('convertToInteractive',\n",
              "                                                     [key], {});\n",
              "          if (!dataTable) return;\n",
              "\n",
              "          const docLinkHtml = 'Like what you see? Visit the ' +\n",
              "            '<a target=\"_blank\" href=https://colab.research.google.com/notebooks/data_table.ipynb>data table notebook</a>'\n",
              "            + ' to learn more about interactive tables.';\n",
              "          element.innerHTML = '';\n",
              "          dataTable['output_type'] = 'display_data';\n",
              "          await google.colab.output.renderOutput(dataTable, element);\n",
              "          const docLink = document.createElement('div');\n",
              "          docLink.innerHTML = docLinkHtml;\n",
              "          element.appendChild(docLink);\n",
              "        }\n",
              "      </script>\n",
              "    </div>\n",
              "  </div>\n",
              "  "
            ]
          },
          "metadata": {},
          "execution_count": 69
        }
      ]
    },
    {
      "cell_type": "code",
      "source": [
        "#Reduce the accuracy to same scale as other metrics\n",
        "all_model_results[\"accuracy\"]=all_model_results[\"accuracy\"]/100\n",
        "#plot and compare all model results\n",
        "all_model_results.plot(kind=\"bar\", figsize=(10,7)).legend(bbox_to_anchor=(1.0, 1.0));"
      ],
      "metadata": {
        "colab": {
          "base_uri": "https://localhost:8080/",
          "height": 578
        },
        "id": "izI7-JCLhTAI",
        "outputId": "c4f2d795-cd23-47b8-88b0-31ab451e991e"
      },
      "execution_count": 70,
      "outputs": [
        {
          "output_type": "display_data",
          "data": {
            "text/plain": [
              "<Figure size 720x504 with 1 Axes>"
            ],
            "image/png": "[encoded data removed]"
          },
          "metadata": {
            "needs_background": "light"
          }
        }
      ]
    },
    {
      "cell_type": "markdown",
      "source": [
        "### Save and load model"
      ],
      "metadata": {
        "id": "_aZjAAuiiVrq"
      }
    },
    {
      "cell_type": "code",
      "source": [
        "# Save the best performing model to SavedModdel format\n",
        "model_4.save(\"pireps.model\")"
      ],
      "metadata": {
        "id": "rnlPuol2iu20"
      },
      "execution_count": 71,
      "outputs": []
    },
    {
      "cell_type": "code",
      "source": [
        "!zip -r /content/file.zip /content/pireps.model\n",
        "\n",
        "from google.colab import files\n",
        "files.download(\"/content/file.zip\")"
      ],
      "metadata": {
        "colab": {
          "base_uri": "https://localhost:8080/",
          "height": 156
        },
        "id": "khMUXLc1kKXT",
        "outputId": "b166edbe-6fe6-48b9-93a0-056d226ba28d"
      },
      "execution_count": 72,
      "outputs": [
        {
          "output_type": "stream",
          "name": "stdout",
          "text": [
            "  adding: content/pireps.model/ (stored 0%)\n",
            "  adding: content/pireps.model/keras_metadata.pb (deflated 91%)\n",
            "  adding: content/pireps.model/variables/ (stored 0%)\n",
            "  adding: content/pireps.model/variables/variables.index (deflated 67%)\n",
            "  adding: content/pireps.model/variables/variables.data-00000-of-00001 (deflated 7%)\n",
            "  adding: content/pireps.model/saved_model.pb (deflated 83%)\n",
            "  adding: content/pireps.model/assets/ (stored 0%)\n"
          ]
        },
        {
          "output_type": "display_data",
          "data": {
            "text/plain": [
              "<IPython.core.display.Javascript object>"
            ],
            "application/javascript": [
              "\n",
              "    async function download(id, filename, size) {\n",
              "      if (!google.colab.kernel.accessAllowed) {\n",
              "        return;\n",
              "      }\n",
              "      const div = document.createElement('div');\n",
              "      const label = document.createElement('label');\n",
              "      label.textContent = `Downloading \"${filename}\": `;\n",
              "      div.appendChild(label);\n",
              "      const progress = document.createElement('progress');\n",
              "      progress.max = size;\n",
              "      div.appendChild(progress);\n",
              "      document.body.appendChild(div);\n",
              "\n",
              "      const buffers = [];\n",
              "      let downloaded = 0;\n",
              "\n",
              "      const channel = await google.colab.kernel.comms.open(id);\n",
              "      // Send a message to notify the kernel that we're ready.\n",
              "      channel.send({})\n",
              "\n",
              "      for await (const message of channel.messages) {\n",
              "        // Send a message to notify the kernel that we're ready.\n",
              "        channel.send({})\n",
              "        if (message.buffers) {\n",
              "          for (const buffer of message.buffers) {\n",
              "            buffers.push(buffer);\n",
              "            downloaded += buffer.byteLength;\n",
              "            progress.value = downloaded;\n",
              "          }\n",
              "        }\n",
              "      }\n",
              "      const blob = new Blob(buffers, {type: 'application/binary'});\n",
              "      const a = document.createElement('a');\n",
              "      a.href = window.URL.createObjectURL(blob);\n",
              "      a.download = filename;\n",
              "      div.appendChild(a);\n",
              "      a.click();\n",
              "      div.remove();\n",
              "    }\n",
              "  "
            ]
          },
          "metadata": {}
        },
        {
          "output_type": "display_data",
          "data": {
            "text/plain": [
              "<IPython.core.display.Javascript object>"
            ],
            "application/javascript": [
              "download(\"download_a8179402-b191-4c69-83ea-cb849e0b554b\", \"file.zip\", 11907698)"
            ]
          },
          "metadata": {}
        }
      ]
    },
    {
      "cell_type": "code",
      "source": [
        "#Load in best performing model\n",
        "loaded_model=tf.keras.models.load_model(\"pireps.model\")"
      ],
      "metadata": {
        "id": "4b9SXlI0p7ba"
      },
      "execution_count": 73,
      "outputs": []
    },
    {
      "cell_type": "code",
      "source": [
        "#Make predictions with our load model on the validation set\n",
        "loaded_pred_probs=loaded_model.predict(val_dataset)\n",
        "loaded_preds=tf.argmax(loaded_pred_probs, axis=1)\n",
        "loaded_preds[:10]"
      ],
      "metadata": {
        "colab": {
          "base_uri": "https://localhost:8080/"
        },
        "id": "L9vXd_FlqHlv",
        "outputId": "1777336f-bbe4-4b50-acf4-57602608c887"
      },
      "execution_count": 74,
      "outputs": [
        {
          "output_type": "execute_result",
          "data": {
            "text/plain": [
              "<tf.Tensor: shape=(10,), dtype=int64, numpy=array([ 41,  41, 142,  41,  53,  41, 203,  62, 102, 142])>"
            ]
          },
          "metadata": {},
          "execution_count": 74
        }
      ]
    },
    {
      "cell_type": "code",
      "source": [
        "#calculate the results\n",
        "loaded_model_results=calculate_results(y_true=val_labels_encoded,\n",
        "                                       y_pred=loaded_preds)\n",
        "loaded_model_results"
      ],
      "metadata": {
        "colab": {
          "base_uri": "https://localhost:8080/"
        },
        "id": "OMWDzIjaqL4T",
        "outputId": "2a0b20df-97ce-451a-8b0c-7f4b98337957"
      },
      "execution_count": 75,
      "outputs": [
        {
          "output_type": "stream",
          "name": "stderr",
          "text": [
            "/usr/local/lib/python3.7/dist-packages/sklearn/metrics/_classification.py:1318: UndefinedMetricWarning: Precision and F-score are ill-defined and being set to 0.0 in labels with no predicted samples. Use `zero_division` parameter to control this behavior.\n",
            "  _warn_prf(average, modifier, msg_start, len(result))\n",
            "/usr/local/lib/python3.7/dist-packages/sklearn/metrics/_classification.py:1318: UndefinedMetricWarning: Recall and F-score are ill-defined and being set to 0.0 in labels with no true samples. Use `zero_division` parameter to control this behavior.\n",
            "  _warn_prf(average, modifier, msg_start, len(result))\n"
          ]
        },
        {
          "output_type": "execute_result",
          "data": {
            "text/plain": [
              "{'accuracy': 86.47887323943661,\n",
              " 'precision': 0.8926049998348894,\n",
              " 'recall': 0.8647887323943662,\n",
              " 'f1': 0.8698850936677899}"
            ]
          },
          "metadata": {},
          "execution_count": 75
        }
      ]
    },
    {
      "cell_type": "code",
      "source": [
        "model_4_results==loaded_model_results"
      ],
      "metadata": {
        "colab": {
          "base_uri": "https://localhost:8080/"
        },
        "id": "CFu0477gqYHa",
        "outputId": "889aba4c-ffbf-43e7-f2ae-b61d15356929"
      },
      "execution_count": 76,
      "outputs": [
        {
          "output_type": "execute_result",
          "data": {
            "text/plain": [
              "True"
            ]
          },
          "metadata": {},
          "execution_count": 76
        }
      ]
    },
    {
      "cell_type": "markdown",
      "source": [
        "## Generate Predicition for each event"
      ],
      "metadata": {
        "id": "k3UhsIigqcJz"
      }
    },
    {
      "cell_type": "code",
      "source": [
        "class_names=label_encoder.classes_\n",
        "\n",
        "for i in range(10):\n",
        "  prediction=tf.argmax(loaded_model.predict(val_dataset), axis=1)[i]\n",
        "  predicted_label=class_names[prediction]\n",
        "  print(val_df.worksteps[i][:50], \".....\")\n",
        "  print(val_df.actions[i][:50], \".....\")\n",
        "  print('Actual label: ' + val_df.category[i])\n",
        "  print('Predicted label: ' + predicted_label + '\\n')\n",
        "  "
      ],
      "metadata": {
        "colab": {
          "base_uri": "https://localhost:8080/"
        },
        "id": "E0mM1ZZyqr0U",
        "outputId": "3b973973-0f9f-4927-b263-0fb32ecb5391"
      },
      "execution_count": 86,
      "outputs": [
        {
          "output_type": "stream",
          "name": "stdout",
          "text": [
            "WINDOW SHADE 18D STUCK THREE QUARTERS OF THE WAY C .....\n",
            ". \n",
            "\n",
            "DEFERED PER NEF 25-90-17-1 PLACARD INSTALLED / .....\n",
            "Actual label: CABIN INTERIOR\n",
            "Predicted label: CABIN INTERIOR\n",
            "\n",
            "PANEL ABOVE SEAT 3C AND D HAS FALLEN OFF. / LOTO I .....\n",
            ". \n",
            "\n",
            "DEFERED PER MEL 25-22-00-3 LOWER PANEL SECURED .....\n",
            "Actual label: PSU\n",
            "Predicted label: CABIN INTERIOR\n",
            "\n",
            "LIGHT COVER ON 10A UNSECURED / LOTTO INSTALLED .....\n",
            ". \n",
            "\n",
            "RE-INSTALLED READING LIGHT COVER AT 10A IAW EM .....\n",
            "Actual label: INTERIOR LIGHT\n",
            "Predicted label: INTERIOR LIGHT\n",
            "\n",
            "WINDOW SHADE AT SEAT 1A WILL NOT OPEN .....\n",
            ". \n",
            "\n",
            "R/R WINDOW REVEAL ASSY IAW EMB 145 AMM 25-23-0 .....\n",
            "Actual label: CABIN INTERIOR\n",
            "Predicted label: CABIN INTERIOR\n",
            "\n",
            "MULTIPLE OVERHEAD PANEL BACKLIGHTING INOP / LOTO D .....\n",
            ". \n",
            "\n",
            "LP 1019302 PERFORMED OPERATIONAL CHECK OF OVER .....\n",
            "Actual label: COCKPIT LIGHT/PUSHBUTTON\n",
            "Predicted label: COCKPIT LIGHT/PUSHBUTTON\n",
            "\n",
            "RT SIDE EXIT ROW HANDLE COVER FALLING OFF / LOTO I .....\n",
            ". \n",
            "\n",
            "RESECURED EXIT ROW DOOR HANDLE COVER IRT EMB 1 .....\n",
            "Actual label: EMERGENCY EQUIPMENT\n",
            "Predicted label: CABIN INTERIOR\n",
            "\n",
            "ROW 5 PSU FELL / LOTO INSTALLED .....\n",
            ". \n",
            "\n",
            "RESECURED PSU UNIT ON ROW 5 IAW E145 25-22-05  .....\n",
            "Actual label: PSU\n",
            "Predicted label: PSU\n",
            "\n",
            "CAPT SEAT ADJ HANDLE BROKEN / LOTO INSTALLED .....\n",
            ". \n",
            "\n",
            "REINSTALLED CAPT SEAT ADJ HANDLE IAW ZODIAC CM .....\n",
            "Actual label: CREW SEAT\n",
            "Predicted label: CREW SEAT\n",
            "\n",
            "LEFT LANDING LIGHT INOP / LOTO INSTALLED .....\n",
            ". \n",
            "\n",
            "R&R LH LANDING LIGHT IAW EMB 145 AMM 33-41-02. .....\n",
            "Actual label: EXTERIOR LIGHT\n",
            "Predicted label: EXTERIOR LIGHT\n",
            "\n",
            "CEILING LIGHTS INOP 3A & 21A / LOTO INSTALLED .....\n",
            ". \n",
            "\n",
            "CEILING LTS R/R BULBS OPS CK GOOD REF EMB 145M .....\n",
            "Actual label: INTERIOR LIGHT\n",
            "Predicted label: INTERIOR LIGHT\n",
            "\n"
          ]
        }
      ]
    },
    {
      "cell_type": "code",
      "source": [
        "#Unbatch or unravel the val dataset\n",
        "val_labels=[]\n",
        "for worksteps_actions, labels in val_dataset.unbatch():\n",
        "  val_labels.append(labels.numpy().argmax())\n",
        "val_labels[:10]\n"
      ],
      "metadata": {
        "colab": {
          "base_uri": "https://localhost:8080/"
        },
        "id": "Nw7VbBILKEqc",
        "outputId": "7559883c-fc5c-47a1-aa35-686fa35f0a02"
      },
      "execution_count": 196,
      "outputs": [
        {
          "output_type": "execute_result",
          "data": {
            "text/plain": [
              "[41, 203, 142, 41, 53, 81, 203, 62, 102, 142]"
            ]
          },
          "metadata": {},
          "execution_count": 196
        }
      ]
    },
    {
      "cell_type": "code",
      "source": [
        "#Get Category names\n",
        "num_classes=len(label_encoder.classes_)\n",
        "class_names=label_encoder.classes_\n",
        "num_classes, class_names[:10]"
      ],
      "metadata": {
        "colab": {
          "base_uri": "https://localhost:8080/"
        },
        "id": "5soNf8nEK9WG",
        "outputId": "26b6d71f-cc3d-43b8-8e6a-d374365c195d"
      },
      "execution_count": 197,
      "outputs": [
        {
          "output_type": "execute_result",
          "data": {
            "text/plain": [
              "(244, array(['A/I PROBLEM-ENG', 'A/I PROBLEM-SYS', 'A/I PROBLEM-WING', 'ACARS',\n",
              "        'ACCESS DOOR/PANEL', 'ACCESS PANEL', 'ADC PROBLEM', 'ADF', 'ADS-B',\n",
              "        'AHRS'], dtype=object))"
            ]
          },
          "metadata": {},
          "execution_count": 197
        }
      ]
    },
    {
      "cell_type": "code",
      "source": [
        "val_df"
      ],
      "metadata": {
        "colab": {
          "base_uri": "https://localhost:8080/",
          "height": 424
        },
        "id": "DHXX1FV3S_q-",
        "outputId": "c7631f65-5248-42f6-ac0a-738d12f7dbfa"
      },
      "execution_count": 200,
      "outputs": [
        {
          "output_type": "execute_result",
          "data": {
            "text/plain": [
              "                                             worksteps  \\\n",
              "0    WINDOW SHADE 18D STUCK THREE QUARTERS OF THE W...   \n",
              "1    PANEL ABOVE SEAT 3C AND D HAS FALLEN OFF. / LO...   \n",
              "2       LIGHT COVER ON 10A UNSECURED / LOTTO INSTALLED   \n",
              "3                WINDOW SHADE AT SEAT 1A WILL NOT OPEN   \n",
              "4    MULTIPLE OVERHEAD PANEL BACKLIGHTING INOP / LO...   \n",
              "..                                                 ...   \n",
              "350  LH EMERGENCY EXIT HANDLE COVER LOOSE / LOTO IN...   \n",
              "351  PAPER TOWEL HOLDER LATCH NOT WORKING / LOTO IN...   \n",
              "352    PACK #1 PUSH BUTTON LIGHT INOP / LOTO INSTALLED   \n",
              "353  ANNUNCIATOR CALL LIGHTS POSSIBLE MISSING COVER...   \n",
              "354     CAPT SIDE WHITE NAV LIGHT OUT / LOTO INSTALLED   \n",
              "\n",
              "                                               actions  \\\n",
              "0    . \\n\\nDEFERED PER NEF 25-90-17-1 PLACARD INSTA...   \n",
              "1    . \\n\\nDEFERED PER MEL 25-22-00-3 LOWER PANEL S...   \n",
              "2    . \\n\\nRE-INSTALLED READING LIGHT COVER AT 10A ...   \n",
              "3    . \\n\\nR/R WINDOW REVEAL ASSY IAW EMB 145 AMM 2...   \n",
              "4    . \\n\\nLP 1019302 PERFORMED OPERATIONAL CHECK O...   \n",
              "..                                                 ...   \n",
              "350  . \\n\\nCOVER RESECURED LH EMER EXIT ACCESS PANE...   \n",
              "351  . \\n\\nRESECURED PAPER TOWEL LATCH , IN REF EMB...   \n",
              "352  . \\n\\nR&R #1 PACK PUSH BUTTON IAW EMB 145 AMM ...   \n",
              "353  . \\n\\nR&R ANNUNCIATOR CALL LIGHTS AT ROW 7, 8,...   \n",
              "354  . \\n\\nRELAMPED CAPTAIN`S SIDE WHITE NAV. LIGHT...   \n",
              "\n",
              "                     category  \n",
              "0              CABIN INTERIOR  \n",
              "1                         PSU  \n",
              "2              INTERIOR LIGHT  \n",
              "3              CABIN INTERIOR  \n",
              "4    COCKPIT LIGHT/PUSHBUTTON  \n",
              "..                        ...  \n",
              "350       EMERGENCY EQUIPMENT  \n",
              "351              LAV INTERIOR  \n",
              "352  COCKPIT LIGHT/PUSHBUTTON  \n",
              "353               FA CALL SYS  \n",
              "354            EXTERIOR LIGHT  \n",
              "\n",
              "[355 rows x 3 columns]"
            ],
            "text/html": [
              "\n",
              "  <div id=\"df-1bea0fb1-657b-4422-9306-dc846cce03ad\">\n",
              "    <div class=\"colab-df-container\">\n",
              "      <div>\n",
              "<style scoped>\n",
              "    .dataframe tbody tr th:only-of-type {\n",
              "        vertical-align: middle;\n",
              "    }\n",
              "\n",
              "    .dataframe tbody tr th {\n",
              "        vertical-align: top;\n",
              "    }\n",
              "\n",
              "    .dataframe thead th {\n",
              "        text-align: right;\n",
              "    }\n",
              "</style>\n",
              "<table border=\"1\" class=\"dataframe\">\n",
              "  <thead>\n",
              "    <tr style=\"text-align: right;\">\n",
              "      <th></th>\n",
              "      <th>worksteps</th>\n",
              "      <th>actions</th>\n",
              "      <th>category</th>\n",
              "    </tr>\n",
              "  </thead>\n",
              "  <tbody>\n",
              "    <tr>\n",
              "      <th>0</th>\n",
              "      <td>WINDOW SHADE 18D STUCK THREE QUARTERS OF THE W...</td>\n",
              "      <td>. \\n\\nDEFERED PER NEF 25-90-17-1 PLACARD INSTA...</td>\n",
              "      <td>CABIN INTERIOR</td>\n",
              "    </tr>\n",
              "    <tr>\n",
              "      <th>1</th>\n",
              "      <td>PANEL ABOVE SEAT 3C AND D HAS FALLEN OFF. / LO...</td>\n",
              "      <td>. \\n\\nDEFERED PER MEL 25-22-00-3 LOWER PANEL S...</td>\n",
              "      <td>PSU</td>\n",
              "    </tr>\n",
              "    <tr>\n",
              "      <th>2</th>\n",
              "      <td>LIGHT COVER ON 10A UNSECURED / LOTTO INSTALLED</td>\n",
              "      <td>. \\n\\nRE-INSTALLED READING LIGHT COVER AT 10A ...</td>\n",
              "      <td>INTERIOR LIGHT</td>\n",
              "    </tr>\n",
              "    <tr>\n",
              "      <th>3</th>\n",
              "      <td>WINDOW SHADE AT SEAT 1A WILL NOT OPEN</td>\n",
              "      <td>. \\n\\nR/R WINDOW REVEAL ASSY IAW EMB 145 AMM 2...</td>\n",
              "      <td>CABIN INTERIOR</td>\n",
              "    </tr>\n",
              "    <tr>\n",
              "      <th>4</th>\n",
              "      <td>MULTIPLE OVERHEAD PANEL BACKLIGHTING INOP / LO...</td>\n",
              "      <td>. \\n\\nLP 1019302 PERFORMED OPERATIONAL CHECK O...</td>\n",
              "      <td>COCKPIT LIGHT/PUSHBUTTON</td>\n",
              "    </tr>\n",
              "    <tr>\n",
              "      <th>...</th>\n",
              "      <td>...</td>\n",
              "      <td>...</td>\n",
              "      <td>...</td>\n",
              "    </tr>\n",
              "    <tr>\n",
              "      <th>350</th>\n",
              "      <td>LH EMERGENCY EXIT HANDLE COVER LOOSE / LOTO IN...</td>\n",
              "      <td>. \\n\\nCOVER RESECURED LH EMER EXIT ACCESS PANE...</td>\n",
              "      <td>EMERGENCY EQUIPMENT</td>\n",
              "    </tr>\n",
              "    <tr>\n",
              "      <th>351</th>\n",
              "      <td>PAPER TOWEL HOLDER LATCH NOT WORKING / LOTO IN...</td>\n",
              "      <td>. \\n\\nRESECURED PAPER TOWEL LATCH , IN REF EMB...</td>\n",
              "      <td>LAV INTERIOR</td>\n",
              "    </tr>\n",
              "    <tr>\n",
              "      <th>352</th>\n",
              "      <td>PACK #1 PUSH BUTTON LIGHT INOP / LOTO INSTALLED</td>\n",
              "      <td>. \\n\\nR&amp;R #1 PACK PUSH BUTTON IAW EMB 145 AMM ...</td>\n",
              "      <td>COCKPIT LIGHT/PUSHBUTTON</td>\n",
              "    </tr>\n",
              "    <tr>\n",
              "      <th>353</th>\n",
              "      <td>ANNUNCIATOR CALL LIGHTS POSSIBLE MISSING COVER...</td>\n",
              "      <td>. \\n\\nR&amp;R ANNUNCIATOR CALL LIGHTS AT ROW 7, 8,...</td>\n",
              "      <td>FA CALL SYS</td>\n",
              "    </tr>\n",
              "    <tr>\n",
              "      <th>354</th>\n",
              "      <td>CAPT SIDE WHITE NAV LIGHT OUT / LOTO INSTALLED</td>\n",
              "      <td>. \\n\\nRELAMPED CAPTAIN`S SIDE WHITE NAV. LIGHT...</td>\n",
              "      <td>EXTERIOR LIGHT</td>\n",
              "    </tr>\n",
              "  </tbody>\n",
              "</table>\n",
              "<p>355 rows × 3 columns</p>\n",
              "</div>\n",
              "      <button class=\"colab-df-convert\" onclick=\"convertToInteractive('df-1bea0fb1-657b-4422-9306-dc846cce03ad')\"\n",
              "              title=\"Convert this dataframe to an interactive table.\"\n",
              "              style=\"display:none;\">\n",
              "        \n",
              "  <svg xmlns=\"http://www.w3.org/2000/svg\" height=\"24px\"viewBox=\"0 0 24 24\"\n",
              "       width=\"24px\">\n",
              "    <path d=\"M0 0h24v24H0V0z\" fill=\"none\"/>\n",
              "    <path d=\"M18.56 5.44l.94 2.06.94-2.06 2.06-.94-2.06-.94-.94-2.06-.94 2.06-2.06.94zm-11 1L8.5 8.5l.94-2.06 2.06-.94-2.06-.94L8.5 2.5l-.94 2.06-2.06.94zm10 10l.94 2.06.94-2.06 2.06-.94-2.06-.94-.94-2.06-.94 2.06-2.06.94z\"/><path d=\"M17.41 7.96l-1.37-1.37c-.4-.4-.92-.59-1.43-.59-.52 0-1.04.2-1.43.59L10.3 9.45l-7.72 7.72c-.78.78-.78 2.05 0 2.83L4 21.41c.39.39.9.59 1.41.59.51 0 1.02-.2 1.41-.59l7.78-7.78 2.81-2.81c.8-.78.8-2.07 0-2.86zM5.41 20L4 18.59l7.72-7.72 1.47 1.35L5.41 20z\"/>\n",
              "  </svg>\n",
              "      </button>\n",
              "      \n",
              "  <style>\n",
              "    .colab-df-container {\n",
              "      display:flex;\n",
              "      flex-wrap:wrap;\n",
              "      gap: 12px;\n",
              "    }\n",
              "\n",
              "    .colab-df-convert {\n",
              "      background-color: #E8F0FE;\n",
              "      border: none;\n",
              "      border-radius: 50%;\n",
              "      cursor: pointer;\n",
              "      display: none;\n",
              "      fill: #1967D2;\n",
              "      height: 32px;\n",
              "      padding: 0 0 0 0;\n",
              "      width: 32px;\n",
              "    }\n",
              "\n",
              "    .colab-df-convert:hover {\n",
              "      background-color: #E2EBFA;\n",
              "      box-shadow: 0px 1px 2px rgba(60, 64, 67, 0.3), 0px 1px 3px 1px rgba(60, 64, 67, 0.15);\n",
              "      fill: #174EA6;\n",
              "    }\n",
              "\n",
              "    [theme=dark] .colab-df-convert {\n",
              "      background-color: #3B4455;\n",
              "      fill: #D2E3FC;\n",
              "    }\n",
              "\n",
              "    [theme=dark] .colab-df-convert:hover {\n",
              "      background-color: #434B5C;\n",
              "      box-shadow: 0px 1px 3px 1px rgba(0, 0, 0, 0.15);\n",
              "      filter: drop-shadow(0px 1px 2px rgba(0, 0, 0, 0.3));\n",
              "      fill: #FFFFFF;\n",
              "    }\n",
              "  </style>\n",
              "\n",
              "      <script>\n",
              "        const buttonEl =\n",
              "          document.querySelector('#df-1bea0fb1-657b-4422-9306-dc846cce03ad button.colab-df-convert');\n",
              "        buttonEl.style.display =\n",
              "          google.colab.kernel.accessAllowed ? 'block' : 'none';\n",
              "\n",
              "        async function convertToInteractive(key) {\n",
              "          const element = document.querySelector('#df-1bea0fb1-657b-4422-9306-dc846cce03ad');\n",
              "          const dataTable =\n",
              "            await google.colab.kernel.invokeFunction('convertToInteractive',\n",
              "                                                     [key], {});\n",
              "          if (!dataTable) return;\n",
              "\n",
              "          const docLinkHtml = 'Like what you see? Visit the ' +\n",
              "            '<a target=\"_blank\" href=https://colab.research.google.com/notebooks/data_table.ipynb>data table notebook</a>'\n",
              "            + ' to learn more about interactive tables.';\n",
              "          element.innerHTML = '';\n",
              "          dataTable['output_type'] = 'display_data';\n",
              "          await google.colab.output.renderOutput(dataTable, element);\n",
              "          const docLink = document.createElement('div');\n",
              "          docLink.innerHTML = docLinkHtml;\n",
              "          element.appendChild(docLink);\n",
              "        }\n",
              "      </script>\n",
              "    </div>\n",
              "  </div>\n",
              "  "
            ]
          },
          "metadata": {},
          "execution_count": 200
        }
      ]
    },
    {
      "cell_type": "code",
      "source": [
        "#let get the category for test prediction\n",
        "val_pred_classes=[label_encoder.classes_[pred] for pred in loaded_preds ]\n",
        "val_pred_classes[:10]"
      ],
      "metadata": {
        "colab": {
          "base_uri": "https://localhost:8080/"
        },
        "id": "d8uaJnZhcxq-",
        "outputId": "75537464-b369-451f-e3a7-a7e77d248011"
      },
      "execution_count": 209,
      "outputs": [
        {
          "output_type": "execute_result",
          "data": {
            "text/plain": [
              "['CABIN INTERIOR',\n",
              " 'CABIN INTERIOR',\n",
              " 'INTERIOR LIGHT',\n",
              " 'CABIN INTERIOR',\n",
              " 'COCKPIT LIGHT/PUSHBUTTON',\n",
              " 'CABIN INTERIOR',\n",
              " 'PSU',\n",
              " 'CREW SEAT',\n",
              " 'EXTERIOR LIGHT',\n",
              " 'INTERIOR LIGHT']"
            ]
          },
          "metadata": {},
          "execution_count": 209
        }
      ]
    },
    {
      "cell_type": "code",
      "source": [
        "#Add prediction to val_df\n",
        "val_df[\"prediction\"]=val_pred_classes\n",
        "val_df[\"prediction_probability\"]=tf.reduce_max(loaded_pred_probs, axis=1).numpy()\n",
        "val_df[\"correct\"]=val_df[\"prediction\"]==val_df[\"category\"]"
      ],
      "metadata": {
        "id": "nhap8LKcbkT0"
      },
      "execution_count": 212,
      "outputs": []
    },
    {
      "cell_type": "code",
      "source": [
        "val_df[:20]"
      ],
      "metadata": {
        "colab": {
          "base_uri": "https://localhost:8080/",
          "height": 677
        },
        "id": "iIGagW8-emac",
        "outputId": "9798dd0d-320d-4e01-9bbd-09fd08f3a49d"
      },
      "execution_count": 222,
      "outputs": [
        {
          "output_type": "execute_result",
          "data": {
            "text/plain": [
              "                                            worksteps  \\\n",
              "0   WINDOW SHADE 18D STUCK THREE QUARTERS OF THE W...   \n",
              "1   PANEL ABOVE SEAT 3C AND D HAS FALLEN OFF. / LO...   \n",
              "2      LIGHT COVER ON 10A UNSECURED / LOTTO INSTALLED   \n",
              "3               WINDOW SHADE AT SEAT 1A WILL NOT OPEN   \n",
              "4   MULTIPLE OVERHEAD PANEL BACKLIGHTING INOP / LO...   \n",
              "5   RT SIDE EXIT ROW HANDLE COVER FALLING OFF / LO...   \n",
              "6                     ROW 5 PSU FELL / LOTO INSTALLED   \n",
              "7        CAPT SEAT ADJ HANDLE BROKEN / LOTO INSTALLED   \n",
              "8            LEFT LANDING LIGHT INOP / LOTO INSTALLED   \n",
              "9       CEILING LIGHTS INOP 3A & 21A / LOTO INSTALLED   \n",
              "10   AFT GALLEY TRASH CAN LATCH BROKEN LOTO INSTALLED   \n",
              "11                  AED FLASHING RED / LOTO INSTALLED   \n",
              "12                    LAV DOOR STUCK / LOTO INSTALLED   \n",
              "13  LAV TO CARGO COMPARTMENT LINING CAME LOOSE / L...   \n",
              "14      OVERHEAD BIN AT ROW 7 BROKEN / LOTO INSTALLED   \n",
              "15           MISSING 2 SEAT BELT EXT / LOTO INSTALLED   \n",
              "16  BLEED 2 PUSH BUTTON LIGHT INOP / LOTO DEVICE I...   \n",
              "17  COFFEE MAKER NEEDS RESECURING / LOTO DEVICE IN...   \n",
              "18           NOSE LANDING LIGHT INOP / LOTO INSTALLED   \n",
              "19  COFFEE MAKER #1 ON/OFF BUTTON BROKEN / LOTO IN...   \n",
              "\n",
              "                                              actions  \\\n",
              "0   . \\n\\nDEFERED PER NEF 25-90-17-1 PLACARD INSTA...   \n",
              "1   . \\n\\nDEFERED PER MEL 25-22-00-3 LOWER PANEL S...   \n",
              "2   . \\n\\nRE-INSTALLED READING LIGHT COVER AT 10A ...   \n",
              "3   . \\n\\nR/R WINDOW REVEAL ASSY IAW EMB 145 AMM 2...   \n",
              "4   . \\n\\nLP 1019302 PERFORMED OPERATIONAL CHECK O...   \n",
              "5   . \\n\\nRESECURED EXIT ROW DOOR HANDLE COVER IRT...   \n",
              "6   . \\n\\nRESECURED PSU UNIT ON ROW 5 IAW E145 25-...   \n",
              "7   . \\n\\nREINSTALLED CAPT SEAT ADJ HANDLE IAW ZOD...   \n",
              "8   . \\n\\nR&R LH LANDING LIGHT IAW EMB 145 AMM 33-...   \n",
              "9   . \\n\\nCEILING LTS R/R BULBS OPS CK GOOD REF EM...   \n",
              "10  . \\n\\nLATCH NOT BROKEN, LUBERCATED LATCH AND O...   \n",
              "11                . \\n\\nR&R AED AS REQ / LOTO REMOVED   \n",
              "12  . \\n\\nFOUND LOOSE PLATE ON BOTTOM OF DOOR. RES...   \n",
              "13  . \\n\\nRESECURED PANEL IN LAV TO BAG COMPARTMEN...   \n",
              "14  . \\n\\nOVERHEAD BIN RESECURED OVERHEAD BIN ROW ...   \n",
              "15  . \\n\\nREPLACED MISSING SEATBELT EXTENDERS AS R...   \n",
              "16  . \\n\\nRELAMPED BLEED 2 PUSH BUTTON LIGHT, OPS ...   \n",
              "17  . \\n\\nDEFER PER NEF 25-92-01-1, SECURED #1 COF...   \n",
              "18  . \\n\\nDEFER PER MEL 33-41-00-1, PULLED AND COL...   \n",
              "19  . \\n\\nDEFER PER NEF 25-92-01, PLACARD APPLIED ...   \n",
              "\n",
              "                    category                prediction  \\\n",
              "0             CABIN INTERIOR            CABIN INTERIOR   \n",
              "1                        PSU            CABIN INTERIOR   \n",
              "2             INTERIOR LIGHT            INTERIOR LIGHT   \n",
              "3             CABIN INTERIOR            CABIN INTERIOR   \n",
              "4   COCKPIT LIGHT/PUSHBUTTON  COCKPIT LIGHT/PUSHBUTTON   \n",
              "5        EMERGENCY EQUIPMENT            CABIN INTERIOR   \n",
              "6                        PSU                       PSU   \n",
              "7                  CREW SEAT                 CREW SEAT   \n",
              "8             EXTERIOR LIGHT            EXTERIOR LIGHT   \n",
              "9             INTERIOR LIGHT            INTERIOR LIGHT   \n",
              "10                    GALLEY                    GALLEY   \n",
              "11       EMERGENCY EQUIPMENT       EMERGENCY EQUIPMENT   \n",
              "12                  LAV DOOR                  LAV DOOR   \n",
              "13              LAV INTERIOR              LAV INTERIOR   \n",
              "14                  OVHD BIN                  OVHD BIN   \n",
              "15    PAX-SEAT BELT EXTENDER    PAX-SEAT BELT EXTENDER   \n",
              "16  COCKPIT LIGHT/PUSHBUTTON  COCKPIT LIGHT/PUSHBUTTON   \n",
              "17          COFFEE POT/MAKER          COFFEE POT/MAKER   \n",
              "18            EXTERIOR LIGHT            EXTERIOR LIGHT   \n",
              "19          COFFEE POT/MAKER          COFFEE POT/MAKER   \n",
              "\n",
              "    prediction_probability  correct  \n",
              "0                 0.826329     True  \n",
              "1                 0.836415    False  \n",
              "2                 0.985199     True  \n",
              "3                 0.968791     True  \n",
              "4                 0.989665     True  \n",
              "5                 0.807960    False  \n",
              "6                 0.924171     True  \n",
              "7                 0.987092     True  \n",
              "8                 0.988828     True  \n",
              "9                 0.983075     True  \n",
              "10                0.959989     True  \n",
              "11                0.987338     True  \n",
              "12                0.522752     True  \n",
              "13                0.576277     True  \n",
              "14                0.995242     True  \n",
              "15                0.990867     True  \n",
              "16                0.997790     True  \n",
              "17                0.999429     True  \n",
              "18                0.998159     True  \n",
              "19                0.929507     True  "
            ],
            "text/html": [
              "\n",
              "  <div id=\"df-cad2dc17-9f42-49e8-a1f6-4db558b02131\">\n",
              "    <div class=\"colab-df-container\">\n",
              "      <div>\n",
              "<style scoped>\n",
              "    .dataframe tbody tr th:only-of-type {\n",
              "        vertical-align: middle;\n",
              "    }\n",
              "\n",
              "    .dataframe tbody tr th {\n",
              "        vertical-align: top;\n",
              "    }\n",
              "\n",
              "    .dataframe thead th {\n",
              "        text-align: right;\n",
              "    }\n",
              "</style>\n",
              "<table border=\"1\" class=\"dataframe\">\n",
              "  <thead>\n",
              "    <tr style=\"text-align: right;\">\n",
              "      <th></th>\n",
              "      <th>worksteps</th>\n",
              "      <th>actions</th>\n",
              "      <th>category</th>\n",
              "      <th>prediction</th>\n",
              "      <th>prediction_probability</th>\n",
              "      <th>correct</th>\n",
              "    </tr>\n",
              "  </thead>\n",
              "  <tbody>\n",
              "    <tr>\n",
              "      <th>0</th>\n",
              "      <td>WINDOW SHADE 18D STUCK THREE QUARTERS OF THE W...</td>\n",
              "      <td>. \\n\\nDEFERED PER NEF 25-90-17-1 PLACARD INSTA...</td>\n",
              "      <td>CABIN INTERIOR</td>\n",
              "      <td>CABIN INTERIOR</td>\n",
              "      <td>0.826329</td>\n",
              "      <td>True</td>\n",
              "    </tr>\n",
              "    <tr>\n",
              "      <th>1</th>\n",
              "      <td>PANEL ABOVE SEAT 3C AND D HAS FALLEN OFF. / LO...</td>\n",
              "      <td>. \\n\\nDEFERED PER MEL 25-22-00-3 LOWER PANEL S...</td>\n",
              "      <td>PSU</td>\n",
              "      <td>CABIN INTERIOR</td>\n",
              "      <td>0.836415</td>\n",
              "      <td>False</td>\n",
              "    </tr>\n",
              "    <tr>\n",
              "      <th>2</th>\n",
              "      <td>LIGHT COVER ON 10A UNSECURED / LOTTO INSTALLED</td>\n",
              "      <td>. \\n\\nRE-INSTALLED READING LIGHT COVER AT 10A ...</td>\n",
              "      <td>INTERIOR LIGHT</td>\n",
              "      <td>INTERIOR LIGHT</td>\n",
              "      <td>0.985199</td>\n",
              "      <td>True</td>\n",
              "    </tr>\n",
              "    <tr>\n",
              "      <th>3</th>\n",
              "      <td>WINDOW SHADE AT SEAT 1A WILL NOT OPEN</td>\n",
              "      <td>. \\n\\nR/R WINDOW REVEAL ASSY IAW EMB 145 AMM 2...</td>\n",
              "      <td>CABIN INTERIOR</td>\n",
              "      <td>CABIN INTERIOR</td>\n",
              "      <td>0.968791</td>\n",
              "      <td>True</td>\n",
              "    </tr>\n",
              "    <tr>\n",
              "      <th>4</th>\n",
              "      <td>MULTIPLE OVERHEAD PANEL BACKLIGHTING INOP / LO...</td>\n",
              "      <td>. \\n\\nLP 1019302 PERFORMED OPERATIONAL CHECK O...</td>\n",
              "      <td>COCKPIT LIGHT/PUSHBUTTON</td>\n",
              "      <td>COCKPIT LIGHT/PUSHBUTTON</td>\n",
              "      <td>0.989665</td>\n",
              "      <td>True</td>\n",
              "    </tr>\n",
              "    <tr>\n",
              "      <th>5</th>\n",
              "      <td>RT SIDE EXIT ROW HANDLE COVER FALLING OFF / LO...</td>\n",
              "      <td>. \\n\\nRESECURED EXIT ROW DOOR HANDLE COVER IRT...</td>\n",
              "      <td>EMERGENCY EQUIPMENT</td>\n",
              "      <td>CABIN INTERIOR</td>\n",
              "      <td>0.807960</td>\n",
              "      <td>False</td>\n",
              "    </tr>\n",
              "    <tr>\n",
              "      <th>6</th>\n",
              "      <td>ROW 5 PSU FELL / LOTO INSTALLED</td>\n",
              "      <td>. \\n\\nRESECURED PSU UNIT ON ROW 5 IAW E145 25-...</td>\n",
              "      <td>PSU</td>\n",
              "      <td>PSU</td>\n",
              "      <td>0.924171</td>\n",
              "      <td>True</td>\n",
              "    </tr>\n",
              "    <tr>\n",
              "      <th>7</th>\n",
              "      <td>CAPT SEAT ADJ HANDLE BROKEN / LOTO INSTALLED</td>\n",
              "      <td>. \\n\\nREINSTALLED CAPT SEAT ADJ HANDLE IAW ZOD...</td>\n",
              "      <td>CREW SEAT</td>\n",
              "      <td>CREW SEAT</td>\n",
              "      <td>0.987092</td>\n",
              "      <td>True</td>\n",
              "    </tr>\n",
              "    <tr>\n",
              "      <th>8</th>\n",
              "      <td>LEFT LANDING LIGHT INOP / LOTO INSTALLED</td>\n",
              "      <td>. \\n\\nR&amp;R LH LANDING LIGHT IAW EMB 145 AMM 33-...</td>\n",
              "      <td>EXTERIOR LIGHT</td>\n",
              "      <td>EXTERIOR LIGHT</td>\n",
              "      <td>0.988828</td>\n",
              "      <td>True</td>\n",
              "    </tr>\n",
              "    <tr>\n",
              "      <th>9</th>\n",
              "      <td>CEILING LIGHTS INOP 3A &amp; 21A / LOTO INSTALLED</td>\n",
              "      <td>. \\n\\nCEILING LTS R/R BULBS OPS CK GOOD REF EM...</td>\n",
              "      <td>INTERIOR LIGHT</td>\n",
              "      <td>INTERIOR LIGHT</td>\n",
              "      <td>0.983075</td>\n",
              "      <td>True</td>\n",
              "    </tr>\n",
              "    <tr>\n",
              "      <th>10</th>\n",
              "      <td>AFT GALLEY TRASH CAN LATCH BROKEN LOTO INSTALLED</td>\n",
              "      <td>. \\n\\nLATCH NOT BROKEN, LUBERCATED LATCH AND O...</td>\n",
              "      <td>GALLEY</td>\n",
              "      <td>GALLEY</td>\n",
              "      <td>0.959989</td>\n",
              "      <td>True</td>\n",
              "    </tr>\n",
              "    <tr>\n",
              "      <th>11</th>\n",
              "      <td>AED FLASHING RED / LOTO INSTALLED</td>\n",
              "      <td>. \\n\\nR&amp;R AED AS REQ / LOTO REMOVED</td>\n",
              "      <td>EMERGENCY EQUIPMENT</td>\n",
              "      <td>EMERGENCY EQUIPMENT</td>\n",
              "      <td>0.987338</td>\n",
              "      <td>True</td>\n",
              "    </tr>\n",
              "    <tr>\n",
              "      <th>12</th>\n",
              "      <td>LAV DOOR STUCK / LOTO INSTALLED</td>\n",
              "      <td>. \\n\\nFOUND LOOSE PLATE ON BOTTOM OF DOOR. RES...</td>\n",
              "      <td>LAV DOOR</td>\n",
              "      <td>LAV DOOR</td>\n",
              "      <td>0.522752</td>\n",
              "      <td>True</td>\n",
              "    </tr>\n",
              "    <tr>\n",
              "      <th>13</th>\n",
              "      <td>LAV TO CARGO COMPARTMENT LINING CAME LOOSE / L...</td>\n",
              "      <td>. \\n\\nRESECURED PANEL IN LAV TO BAG COMPARTMEN...</td>\n",
              "      <td>LAV INTERIOR</td>\n",
              "      <td>LAV INTERIOR</td>\n",
              "      <td>0.576277</td>\n",
              "      <td>True</td>\n",
              "    </tr>\n",
              "    <tr>\n",
              "      <th>14</th>\n",
              "      <td>OVERHEAD BIN AT ROW 7 BROKEN / LOTO INSTALLED</td>\n",
              "      <td>. \\n\\nOVERHEAD BIN RESECURED OVERHEAD BIN ROW ...</td>\n",
              "      <td>OVHD BIN</td>\n",
              "      <td>OVHD BIN</td>\n",
              "      <td>0.995242</td>\n",
              "      <td>True</td>\n",
              "    </tr>\n",
              "    <tr>\n",
              "      <th>15</th>\n",
              "      <td>MISSING 2 SEAT BELT EXT / LOTO INSTALLED</td>\n",
              "      <td>. \\n\\nREPLACED MISSING SEATBELT EXTENDERS AS R...</td>\n",
              "      <td>PAX-SEAT BELT EXTENDER</td>\n",
              "      <td>PAX-SEAT BELT EXTENDER</td>\n",
              "      <td>0.990867</td>\n",
              "      <td>True</td>\n",
              "    </tr>\n",
              "    <tr>\n",
              "      <th>16</th>\n",
              "      <td>BLEED 2 PUSH BUTTON LIGHT INOP / LOTO DEVICE I...</td>\n",
              "      <td>. \\n\\nRELAMPED BLEED 2 PUSH BUTTON LIGHT, OPS ...</td>\n",
              "      <td>COCKPIT LIGHT/PUSHBUTTON</td>\n",
              "      <td>COCKPIT LIGHT/PUSHBUTTON</td>\n",
              "      <td>0.997790</td>\n",
              "      <td>True</td>\n",
              "    </tr>\n",
              "    <tr>\n",
              "      <th>17</th>\n",
              "      <td>COFFEE MAKER NEEDS RESECURING / LOTO DEVICE IN...</td>\n",
              "      <td>. \\n\\nDEFER PER NEF 25-92-01-1, SECURED #1 COF...</td>\n",
              "      <td>COFFEE POT/MAKER</td>\n",
              "      <td>COFFEE POT/MAKER</td>\n",
              "      <td>0.999429</td>\n",
              "      <td>True</td>\n",
              "    </tr>\n",
              "    <tr>\n",
              "      <th>18</th>\n",
              "      <td>NOSE LANDING LIGHT INOP / LOTO INSTALLED</td>\n",
              "      <td>. \\n\\nDEFER PER MEL 33-41-00-1, PULLED AND COL...</td>\n",
              "      <td>EXTERIOR LIGHT</td>\n",
              "      <td>EXTERIOR LIGHT</td>\n",
              "      <td>0.998159</td>\n",
              "      <td>True</td>\n",
              "    </tr>\n",
              "    <tr>\n",
              "      <th>19</th>\n",
              "      <td>COFFEE MAKER #1 ON/OFF BUTTON BROKEN / LOTO IN...</td>\n",
              "      <td>. \\n\\nDEFER PER NEF 25-92-01, PLACARD APPLIED ...</td>\n",
              "      <td>COFFEE POT/MAKER</td>\n",
              "      <td>COFFEE POT/MAKER</td>\n",
              "      <td>0.929507</td>\n",
              "      <td>True</td>\n",
              "    </tr>\n",
              "  </tbody>\n",
              "</table>\n",
              "</div>\n",
              "      <button class=\"colab-df-convert\" onclick=\"convertToInteractive('df-cad2dc17-9f42-49e8-a1f6-4db558b02131')\"\n",
              "              title=\"Convert this dataframe to an interactive table.\"\n",
              "              style=\"display:none;\">\n",
              "        \n",
              "  <svg xmlns=\"http://www.w3.org/2000/svg\" height=\"24px\"viewBox=\"0 0 24 24\"\n",
              "       width=\"24px\">\n",
              "    <path d=\"M0 0h24v24H0V0z\" fill=\"none\"/>\n",
              "    <path d=\"M18.56 5.44l.94 2.06.94-2.06 2.06-.94-2.06-.94-.94-2.06-.94 2.06-2.06.94zm-11 1L8.5 8.5l.94-2.06 2.06-.94-2.06-.94L8.5 2.5l-.94 2.06-2.06.94zm10 10l.94 2.06.94-2.06 2.06-.94-2.06-.94-.94-2.06-.94 2.06-2.06.94z\"/><path d=\"M17.41 7.96l-1.37-1.37c-.4-.4-.92-.59-1.43-.59-.52 0-1.04.2-1.43.59L10.3 9.45l-7.72 7.72c-.78.78-.78 2.05 0 2.83L4 21.41c.39.39.9.59 1.41.59.51 0 1.02-.2 1.41-.59l7.78-7.78 2.81-2.81c.8-.78.8-2.07 0-2.86zM5.41 20L4 18.59l7.72-7.72 1.47 1.35L5.41 20z\"/>\n",
              "  </svg>\n",
              "      </button>\n",
              "      \n",
              "  <style>\n",
              "    .colab-df-container {\n",
              "      display:flex;\n",
              "      flex-wrap:wrap;\n",
              "      gap: 12px;\n",
              "    }\n",
              "\n",
              "    .colab-df-convert {\n",
              "      background-color: #E8F0FE;\n",
              "      border: none;\n",
              "      border-radius: 50%;\n",
              "      cursor: pointer;\n",
              "      display: none;\n",
              "      fill: #1967D2;\n",
              "      height: 32px;\n",
              "      padding: 0 0 0 0;\n",
              "      width: 32px;\n",
              "    }\n",
              "\n",
              "    .colab-df-convert:hover {\n",
              "      background-color: #E2EBFA;\n",
              "      box-shadow: 0px 1px 2px rgba(60, 64, 67, 0.3), 0px 1px 3px 1px rgba(60, 64, 67, 0.15);\n",
              "      fill: #174EA6;\n",
              "    }\n",
              "\n",
              "    [theme=dark] .colab-df-convert {\n",
              "      background-color: #3B4455;\n",
              "      fill: #D2E3FC;\n",
              "    }\n",
              "\n",
              "    [theme=dark] .colab-df-convert:hover {\n",
              "      background-color: #434B5C;\n",
              "      box-shadow: 0px 1px 3px 1px rgba(0, 0, 0, 0.15);\n",
              "      filter: drop-shadow(0px 1px 2px rgba(0, 0, 0, 0.3));\n",
              "      fill: #FFFFFF;\n",
              "    }\n",
              "  </style>\n",
              "\n",
              "      <script>\n",
              "        const buttonEl =\n",
              "          document.querySelector('#df-cad2dc17-9f42-49e8-a1f6-4db558b02131 button.colab-df-convert');\n",
              "        buttonEl.style.display =\n",
              "          google.colab.kernel.accessAllowed ? 'block' : 'none';\n",
              "\n",
              "        async function convertToInteractive(key) {\n",
              "          const element = document.querySelector('#df-cad2dc17-9f42-49e8-a1f6-4db558b02131');\n",
              "          const dataTable =\n",
              "            await google.colab.kernel.invokeFunction('convertToInteractive',\n",
              "                                                     [key], {});\n",
              "          if (!dataTable) return;\n",
              "\n",
              "          const docLinkHtml = 'Like what you see? Visit the ' +\n",
              "            '<a target=\"_blank\" href=https://colab.research.google.com/notebooks/data_table.ipynb>data table notebook</a>'\n",
              "            + ' to learn more about interactive tables.';\n",
              "          element.innerHTML = '';\n",
              "          dataTable['output_type'] = 'display_data';\n",
              "          await google.colab.output.renderOutput(dataTable, element);\n",
              "          const docLink = document.createElement('div');\n",
              "          docLink.innerHTML = docLinkHtml;\n",
              "          element.appendChild(docLink);\n",
              "        }\n",
              "      </script>\n",
              "    </div>\n",
              "  </div>\n",
              "  "
            ]
          },
          "metadata": {},
          "execution_count": 222
        }
      ]
    },
    {
      "cell_type": "code",
      "source": [
        "#20 Most Wrong\n",
        "top_20_wrong=val_df[val_df[\"correct\"]==False].sort_values(\"prediction_probability\", ascending=False)\n",
        "top_20_wrong[:20]"
      ],
      "metadata": {
        "colab": {
          "base_uri": "https://localhost:8080/",
          "height": 677
        },
        "id": "CD8Mdtl_oRHu",
        "outputId": "36e7b016-4541-4bcb-bcf8-db57d15ba32f"
      },
      "execution_count": 224,
      "outputs": [
        {
          "output_type": "execute_result",
          "data": {
            "text/plain": [
              "                                             worksteps  \\\n",
              "115   FO ESCAPE ROPE DOOR WON`T CLOSE / LOTO INSTALLED   \n",
              "145                               FIRST AID KIT OPENED   \n",
              "73        PILOT CHART HOLDER IS LOOSE / LOTO INSTALLED   \n",
              "106        CABIN FIRE EXTINGUISHER HALON SEAL MISSING.   \n",
              "257  FLIGHT ATTENDANT SAFETY DEMO COMP DOOR HARD TO...   \n",
              "246  LAV OVERSERVICED, BLUE JUICE ON CARPET / LOTO ...   \n",
              "173            LAV LIGHT COVER ABOVE TOILET UNLATCHED.   \n",
              "229              SEATBELT 22D MISSING / LOTO INSTALLED   \n",
              "263               LAV CALL CHIME INOP / LOTO INSTALLED   \n",
              "1    PANEL ABOVE SEAT 3C AND D HAS FALLEN OFF. / LO...   \n",
              "158  FWD CENTER GALLEY BIN LATCH STUCK CLOSED / LOT...   \n",
              "5    RT SIDE EXIT ROW HANDLE COVER FALLING OFF / LO...   \n",
              "63   GALLEY COMP SECURING LATCH NOT CONNECTED, COMP...   \n",
              "117  COFFEE MAKER PLACARD PEELING OFF / LOTO DEVICE...   \n",
              "339        BOTH FA`S FLASHLIGHTS INOP / LOTO INSTALLED   \n",
              "65   PAX LAV CHIME BUTTON NOT WORKING / LOTO INSTALLED   \n",
              "144       SEAT 7A OUTSIDE TRIM BROKEN / LOTO INSTALLED   \n",
              "276  CAPT LH OB PNL LOOSE BY RUDDER PEDAL / LOTO IN...   \n",
              "28   EXIT ROW WINDOW 18D LOOKS DISLOCATED / LOTO IN...   \n",
              "122   PNL LOOSE O/B SIDE BY CAPT FOOT / LOTO INSTALLED   \n",
              "\n",
              "                                               actions  \\\n",
              "115  . \\n\\nSECURED FO ESCAPE ROPE DOOR IAW EMB 145 ...   \n",
              "145  . \\n\\nFAK REMOVED AND REPLACED KAD AS REQUIRED...   \n",
              "73   . \\n\\nREPLACED MISSING SCREW ON PILOT CHART HO...   \n",
              "106  . \\n\\nINSPECTED AND RESEALED CABIN HALON FIRE ...   \n",
              "257  . \\n\\nADJUSTED FA SAFTEY DEMO COMPARTMENT DOOR...   \n",
              "246  . \\n\\nPERFORMED LAV OVERSERVICE INSPECTION IAW...   \n",
              "173  . \\n\\nSECURED LAV LIGHT COVER ABOVE TOILET. RE...   \n",
              "229  . \\n\\nREPLACED SEAT 22D SEATBELT IAW EMB 145 A...   \n",
              "263  . \\n\\nPERFORMED OPS CHECK OF LAV. CALL CHIME, ...   \n",
              "1    . \\n\\nDEFERED PER MEL 25-22-00-3 LOWER PANEL S...   \n",
              "158  . \\n\\nOPERATIONALLY CHECKED FWD CENTER GALLEY ...   \n",
              "5    . \\n\\nRESECURED EXIT ROW DOOR HANDLE COVER IRT...   \n",
              "63   . \\n\\nRESECURED SCREWS ON GALLEY COMPARTMENT L...   \n",
              "117  . \\n\\nRESECURED COFFEE MAKER PLACARD IAW EMB 1...   \n",
              "339  . \\n\\nFOUND SHED BUS ON AUTO WHILE APU RUNNING...   \n",
              "65   . \\n\\nRESET LAV CALL BUTTON. OPS CHECK GOOD. R...   \n",
              "144  . \\n\\nTRIM REMOVED AND REPLACED SEAT 7A ISLE B...   \n",
              "276  . \\n\\nRESECURED CAPT LH PANEL BY RUDDER PEDAL ...   \n",
              "28   . \\n\\n18D LINER ADJUSTED EXIT ROW 18D SIDEWALL...   \n",
              "122  . \\n\\nSECURED SIDE PANEL IAW EMB 145 AMM 20-10...   \n",
              "\n",
              "                   category              prediction  prediction_probability  \\\n",
              "115  COCKPIT EQUIP/INTERIOR     EMERGENCY EQUIPMENT                0.974605   \n",
              "145                   OTHER     EMERGENCY EQUIPMENT                0.922560   \n",
              "73                CREW SEAT  COCKPIT EQUIP/INTERIOR                0.919220   \n",
              "106     EMERGENCY EQUIPMENT      FIRE EXTINGUISHING                0.908057   \n",
              "257              DEMO EQUIP     EMERGENCY EQUIPMENT                0.886107   \n",
              "246                CREW/OPS            LAV INTERIOR                0.872660   \n",
              "173            LAV INTERIOR          INTERIOR LIGHT                0.853856   \n",
              "229  MISSING/LOOSE HARDWARE                PAX SEAT                0.851927   \n",
              "263          INTERIOR LIGHT             FA CALL SYS                0.848862   \n",
              "1                       PSU          CABIN INTERIOR                0.836415   \n",
              "158                  GALLEY                OVHD BIN                0.810789   \n",
              "5       EMERGENCY EQUIPMENT          CABIN INTERIOR                0.807960   \n",
              "63                   GALLEY     MISSING/LOOSE SCREW                0.789999   \n",
              "117                 PLACARD        COFFEE POT/MAKER                0.707847   \n",
              "339         EMERGENCY LIGHT         CIRCUIT BREAKER                0.689986   \n",
              "65           INTERIOR LIGHT             FA CALL SYS                0.689750   \n",
              "144                PAX SEAT          CABIN INTERIOR                0.686153   \n",
              "276  COCKPIT EQUIP/INTERIOR              KNOB/BEZEL                0.682825   \n",
              "28      EMERGENCY EQUIPMENT          CABIN INTERIOR                0.619836   \n",
              "122  COCKPIT EQUIP/INTERIOR     EMERGENCY EQUIPMENT                0.609087   \n",
              "\n",
              "     correct  \n",
              "115    False  \n",
              "145    False  \n",
              "73     False  \n",
              "106    False  \n",
              "257    False  \n",
              "246    False  \n",
              "173    False  \n",
              "229    False  \n",
              "263    False  \n",
              "1      False  \n",
              "158    False  \n",
              "5      False  \n",
              "63     False  \n",
              "117    False  \n",
              "339    False  \n",
              "65     False  \n",
              "144    False  \n",
              "276    False  \n",
              "28     False  \n",
              "122    False  "
            ],
            "text/html": [
              "\n",
              "  <div id=\"df-8250d5f6-1294-4a59-8f1e-f0ce0be7b662\">\n",
              "    <div class=\"colab-df-container\">\n",
              "      <div>\n",
              "<style scoped>\n",
              "    .dataframe tbody tr th:only-of-type {\n",
              "        vertical-align: middle;\n",
              "    }\n",
              "\n",
              "    .dataframe tbody tr th {\n",
              "        vertical-align: top;\n",
              "    }\n",
              "\n",
              "    .dataframe thead th {\n",
              "        text-align: right;\n",
              "    }\n",
              "</style>\n",
              "<table border=\"1\" class=\"dataframe\">\n",
              "  <thead>\n",
              "    <tr style=\"text-align: right;\">\n",
              "      <th></th>\n",
              "      <th>worksteps</th>\n",
              "      <th>actions</th>\n",
              "      <th>category</th>\n",
              "      <th>prediction</th>\n",
              "      <th>prediction_probability</th>\n",
              "      <th>correct</th>\n",
              "    </tr>\n",
              "  </thead>\n",
              "  <tbody>\n",
              "    <tr>\n",
              "      <th>115</th>\n",
              "      <td>FO ESCAPE ROPE DOOR WON`T CLOSE / LOTO INSTALLED</td>\n",
              "      <td>. \\n\\nSECURED FO ESCAPE ROPE DOOR IAW EMB 145 ...</td>\n",
              "      <td>COCKPIT EQUIP/INTERIOR</td>\n",
              "      <td>EMERGENCY EQUIPMENT</td>\n",
              "      <td>0.974605</td>\n",
              "      <td>False</td>\n",
              "    </tr>\n",
              "    <tr>\n",
              "      <th>145</th>\n",
              "      <td>FIRST AID KIT OPENED</td>\n",
              "      <td>. \\n\\nFAK REMOVED AND REPLACED KAD AS REQUIRED...</td>\n",
              "      <td>OTHER</td>\n",
              "      <td>EMERGENCY EQUIPMENT</td>\n",
              "      <td>0.922560</td>\n",
              "      <td>False</td>\n",
              "    </tr>\n",
              "    <tr>\n",
              "      <th>73</th>\n",
              "      <td>PILOT CHART HOLDER IS LOOSE / LOTO INSTALLED</td>\n",
              "      <td>. \\n\\nREPLACED MISSING SCREW ON PILOT CHART HO...</td>\n",
              "      <td>CREW SEAT</td>\n",
              "      <td>COCKPIT EQUIP/INTERIOR</td>\n",
              "      <td>0.919220</td>\n",
              "      <td>False</td>\n",
              "    </tr>\n",
              "    <tr>\n",
              "      <th>106</th>\n",
              "      <td>CABIN FIRE EXTINGUISHER HALON SEAL MISSING.</td>\n",
              "      <td>. \\n\\nINSPECTED AND RESEALED CABIN HALON FIRE ...</td>\n",
              "      <td>EMERGENCY EQUIPMENT</td>\n",
              "      <td>FIRE EXTINGUISHING</td>\n",
              "      <td>0.908057</td>\n",
              "      <td>False</td>\n",
              "    </tr>\n",
              "    <tr>\n",
              "      <th>257</th>\n",
              "      <td>FLIGHT ATTENDANT SAFETY DEMO COMP DOOR HARD TO...</td>\n",
              "      <td>. \\n\\nADJUSTED FA SAFTEY DEMO COMPARTMENT DOOR...</td>\n",
              "      <td>DEMO EQUIP</td>\n",
              "      <td>EMERGENCY EQUIPMENT</td>\n",
              "      <td>0.886107</td>\n",
              "      <td>False</td>\n",
              "    </tr>\n",
              "    <tr>\n",
              "      <th>246</th>\n",
              "      <td>LAV OVERSERVICED, BLUE JUICE ON CARPET / LOTO ...</td>\n",
              "      <td>. \\n\\nPERFORMED LAV OVERSERVICE INSPECTION IAW...</td>\n",
              "      <td>CREW/OPS</td>\n",
              "      <td>LAV INTERIOR</td>\n",
              "      <td>0.872660</td>\n",
              "      <td>False</td>\n",
              "    </tr>\n",
              "    <tr>\n",
              "      <th>173</th>\n",
              "      <td>LAV LIGHT COVER ABOVE TOILET UNLATCHED.</td>\n",
              "      <td>. \\n\\nSECURED LAV LIGHT COVER ABOVE TOILET. RE...</td>\n",
              "      <td>LAV INTERIOR</td>\n",
              "      <td>INTERIOR LIGHT</td>\n",
              "      <td>0.853856</td>\n",
              "      <td>False</td>\n",
              "    </tr>\n",
              "    <tr>\n",
              "      <th>229</th>\n",
              "      <td>SEATBELT 22D MISSING / LOTO INSTALLED</td>\n",
              "      <td>. \\n\\nREPLACED SEAT 22D SEATBELT IAW EMB 145 A...</td>\n",
              "      <td>MISSING/LOOSE HARDWARE</td>\n",
              "      <td>PAX SEAT</td>\n",
              "      <td>0.851927</td>\n",
              "      <td>False</td>\n",
              "    </tr>\n",
              "    <tr>\n",
              "      <th>263</th>\n",
              "      <td>LAV CALL CHIME INOP / LOTO INSTALLED</td>\n",
              "      <td>. \\n\\nPERFORMED OPS CHECK OF LAV. CALL CHIME, ...</td>\n",
              "      <td>INTERIOR LIGHT</td>\n",
              "      <td>FA CALL SYS</td>\n",
              "      <td>0.848862</td>\n",
              "      <td>False</td>\n",
              "    </tr>\n",
              "    <tr>\n",
              "      <th>1</th>\n",
              "      <td>PANEL ABOVE SEAT 3C AND D HAS FALLEN OFF. / LO...</td>\n",
              "      <td>. \\n\\nDEFERED PER MEL 25-22-00-3 LOWER PANEL S...</td>\n",
              "      <td>PSU</td>\n",
              "      <td>CABIN INTERIOR</td>\n",
              "      <td>0.836415</td>\n",
              "      <td>False</td>\n",
              "    </tr>\n",
              "    <tr>\n",
              "      <th>158</th>\n",
              "      <td>FWD CENTER GALLEY BIN LATCH STUCK CLOSED / LOT...</td>\n",
              "      <td>. \\n\\nOPERATIONALLY CHECKED FWD CENTER GALLEY ...</td>\n",
              "      <td>GALLEY</td>\n",
              "      <td>OVHD BIN</td>\n",
              "      <td>0.810789</td>\n",
              "      <td>False</td>\n",
              "    </tr>\n",
              "    <tr>\n",
              "      <th>5</th>\n",
              "      <td>RT SIDE EXIT ROW HANDLE COVER FALLING OFF / LO...</td>\n",
              "      <td>. \\n\\nRESECURED EXIT ROW DOOR HANDLE COVER IRT...</td>\n",
              "      <td>EMERGENCY EQUIPMENT</td>\n",
              "      <td>CABIN INTERIOR</td>\n",
              "      <td>0.807960</td>\n",
              "      <td>False</td>\n",
              "    </tr>\n",
              "    <tr>\n",
              "      <th>63</th>\n",
              "      <td>GALLEY COMP SECURING LATCH NOT CONNECTED, COMP...</td>\n",
              "      <td>. \\n\\nRESECURED SCREWS ON GALLEY COMPARTMENT L...</td>\n",
              "      <td>GALLEY</td>\n",
              "      <td>MISSING/LOOSE SCREW</td>\n",
              "      <td>0.789999</td>\n",
              "      <td>False</td>\n",
              "    </tr>\n",
              "    <tr>\n",
              "      <th>117</th>\n",
              "      <td>COFFEE MAKER PLACARD PEELING OFF / LOTO DEVICE...</td>\n",
              "      <td>. \\n\\nRESECURED COFFEE MAKER PLACARD IAW EMB 1...</td>\n",
              "      <td>PLACARD</td>\n",
              "      <td>COFFEE POT/MAKER</td>\n",
              "      <td>0.707847</td>\n",
              "      <td>False</td>\n",
              "    </tr>\n",
              "    <tr>\n",
              "      <th>339</th>\n",
              "      <td>BOTH FA`S FLASHLIGHTS INOP / LOTO INSTALLED</td>\n",
              "      <td>. \\n\\nFOUND SHED BUS ON AUTO WHILE APU RUNNING...</td>\n",
              "      <td>EMERGENCY LIGHT</td>\n",
              "      <td>CIRCUIT BREAKER</td>\n",
              "      <td>0.689986</td>\n",
              "      <td>False</td>\n",
              "    </tr>\n",
              "    <tr>\n",
              "      <th>65</th>\n",
              "      <td>PAX LAV CHIME BUTTON NOT WORKING / LOTO INSTALLED</td>\n",
              "      <td>. \\n\\nRESET LAV CALL BUTTON. OPS CHECK GOOD. R...</td>\n",
              "      <td>INTERIOR LIGHT</td>\n",
              "      <td>FA CALL SYS</td>\n",
              "      <td>0.689750</td>\n",
              "      <td>False</td>\n",
              "    </tr>\n",
              "    <tr>\n",
              "      <th>144</th>\n",
              "      <td>SEAT 7A OUTSIDE TRIM BROKEN / LOTO INSTALLED</td>\n",
              "      <td>. \\n\\nTRIM REMOVED AND REPLACED SEAT 7A ISLE B...</td>\n",
              "      <td>PAX SEAT</td>\n",
              "      <td>CABIN INTERIOR</td>\n",
              "      <td>0.686153</td>\n",
              "      <td>False</td>\n",
              "    </tr>\n",
              "    <tr>\n",
              "      <th>276</th>\n",
              "      <td>CAPT LH OB PNL LOOSE BY RUDDER PEDAL / LOTO IN...</td>\n",
              "      <td>. \\n\\nRESECURED CAPT LH PANEL BY RUDDER PEDAL ...</td>\n",
              "      <td>COCKPIT EQUIP/INTERIOR</td>\n",
              "      <td>KNOB/BEZEL</td>\n",
              "      <td>0.682825</td>\n",
              "      <td>False</td>\n",
              "    </tr>\n",
              "    <tr>\n",
              "      <th>28</th>\n",
              "      <td>EXIT ROW WINDOW 18D LOOKS DISLOCATED / LOTO IN...</td>\n",
              "      <td>. \\n\\n18D LINER ADJUSTED EXIT ROW 18D SIDEWALL...</td>\n",
              "      <td>EMERGENCY EQUIPMENT</td>\n",
              "      <td>CABIN INTERIOR</td>\n",
              "      <td>0.619836</td>\n",
              "      <td>False</td>\n",
              "    </tr>\n",
              "    <tr>\n",
              "      <th>122</th>\n",
              "      <td>PNL LOOSE O/B SIDE BY CAPT FOOT / LOTO INSTALLED</td>\n",
              "      <td>. \\n\\nSECURED SIDE PANEL IAW EMB 145 AMM 20-10...</td>\n",
              "      <td>COCKPIT EQUIP/INTERIOR</td>\n",
              "      <td>EMERGENCY EQUIPMENT</td>\n",
              "      <td>0.609087</td>\n",
              "      <td>False</td>\n",
              "    </tr>\n",
              "  </tbody>\n",
              "</table>\n",
              "</div>\n",
              "      <button class=\"colab-df-convert\" onclick=\"convertToInteractive('df-8250d5f6-1294-4a59-8f1e-f0ce0be7b662')\"\n",
              "              title=\"Convert this dataframe to an interactive table.\"\n",
              "              style=\"display:none;\">\n",
              "        \n",
              "  <svg xmlns=\"http://www.w3.org/2000/svg\" height=\"24px\"viewBox=\"0 0 24 24\"\n",
              "       width=\"24px\">\n",
              "    <path d=\"M0 0h24v24H0V0z\" fill=\"none\"/>\n",
              "    <path d=\"M18.56 5.44l.94 2.06.94-2.06 2.06-.94-2.06-.94-.94-2.06-.94 2.06-2.06.94zm-11 1L8.5 8.5l.94-2.06 2.06-.94-2.06-.94L8.5 2.5l-.94 2.06-2.06.94zm10 10l.94 2.06.94-2.06 2.06-.94-2.06-.94-.94-2.06-.94 2.06-2.06.94z\"/><path d=\"M17.41 7.96l-1.37-1.37c-.4-.4-.92-.59-1.43-.59-.52 0-1.04.2-1.43.59L10.3 9.45l-7.72 7.72c-.78.78-.78 2.05 0 2.83L4 21.41c.39.39.9.59 1.41.59.51 0 1.02-.2 1.41-.59l7.78-7.78 2.81-2.81c.8-.78.8-2.07 0-2.86zM5.41 20L4 18.59l7.72-7.72 1.47 1.35L5.41 20z\"/>\n",
              "  </svg>\n",
              "      </button>\n",
              "      \n",
              "  <style>\n",
              "    .colab-df-container {\n",
              "      display:flex;\n",
              "      flex-wrap:wrap;\n",
              "      gap: 12px;\n",
              "    }\n",
              "\n",
              "    .colab-df-convert {\n",
              "      background-color: #E8F0FE;\n",
              "      border: none;\n",
              "      border-radius: 50%;\n",
              "      cursor: pointer;\n",
              "      display: none;\n",
              "      fill: #1967D2;\n",
              "      height: 32px;\n",
              "      padding: 0 0 0 0;\n",
              "      width: 32px;\n",
              "    }\n",
              "\n",
              "    .colab-df-convert:hover {\n",
              "      background-color: #E2EBFA;\n",
              "      box-shadow: 0px 1px 2px rgba(60, 64, 67, 0.3), 0px 1px 3px 1px rgba(60, 64, 67, 0.15);\n",
              "      fill: #174EA6;\n",
              "    }\n",
              "\n",
              "    [theme=dark] .colab-df-convert {\n",
              "      background-color: #3B4455;\n",
              "      fill: #D2E3FC;\n",
              "    }\n",
              "\n",
              "    [theme=dark] .colab-df-convert:hover {\n",
              "      background-color: #434B5C;\n",
              "      box-shadow: 0px 1px 3px 1px rgba(0, 0, 0, 0.15);\n",
              "      filter: drop-shadow(0px 1px 2px rgba(0, 0, 0, 0.3));\n",
              "      fill: #FFFFFF;\n",
              "    }\n",
              "  </style>\n",
              "\n",
              "      <script>\n",
              "        const buttonEl =\n",
              "          document.querySelector('#df-8250d5f6-1294-4a59-8f1e-f0ce0be7b662 button.colab-df-convert');\n",
              "        buttonEl.style.display =\n",
              "          google.colab.kernel.accessAllowed ? 'block' : 'none';\n",
              "\n",
              "        async function convertToInteractive(key) {\n",
              "          const element = document.querySelector('#df-8250d5f6-1294-4a59-8f1e-f0ce0be7b662');\n",
              "          const dataTable =\n",
              "            await google.colab.kernel.invokeFunction('convertToInteractive',\n",
              "                                                     [key], {});\n",
              "          if (!dataTable) return;\n",
              "\n",
              "          const docLinkHtml = 'Like what you see? Visit the ' +\n",
              "            '<a target=\"_blank\" href=https://colab.research.google.com/notebooks/data_table.ipynb>data table notebook</a>'\n",
              "            + ' to learn more about interactive tables.';\n",
              "          element.innerHTML = '';\n",
              "          dataTable['output_type'] = 'display_data';\n",
              "          await google.colab.output.renderOutput(dataTable, element);\n",
              "          const docLink = document.createElement('div');\n",
              "          docLink.innerHTML = docLinkHtml;\n",
              "          element.appendChild(docLink);\n",
              "        }\n",
              "      </script>\n",
              "    </div>\n",
              "  </div>\n",
              "  "
            ]
          },
          "metadata": {},
          "execution_count": 224
        }
      ]
    },
    {
      "cell_type": "code",
      "source": [
        "top_20_wrong.category.value_counts()"
      ],
      "metadata": {
        "colab": {
          "base_uri": "https://localhost:8080/"
        },
        "id": "Gas7K9_orTS0",
        "outputId": "87750839-2683-42aa-c27f-396754fdf7d2"
      },
      "execution_count": 225,
      "outputs": [
        {
          "output_type": "execute_result",
          "data": {
            "text/plain": [
              "COCKPIT EQUIP/INTERIOR    5\n",
              "INTERIOR LIGHT            5\n",
              "OTHER                     4\n",
              "EMERGENCY EQUIPMENT       4\n",
              "MISSING/LOOSE HARDWARE    4\n",
              "EMERGENCY LIGHT           3\n",
              "PSU                       3\n",
              "CARGO INTERIOR            2\n",
              "CABIN INTERIOR            2\n",
              "PAX SEAT                  2\n",
              "GALLEY                    2\n",
              "LAV INTERIOR              2\n",
              "EXTERIOR LIGHT            2\n",
              "PLACARD                   1\n",
              "CREW/OPS                  1\n",
              "MISSING/LOOSE SCREW       1\n",
              "COFFEE POT/MAKER          1\n",
              "DEMO EQUIP                1\n",
              "CREW SEAT                 1\n",
              "BRIEFING CARDS            1\n",
              "CHECKLIST                 1\n",
              "Name: category, dtype: int64"
            ]
          },
          "metadata": {},
          "execution_count": 225
        }
      ]
    },
    {
      "cell_type": "code",
      "source": [
        "import os  \n",
        "os.makedirs('/content/preds', exist_ok=True)  \n",
        "val_df.to_csv('/content/preds/preds.csv') "
      ],
      "metadata": {
        "id": "guPX07I53eBx"
      },
      "execution_count": 229,
      "outputs": []
    },
    {
      "cell_type": "code",
      "source": [],
      "metadata": {
        "colab": {
          "base_uri": "https://localhost:8080/",
          "height": 206
        },
        "id": "wLp0jV1M6dgr",
        "outputId": "c886f475-b79e-4911-c150-7730f337f9cf"
      },
      "execution_count": 234,
      "outputs": [
        {
          "output_type": "execute_result",
          "data": {
            "text/plain": [
              "                                           worksteps  \\\n",
              "0  WINDOW SHADE 18D STUCK THREE QUARTERS OF THE W...   \n",
              "1  PANEL ABOVE SEAT 3C AND D HAS FALLEN OFF. / LO...   \n",
              "2     LIGHT COVER ON 10A UNSECURED / LOTTO INSTALLED   \n",
              "3              WINDOW SHADE AT SEAT 1A WILL NOT OPEN   \n",
              "4  MULTIPLE OVERHEAD PANEL BACKLIGHTING INOP / LO...   \n",
              "\n",
              "                                             actions  \\\n",
              "0  . \\n\\nDEFERED PER NEF 25-90-17-1 PLACARD INSTA...   \n",
              "1  . \\n\\nDEFERED PER MEL 25-22-00-3 LOWER PANEL S...   \n",
              "2  . \\n\\nRE-INSTALLED READING LIGHT COVER AT 10A ...   \n",
              "3  . \\n\\nR/R WINDOW REVEAL ASSY IAW EMB 145 AMM 2...   \n",
              "4  . \\n\\nLP 1019302 PERFORMED OPERATIONAL CHECK O...   \n",
              "\n",
              "                   category                prediction  prediction_probability  \\\n",
              "0            CABIN INTERIOR            CABIN INTERIOR                0.826329   \n",
              "1                       PSU            CABIN INTERIOR                0.836415   \n",
              "2            INTERIOR LIGHT            INTERIOR LIGHT                0.985199   \n",
              "3            CABIN INTERIOR            CABIN INTERIOR                0.968791   \n",
              "4  COCKPIT LIGHT/PUSHBUTTON  COCKPIT LIGHT/PUSHBUTTON                0.989665   \n",
              "\n",
              "   correct  \n",
              "0     True  \n",
              "1    False  \n",
              "2     True  \n",
              "3     True  \n",
              "4     True  "
            ],
            "text/html": [
              "\n",
              "  <div id=\"df-0a8bfad3-6d15-4628-84c3-527745263a49\">\n",
              "    <div class=\"colab-df-container\">\n",
              "      <div>\n",
              "<style scoped>\n",
              "    .dataframe tbody tr th:only-of-type {\n",
              "        vertical-align: middle;\n",
              "    }\n",
              "\n",
              "    .dataframe tbody tr th {\n",
              "        vertical-align: top;\n",
              "    }\n",
              "\n",
              "    .dataframe thead th {\n",
              "        text-align: right;\n",
              "    }\n",
              "</style>\n",
              "<table border=\"1\" class=\"dataframe\">\n",
              "  <thead>\n",
              "    <tr style=\"text-align: right;\">\n",
              "      <th></th>\n",
              "      <th>worksteps</th>\n",
              "      <th>actions</th>\n",
              "      <th>category</th>\n",
              "      <th>prediction</th>\n",
              "      <th>prediction_probability</th>\n",
              "      <th>correct</th>\n",
              "    </tr>\n",
              "  </thead>\n",
              "  <tbody>\n",
              "    <tr>\n",
              "      <th>0</th>\n",
              "      <td>WINDOW SHADE 18D STUCK THREE QUARTERS OF THE W...</td>\n",
              "      <td>. \\n\\nDEFERED PER NEF 25-90-17-1 PLACARD INSTA...</td>\n",
              "      <td>CABIN INTERIOR</td>\n",
              "      <td>CABIN INTERIOR</td>\n",
              "      <td>0.826329</td>\n",
              "      <td>True</td>\n",
              "    </tr>\n",
              "    <tr>\n",
              "      <th>1</th>\n",
              "      <td>PANEL ABOVE SEAT 3C AND D HAS FALLEN OFF. / LO...</td>\n",
              "      <td>. \\n\\nDEFERED PER MEL 25-22-00-3 LOWER PANEL S...</td>\n",
              "      <td>PSU</td>\n",
              "      <td>CABIN INTERIOR</td>\n",
              "      <td>0.836415</td>\n",
              "      <td>False</td>\n",
              "    </tr>\n",
              "    <tr>\n",
              "      <th>2</th>\n",
              "      <td>LIGHT COVER ON 10A UNSECURED / LOTTO INSTALLED</td>\n",
              "      <td>. \\n\\nRE-INSTALLED READING LIGHT COVER AT 10A ...</td>\n",
              "      <td>INTERIOR LIGHT</td>\n",
              "      <td>INTERIOR LIGHT</td>\n",
              "      <td>0.985199</td>\n",
              "      <td>True</td>\n",
              "    </tr>\n",
              "    <tr>\n",
              "      <th>3</th>\n",
              "      <td>WINDOW SHADE AT SEAT 1A WILL NOT OPEN</td>\n",
              "      <td>. \\n\\nR/R WINDOW REVEAL ASSY IAW EMB 145 AMM 2...</td>\n",
              "      <td>CABIN INTERIOR</td>\n",
              "      <td>CABIN INTERIOR</td>\n",
              "      <td>0.968791</td>\n",
              "      <td>True</td>\n",
              "    </tr>\n",
              "    <tr>\n",
              "      <th>4</th>\n",
              "      <td>MULTIPLE OVERHEAD PANEL BACKLIGHTING INOP / LO...</td>\n",
              "      <td>. \\n\\nLP 1019302 PERFORMED OPERATIONAL CHECK O...</td>\n",
              "      <td>COCKPIT LIGHT/PUSHBUTTON</td>\n",
              "      <td>COCKPIT LIGHT/PUSHBUTTON</td>\n",
              "      <td>0.989665</td>\n",
              "      <td>True</td>\n",
              "    </tr>\n",
              "  </tbody>\n",
              "</table>\n",
              "</div>\n",
              "      <button class=\"colab-df-convert\" onclick=\"convertToInteractive('df-0a8bfad3-6d15-4628-84c3-527745263a49')\"\n",
              "              title=\"Convert this dataframe to an interactive table.\"\n",
              "              style=\"display:none;\">\n",
              "        \n",
              "  <svg xmlns=\"http://www.w3.org/2000/svg\" height=\"24px\"viewBox=\"0 0 24 24\"\n",
              "       width=\"24px\">\n",
              "    <path d=\"M0 0h24v24H0V0z\" fill=\"none\"/>\n",
              "    <path d=\"M18.56 5.44l.94 2.06.94-2.06 2.06-.94-2.06-.94-.94-2.06-.94 2.06-2.06.94zm-11 1L8.5 8.5l.94-2.06 2.06-.94-2.06-.94L8.5 2.5l-.94 2.06-2.06.94zm10 10l.94 2.06.94-2.06 2.06-.94-2.06-.94-.94-2.06-.94 2.06-2.06.94z\"/><path d=\"M17.41 7.96l-1.37-1.37c-.4-.4-.92-.59-1.43-.59-.52 0-1.04.2-1.43.59L10.3 9.45l-7.72 7.72c-.78.78-.78 2.05 0 2.83L4 21.41c.39.39.9.59 1.41.59.51 0 1.02-.2 1.41-.59l7.78-7.78 2.81-2.81c.8-.78.8-2.07 0-2.86zM5.41 20L4 18.59l7.72-7.72 1.47 1.35L5.41 20z\"/>\n",
              "  </svg>\n",
              "      </button>\n",
              "      \n",
              "  <style>\n",
              "    .colab-df-container {\n",
              "      display:flex;\n",
              "      flex-wrap:wrap;\n",
              "      gap: 12px;\n",
              "    }\n",
              "\n",
              "    .colab-df-convert {\n",
              "      background-color: #E8F0FE;\n",
              "      border: none;\n",
              "      border-radius: 50%;\n",
              "      cursor: pointer;\n",
              "      display: none;\n",
              "      fill: #1967D2;\n",
              "      height: 32px;\n",
              "      padding: 0 0 0 0;\n",
              "      width: 32px;\n",
              "    }\n",
              "\n",
              "    .colab-df-convert:hover {\n",
              "      background-color: #E2EBFA;\n",
              "      box-shadow: 0px 1px 2px rgba(60, 64, 67, 0.3), 0px 1px 3px 1px rgba(60, 64, 67, 0.15);\n",
              "      fill: #174EA6;\n",
              "    }\n",
              "\n",
              "    [theme=dark] .colab-df-convert {\n",
              "      background-color: #3B4455;\n",
              "      fill: #D2E3FC;\n",
              "    }\n",
              "\n",
              "    [theme=dark] .colab-df-convert:hover {\n",
              "      background-color: #434B5C;\n",
              "      box-shadow: 0px 1px 3px 1px rgba(0, 0, 0, 0.15);\n",
              "      filter: drop-shadow(0px 1px 2px rgba(0, 0, 0, 0.3));\n",
              "      fill: #FFFFFF;\n",
              "    }\n",
              "  </style>\n",
              "\n",
              "      <script>\n",
              "        const buttonEl =\n",
              "          document.querySelector('#df-0a8bfad3-6d15-4628-84c3-527745263a49 button.colab-df-convert');\n",
              "        buttonEl.style.display =\n",
              "          google.colab.kernel.accessAllowed ? 'block' : 'none';\n",
              "\n",
              "        async function convertToInteractive(key) {\n",
              "          const element = document.querySelector('#df-0a8bfad3-6d15-4628-84c3-527745263a49');\n",
              "          const dataTable =\n",
              "            await google.colab.kernel.invokeFunction('convertToInteractive',\n",
              "                                                     [key], {});\n",
              "          if (!dataTable) return;\n",
              "\n",
              "          const docLinkHtml = 'Like what you see? Visit the ' +\n",
              "            '<a target=\"_blank\" href=https://colab.research.google.com/notebooks/data_table.ipynb>data table notebook</a>'\n",
              "            + ' to learn more about interactive tables.';\n",
              "          element.innerHTML = '';\n",
              "          dataTable['output_type'] = 'display_data';\n",
              "          await google.colab.output.renderOutput(dataTable, element);\n",
              "          const docLink = document.createElement('div');\n",
              "          docLink.innerHTML = docLinkHtml;\n",
              "          element.appendChild(docLink);\n",
              "        }\n",
              "      </script>\n",
              "    </div>\n",
              "  </div>\n",
              "  "
            ]
          },
          "metadata": {},
          "execution_count": 234
        }
      ]
    },
    {
      "cell_type": "code",
      "source": [
        "sample_worksteps=\"Panel above seat and has fallen off\"\n",
        "sample_preds=loaded_model.predict([sample_worksteps])\n"
      ],
      "metadata": {
        "colab": {
          "base_uri": "https://localhost:8080/",
          "height": 588
        },
        "id": "U_gcVD_I7v0k",
        "outputId": "b867f1ae-99fd-4de6-c973-83ec970d22c5"
      },
      "execution_count": 235,
      "outputs": [
        {
          "output_type": "error",
          "ename": "ValueError",
          "evalue": "ignored",
          "traceback": [
            "\u001b[0;31m---------------------------------------------------------------------------\u001b[0m",
            "\u001b[0;31mValueError\u001b[0m                                Traceback (most recent call last)",
            "\u001b[0;32m<ipython-input-235-1cebff83d428>\u001b[0m in \u001b[0;36m<module>\u001b[0;34m\u001b[0m\n\u001b[1;32m      1\u001b[0m \u001b[0msample_worksteps\u001b[0m\u001b[0;34m=\u001b[0m\u001b[0;34m\"Panel above seat and has fallen off\"\u001b[0m\u001b[0;34m\u001b[0m\u001b[0;34m\u001b[0m\u001b[0m\n\u001b[0;32m----> 2\u001b[0;31m \u001b[0msample_preds\u001b[0m\u001b[0;34m=\u001b[0m\u001b[0mloaded_model\u001b[0m\u001b[0;34m.\u001b[0m\u001b[0mpredict\u001b[0m\u001b[0;34m(\u001b[0m\u001b[0;34m[\u001b[0m\u001b[0msample_worksteps\u001b[0m\u001b[0;34m]\u001b[0m\u001b[0;34m)\u001b[0m\u001b[0;34m\u001b[0m\u001b[0;34m\u001b[0m\u001b[0m\n\u001b[0m",
            "\u001b[0;32m/usr/local/lib/python3.7/dist-packages/keras/utils/traceback_utils.py\u001b[0m in \u001b[0;36merror_handler\u001b[0;34m(*args, **kwargs)\u001b[0m\n\u001b[1;32m     65\u001b[0m     \u001b[0;32mexcept\u001b[0m \u001b[0mException\u001b[0m \u001b[0;32mas\u001b[0m \u001b[0me\u001b[0m\u001b[0;34m:\u001b[0m  \u001b[0;31m# pylint: disable=broad-except\u001b[0m\u001b[0;34m\u001b[0m\u001b[0;34m\u001b[0m\u001b[0m\n\u001b[1;32m     66\u001b[0m       \u001b[0mfiltered_tb\u001b[0m \u001b[0;34m=\u001b[0m \u001b[0m_process_traceback_frames\u001b[0m\u001b[0;34m(\u001b[0m\u001b[0me\u001b[0m\u001b[0;34m.\u001b[0m\u001b[0m__traceback__\u001b[0m\u001b[0;34m)\u001b[0m\u001b[0;34m\u001b[0m\u001b[0;34m\u001b[0m\u001b[0m\n\u001b[0;32m---> 67\u001b[0;31m       \u001b[0;32mraise\u001b[0m \u001b[0me\u001b[0m\u001b[0;34m.\u001b[0m\u001b[0mwith_traceback\u001b[0m\u001b[0;34m(\u001b[0m\u001b[0mfiltered_tb\u001b[0m\u001b[0;34m)\u001b[0m \u001b[0;32mfrom\u001b[0m \u001b[0;32mNone\u001b[0m\u001b[0;34m\u001b[0m\u001b[0;34m\u001b[0m\u001b[0m\n\u001b[0m\u001b[1;32m     68\u001b[0m     \u001b[0;32mfinally\u001b[0m\u001b[0;34m:\u001b[0m\u001b[0;34m\u001b[0m\u001b[0;34m\u001b[0m\u001b[0m\n\u001b[1;32m     69\u001b[0m       \u001b[0;32mdel\u001b[0m \u001b[0mfiltered_tb\u001b[0m\u001b[0;34m\u001b[0m\u001b[0;34m\u001b[0m\u001b[0m\n",
            "\u001b[0;32m/usr/local/lib/python3.7/dist-packages/tensorflow/python/framework/func_graph.py\u001b[0m in \u001b[0;36mautograph_handler\u001b[0;34m(*args, **kwargs)\u001b[0m\n\u001b[1;32m   1145\u001b[0m           \u001b[0;32mexcept\u001b[0m \u001b[0mException\u001b[0m \u001b[0;32mas\u001b[0m \u001b[0me\u001b[0m\u001b[0;34m:\u001b[0m  \u001b[0;31m# pylint:disable=broad-except\u001b[0m\u001b[0;34m\u001b[0m\u001b[0;34m\u001b[0m\u001b[0m\n\u001b[1;32m   1146\u001b[0m             \u001b[0;32mif\u001b[0m \u001b[0mhasattr\u001b[0m\u001b[0;34m(\u001b[0m\u001b[0me\u001b[0m\u001b[0;34m,\u001b[0m \u001b[0;34m\"ag_error_metadata\"\u001b[0m\u001b[0;34m)\u001b[0m\u001b[0;34m:\u001b[0m\u001b[0;34m\u001b[0m\u001b[0;34m\u001b[0m\u001b[0m\n\u001b[0;32m-> 1147\u001b[0;31m               \u001b[0;32mraise\u001b[0m \u001b[0me\u001b[0m\u001b[0;34m.\u001b[0m\u001b[0mag_error_metadata\u001b[0m\u001b[0;34m.\u001b[0m\u001b[0mto_exception\u001b[0m\u001b[0;34m(\u001b[0m\u001b[0me\u001b[0m\u001b[0;34m)\u001b[0m\u001b[0;34m\u001b[0m\u001b[0;34m\u001b[0m\u001b[0m\n\u001b[0m\u001b[1;32m   1148\u001b[0m             \u001b[0;32melse\u001b[0m\u001b[0;34m:\u001b[0m\u001b[0;34m\u001b[0m\u001b[0;34m\u001b[0m\u001b[0m\n\u001b[1;32m   1149\u001b[0m               \u001b[0;32mraise\u001b[0m\u001b[0;34m\u001b[0m\u001b[0;34m\u001b[0m\u001b[0m\n",
            "\u001b[0;31mValueError\u001b[0m: in user code:\n\n    File \"/usr/local/lib/python3.7/dist-packages/keras/engine/training.py\", line 1801, in predict_function  *\n        return step_function(self, iterator)\n    File \"/usr/local/lib/python3.7/dist-packages/keras/engine/training.py\", line 1790, in step_function  **\n        outputs = model.distribute_strategy.run(run_step, args=(data,))\n    File \"/usr/local/lib/python3.7/dist-packages/keras/engine/training.py\", line 1783, in run_step  **\n        outputs = model.predict_step(data)\n    File \"/usr/local/lib/python3.7/dist-packages/keras/engine/training.py\", line 1751, in predict_step\n        return self(x, training=False)\n    File \"/usr/local/lib/python3.7/dist-packages/keras/utils/traceback_utils.py\", line 67, in error_handler\n        raise e.with_traceback(filtered_tb) from None\n    File \"/usr/local/lib/python3.7/dist-packages/keras/engine/input_spec.py\", line 200, in assert_input_compatibility\n        raise ValueError(f'Layer \"{layer_name}\" expects {len(input_spec)} input(s),'\n\n    ValueError: Layer \"model_4_token\" expects 2 input(s), but it received 1 input tensors. Inputs received: [<tf.Tensor 'IteratorGetNext:0' shape=(None,) dtype=string>]\n"
          ]
        }
      ]
    },
    {
      "cell_type": "code",
      "source": [],
      "metadata": {
        "id": "zQbBjoNUfcQB"
      },
      "execution_count": null,
      "outputs": []
    }
  ]
}